{
 "cells": [
  {
   "cell_type": "markdown",
   "metadata": {},
   "source": [
    "# Spark demo : Part I #\n",
    "\n",
    "In this lab, we will introduce some of Spark's capabilities."
   ]
  },
  {
   "cell_type": "code",
   "execution_count": 0,
   "metadata": {
    "collapsed": false
   },
   "outputs": [],
   "source": [
    "sc"
   ]
  },
  {
   "cell_type": "code",
   "execution_count": 0,
   "metadata": {
    "collapsed": false
   },
   "outputs": [],
   "source": [
    "my_rdd = sc.textFile('./data/ai.stackexchange.com/Posts.xml')\n",
    "my_rdd"
   ]
  },
  {
   "cell_type": "code",
   "execution_count": 0,
   "metadata": {
    "collapsed": true
   },
   "outputs": [],
   "source": [
    "??sc.textFile"
   ]
  },
  {
   "cell_type": "code",
   "execution_count": 0,
   "metadata": {
    "collapsed": false,
    "scrolled": false
   },
   "outputs": [],
   "source": [
    "my_rdd \\\n",
    "    .take(5)\n",
    "    #     .sample(True, .01) \\\n",
    "#     .take(5)"
   ]
  },
  {
   "cell_type": "code",
   "execution_count": 0,
   "metadata": {
    "collapsed": false
   },
   "outputs": [],
   "source": [
    "my_rdd.count()"
   ]
  },
  {
   "cell_type": "code",
   "execution_count": 0,
   "metadata": {
    "collapsed": false
   },
   "outputs": [],
   "source": [
    "import re\n",
    "\n",
    "def is_post_row(line):\n",
    "    return re.match('  <row Id=', line) != None\n",
    "\n",
    "# my_rdd.map(is_post_row).take(20)\n",
    "\n",
    "# my_rdd.filter(lambda x: is_post_row(x)==False).collect()\n",
    "\n",
    "row_rdd = my_rdd \\\n",
    "    .filter(is_post_row)\n",
    "\n",
    "test_rows = row_rdd.take(20)\n",
    "\n",
    "row_rdd.count()"
   ]
  },
  {
   "cell_type": "code",
   "execution_count": 0,
   "metadata": {
    "collapsed": false
   },
   "outputs": [],
   "source": [
    "is_post_row(\"hello!\")"
   ]
  },
  {
   "cell_type": "code",
   "execution_count": 0,
   "metadata": {
    "collapsed": false
   },
   "outputs": [],
   "source": [
    "is_post_row(test_rows[10])"
   ]
  },
  {
   "cell_type": "code",
   "execution_count": 0,
   "metadata": {
    "collapsed": false
   },
   "outputs": [],
   "source": [
    "test_rows"
   ]
  },
  {
   "cell_type": "code",
   "execution_count": 0,
   "metadata": {
    "collapsed": false
   },
   "outputs": [],
   "source": [
    "def extract_post_type_id(line):\n",
    "    matches = re.findall('PostTypeId=\"(\\d+)\"', line)\n",
    "    return int(matches[0])\n",
    "\n",
    "my_rdd \\\n",
    "    .filter(is_post_row) \\\n",
    "    .map(extract_post_type_id) \\\n",
    "    .take(10)"
   ]
  },
  {
   "cell_type": "code",
   "execution_count": 0,
   "metadata": {
    "collapsed": false
   },
   "outputs": [],
   "source": [
    "my_rdd \\\n",
    "    .filter(is_post_row) \\\n",
    "    .map(extract_post_type_id)"
   ]
  },
  {
   "cell_type": "code",
   "execution_count": 0,
   "metadata": {
    "collapsed": false
   },
   "outputs": [],
   "source": [
    "type_counts = my_rdd \\\n",
    "    .filter(is_post_row) \\\n",
    "    .map(extract_post_type_id) \\\n",
    "    .map(lambda x: (x, 1)) \\\n",
    "    .reduceByKey(lambda x, y: x+y) \\\n",
    "    .sortByKey() \\\n",
    "    .collect()\n",
    "    \n",
    "for tc in type_counts:\n",
    "    print tc"
   ]
  },
  {
   "cell_type": "code",
   "execution_count": 0,
   "metadata": {
    "collapsed": false
   },
   "outputs": [],
   "source": [
    "%matplotlib inline\n",
    "\n",
    "import matplotlib\n",
    "import numpy as np\n",
    "import matplotlib.pyplot as plt\n",
    "\n",
    "x, y = zip(*type_counts)\n",
    "plt.bar(x, y)\n",
    "plt.title(\"PostTypeID frequency counts\")\n",
    "plt.xlabel(\"PostTypeID\")\n",
    "plt.ylabel(\"Frequency\")"
   ]
  },
  {
   "cell_type": "code",
   "execution_count": 0,
   "metadata": {
    "collapsed": false,
    "scrolled": false
   },
   "outputs": [],
   "source": [
    "import datetime\n",
    "\n",
    "def extract_date(line):\n",
    "    matches = re.findall('CreationDate=\\\"(\\d{4})-(\\d{2})-(\\d{2})', line)\n",
    "    y, m, d = matches[0]\n",
    "    dt = datetime.date(int(y), int(m), int(d))\n",
    "    return dt\n",
    "\n",
    "[extract_date(row) for row in test_rows]\n",
    "\n",
    "date_counts = row_rdd \\\n",
    "    .map(extract_date) \\\n",
    "    .map(lambda date: (date, 1)) \\\n",
    "    .reduceByKey( lambda x, y: x+y) \\\n",
    "    .sortByKey() \\\n",
    "    .collect()\n",
    "\n",
    "print date_counts[:10]"
   ]
  },
  {
   "cell_type": "code",
   "execution_count": 0,
   "metadata": {
    "collapsed": false,
    "scrolled": false
   },
   "outputs": [],
   "source": [
    "x, y = zip(*date_counts)\n",
    "plt.bar(x, y)\n",
    "plt.title(\"Posts by day\")\n",
    "plt.xlabel(\"Date\")\n",
    "plt.ylabel(\"Frequency\")"
   ]
  },
  {
   "cell_type": "markdown",
   "metadata": {
    "collapsed": true
   },
   "source": [
    "### Exercise 1 ###\n",
    "- Write a regular-expression-based function to parse the \"Score\" field in each row.\n",
    "- What is the range of values for Score?\n",
    "- Which are most common?\n",
    "- Create a bar chart to show the distribution of Score frequencies."
   ]
  },
  {
   "cell_type": "markdown",
   "metadata": {},
   "source": [
    "### Exercise 2 ###\n",
    "- Write a regular-expression-based function to parse the \"ViewCount\" field in each row.\n",
    "- Write an RDD to compute the average ViewCount.\n",
    "- Create a line plot to show the distribution of ViewCount frequencies."
   ]
  },
  {
   "cell_type": "markdown",
   "metadata": {},
   "source": [
    "### Exercise 3 ###\n",
    "- Write a new RDD to parse ViewCount, Score, FavoriteCount, and Date, all within the row value.\n",
    "- Create a scatter plot to show the relationship of ViewCounts and Scores.\n",
    "- Write a different RDD to compute the average ViewCount, grouped by Score."
   ]
  }
 ],
 "metadata": {
  "kernelspec": {
   "display_name": "Python 2",
   "language": "python",
   "name": "python2"
  },
  "language_info": {
   "codemirror_mode": {
    "name": "ipython",
    "version": 2
   },
   "file_extension": ".py",
   "mimetype": "text/x-python",
   "name": "python",
   "nbconvert_exporter": "python",
   "pygments_lexer": "ipython2",
   "version": "2.7.13"
  }
 },
 "nbformat": 4,
 "nbformat_minor": 2
}
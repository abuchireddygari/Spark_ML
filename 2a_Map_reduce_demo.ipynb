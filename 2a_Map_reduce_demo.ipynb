{
 "cells": [
  {
   "cell_type": "markdown",
   "metadata": {
    "deletable": true,
    "editable": true
   },
   "source": [
    "# Map-reduce in pure python #\n",
    "\n",
    "Let's get comfortable with map reduce in pure python (no Spark!).\n",
    "\n",
    "We're going to define our own map-reduce functions, then use python `for` loops to execute them. We'll inspect the output at each stage."
   ]
  },
  {
   "cell_type": "markdown",
   "metadata": {
    "deletable": true,
    "editable": true
   },
   "source": [
    "Here are functions for counting letters in a string."
   ]
  },
  {
   "cell_type": "code",
   "execution_count": 1,
   "metadata": {
    "collapsed": true,
    "deletable": true,
    "editable": true
   },
   "outputs": [],
   "source": [
    "def my_map_function(x):\n",
    "    return (x, 1)\n",
    "\n",
    "def my_key_function(x):\n",
    "    return x[0]\n",
    "\n",
    "def my_reduce_function(x, y):\n",
    "    return (x[0], x[1]+y[1])"
   ]
  },
  {
   "cell_type": "markdown",
   "metadata": {
    "deletable": true,
    "editable": true
   },
   "source": [
    "Here's a nice string."
   ]
  },
  {
   "cell_type": "code",
   "execution_count": 2,
   "metadata": {
    "collapsed": false,
    "deletable": true,
    "editable": true
   },
   "outputs": [
    {
     "data": {
      "text/plain": [
       "['a',\n",
       " ' ',\n",
       " 'm',\n",
       " 'a',\n",
       " 'n',\n",
       " ' ',\n",
       " 'a',\n",
       " ' ',\n",
       " 'p',\n",
       " 'l',\n",
       " 'a',\n",
       " 'n',\n",
       " ' ',\n",
       " 'a',\n",
       " ' ',\n",
       " 'c',\n",
       " 'a',\n",
       " 'n',\n",
       " 'a',\n",
       " 'l',\n",
       " ' ',\n",
       " 'p',\n",
       " 'a',\n",
       " 'n',\n",
       " 'a',\n",
       " 'm',\n",
       " 'a']"
      ]
     },
     "execution_count": 2,
     "metadata": {},
     "output_type": "execute_result"
    }
   ],
   "source": [
    "my_list = list(\"a man a plan a canal panama\")\n",
    "my_list"
   ]
  },
  {
   "cell_type": "markdown",
   "metadata": {
    "deletable": true,
    "editable": true
   },
   "source": [
    "Let's plug those into code that executes a map reduce."
   ]
  },
  {
   "cell_type": "code",
   "execution_count": 4,
   "metadata": {
    "collapsed": false,
    "deletable": true,
    "editable": true
   },
   "outputs": [
    {
     "data": {
      "text/plain": [
       "[('a', 1),\n",
       " (' ', 1),\n",
       " ('m', 1),\n",
       " ('a', 1),\n",
       " ('n', 1),\n",
       " (' ', 1),\n",
       " ('a', 1),\n",
       " (' ', 1),\n",
       " ('p', 1),\n",
       " ('l', 1),\n",
       " ('a', 1),\n",
       " ('n', 1),\n",
       " (' ', 1),\n",
       " ('a', 1),\n",
       " (' ', 1),\n",
       " ('c', 1),\n",
       " ('a', 1),\n",
       " ('n', 1),\n",
       " ('a', 1),\n",
       " ('l', 1),\n",
       " (' ', 1),\n",
       " ('p', 1),\n",
       " ('a', 1),\n",
       " ('n', 1),\n",
       " ('a', 1),\n",
       " ('m', 1),\n",
       " ('a', 1)]"
      ]
     },
     "execution_count": 4,
     "metadata": {},
     "output_type": "execute_result"
    }
   ],
   "source": [
    "new_list = []\n",
    "for element in my_list:\n",
    "    new_list.append(\n",
    "        my_map_function(element)\n",
    "    )\n",
    "new_list"
   ]
  },
  {
   "cell_type": "code",
   "execution_count": 5,
   "metadata": {
    "collapsed": false,
    "deletable": true,
    "editable": true
   },
   "outputs": [
    {
     "name": "stdout",
     "output_type": "stream",
     "text": [
      "a : [('a', 1), ('a', 1), ('a', 1), ('a', 1), ('a', 1), ('a', 1), ('a', 1), ('a', 1), ('a', 1), ('a', 1)]\n",
      "  : [(' ', 1), (' ', 1), (' ', 1), (' ', 1), (' ', 1), (' ', 1)]\n",
      "c : [('c', 1)]\n",
      "m : [('m', 1), ('m', 1)]\n",
      "l : [('l', 1), ('l', 1)]\n",
      "n : [('n', 1), ('n', 1), ('n', 1), ('n', 1)]\n",
      "p : [('p', 1), ('p', 1)]\n"
     ]
    }
   ],
   "source": [
    "reducers = {}\n",
    "for element in new_list:\n",
    "    key = my_key_function(element)\n",
    "    \n",
    "    if not key in reducers:\n",
    "        reducers[key] = []\n",
    "    \n",
    "    reducers[key].append(element)\n",
    "\n",
    "for key, value in reducers.items():\n",
    "    print key, ':', value"
   ]
  },
  {
   "cell_type": "code",
   "execution_count": 6,
   "metadata": {
    "collapsed": false,
    "deletable": true,
    "editable": true
   },
   "outputs": [
    {
     "name": "stdout",
     "output_type": "stream",
     "text": [
      "a : ('a', 10)\n",
      "  : (' ', 6)\n",
      "c : ('c', 1)\n",
      "m : ('m', 2)\n",
      "l : ('l', 2)\n",
      "n : ('n', 4)\n",
      "p : ('p', 2)\n"
     ]
    }
   ],
   "source": [
    "reducer_results = {}\n",
    "for key, value_list in reducers.items():\n",
    "#     print key, value_list\n",
    "    reducer_results[key] = value_list[0]\n",
    "    for value in value_list[1:]:\n",
    "#         print value\n",
    "        reducer_results[key] = my_reduce_function(reducer_results[key], value)\n",
    "\n",
    "for key, value in reducer_results.items():\n",
    "    print key, ':', value"
   ]
  },
  {
   "cell_type": "code",
   "execution_count": 7,
   "metadata": {
    "collapsed": false,
    "deletable": true,
    "editable": true
   },
   "outputs": [
    {
     "data": {
      "text/plain": [
       "[('a', 10), (' ', 6), ('c', 1), ('m', 2), ('l', 2), ('n', 4), ('p', 2)]"
      ]
     },
     "execution_count": 7,
     "metadata": {},
     "output_type": "execute_result"
    }
   ],
   "source": [
    "final_results = reducer_results.values()\n",
    "final_results"
   ]
  },
  {
   "cell_type": "markdown",
   "metadata": {
    "deletable": true,
    "editable": true
   },
   "source": [
    "Let's put that all in a single function:"
   ]
  },
  {
   "cell_type": "code",
   "execution_count": 8,
   "metadata": {
    "collapsed": false,
    "deletable": true,
    "editable": true
   },
   "outputs": [],
   "source": [
    "def execute_map_reduce(my_map_function, my_key_function, my_reduce_function, my_list, print_output=True):\n",
    "    if print_output:\n",
    "        print \"===== Raw data =====\"\n",
    "        print my_list\n",
    "\n",
    "\n",
    "    new_list = []\n",
    "    for element in my_list:\n",
    "        new_list.append(\n",
    "            my_map_function(element)\n",
    "        )\n",
    "    if print_output:\n",
    "        print \"===== After mapping =====\"\n",
    "        print new_list\n",
    "\n",
    "    reducers = {}\n",
    "    for element in new_list:\n",
    "        key = my_key_function(element)\n",
    "\n",
    "        if not key in reducers:\n",
    "            reducers[key] = []\n",
    "\n",
    "        reducers[key].append(element)\n",
    "\n",
    "    if print_output:\n",
    "        print \"===== Grouped for reducing =====\"\n",
    "        for key, value in reducers.items():\n",
    "            print key, ':', value\n",
    "\n",
    "    reducer_results = {}\n",
    "    for key, value_list in reducers.items():\n",
    "    #     print key, value_list\n",
    "        reducer_results[key] = value_list[0]\n",
    "        for value in value_list[1:]:\n",
    "    #         print value\n",
    "            reducer_results[key] = my_reduce_function(reducer_results[key], value)\n",
    "\n",
    "    if print_output:\n",
    "        print \"===== After reducing =====\"\n",
    "        for key, value in reducer_results.items():\n",
    "            print key, ':', value\n",
    "\n",
    "\n",
    "    final_results = reducer_results.values()\n",
    "    if print_output:\n",
    "        print \"===== Final results =====\"\n",
    "        print final_results\n",
    "    \n",
    "    return final_results"
   ]
  },
  {
   "cell_type": "markdown",
   "metadata": {
    "deletable": true,
    "editable": true
   },
   "source": [
    "Test it out:"
   ]
  },
  {
   "cell_type": "code",
   "execution_count": 9,
   "metadata": {
    "collapsed": false,
    "deletable": true,
    "editable": true
   },
   "outputs": [
    {
     "name": "stdout",
     "output_type": "stream",
     "text": [
      "===== Raw data =====\n",
      "['a', ' ', 'm', 'a', 'n', ' ', 'a', ' ', 'p', 'l', 'a', 'n', ' ', 'a', ' ', 'c', 'a', 'n', 'a', 'l', ' ', 'p', 'a', 'n', 'a', 'm', 'a']\n",
      "===== After mapping =====\n",
      "[('a', 1), (' ', 1), ('m', 1), ('a', 1), ('n', 1), (' ', 1), ('a', 1), (' ', 1), ('p', 1), ('l', 1), ('a', 1), ('n', 1), (' ', 1), ('a', 1), (' ', 1), ('c', 1), ('a', 1), ('n', 1), ('a', 1), ('l', 1), (' ', 1), ('p', 1), ('a', 1), ('n', 1), ('a', 1), ('m', 1), ('a', 1)]\n",
      "===== Grouped for reducing =====\n",
      "a : [('a', 1), ('a', 1), ('a', 1), ('a', 1), ('a', 1), ('a', 1), ('a', 1), ('a', 1), ('a', 1), ('a', 1)]\n",
      "  : [(' ', 1), (' ', 1), (' ', 1), (' ', 1), (' ', 1), (' ', 1)]\n",
      "c : [('c', 1)]\n",
      "m : [('m', 1), ('m', 1)]\n",
      "l : [('l', 1), ('l', 1)]\n",
      "n : [('n', 1), ('n', 1), ('n', 1), ('n', 1)]\n",
      "p : [('p', 1), ('p', 1)]\n",
      "===== After reducing =====\n",
      "a : ('a', 10)\n",
      "  : (' ', 6)\n",
      "c : ('c', 1)\n",
      "m : ('m', 2)\n",
      "l : ('l', 2)\n",
      "n : ('n', 4)\n",
      "p : ('p', 2)\n",
      "===== Final results =====\n",
      "[('a', 10), (' ', 6), ('c', 1), ('m', 2), ('l', 2), ('n', 4), ('p', 2)]\n"
     ]
    }
   ],
   "source": [
    "output = execute_map_reduce(my_map_function, my_key_function, my_reduce_function, my_list)"
   ]
  },
  {
   "cell_type": "code",
   "execution_count": 10,
   "metadata": {
    "collapsed": false,
    "deletable": true,
    "editable": true
   },
   "outputs": [
    {
     "data": {
      "text/plain": [
       "[(' ', 8),\n",
       " ('T', 1),\n",
       " ('a', 1),\n",
       " ('c', 1),\n",
       " ('b', 1),\n",
       " ('e', 4),\n",
       " ('d', 2),\n",
       " ('g', 1),\n",
       " ('f', 1),\n",
       " ('i', 1),\n",
       " ('h', 2),\n",
       " ('k', 1),\n",
       " ('j', 1),\n",
       " ('m', 1),\n",
       " ('l', 1),\n",
       " ('o', 4),\n",
       " ('n', 1),\n",
       " ('q', 1),\n",
       " ('p', 1),\n",
       " ('r', 2),\n",
       " ('u', 2),\n",
       " ('t', 1),\n",
       " ('w', 1),\n",
       " ('v', 1),\n",
       " ('y', 1),\n",
       " ('x', 1),\n",
       " ('z', 1)]"
      ]
     },
     "execution_count": 10,
     "metadata": {},
     "output_type": "execute_result"
    }
   ],
   "source": [
    "execute_map_reduce(\n",
    "    my_map_function,\n",
    "    my_key_function,\n",
    "    my_reduce_function,\n",
    "    \"The quick brown fox jumped over the lazy dog\",\n",
    "    print_output=False\n",
    ")"
   ]
  },
  {
   "cell_type": "markdown",
   "metadata": {
    "deletable": true,
    "editable": true
   },
   "source": [
    "Let's try a different mapper."
   ]
  },
  {
   "cell_type": "code",
   "execution_count": 11,
   "metadata": {
    "collapsed": false,
    "deletable": true,
    "editable": true
   },
   "outputs": [
    {
     "name": "stdout",
     "output_type": "stream",
     "text": [
      "With the old mapper:\n",
      "[('A', 3), ('a', 3)]\n",
      "\n",
      "With the lowercase mapper:\n",
      "[('a', 6)]\n"
     ]
    }
   ],
   "source": [
    "def lowercase_map_function(x):\n",
    "    return (x.lower(), 1)\n",
    "\n",
    "print 'With the old mapper:'\n",
    "print execute_map_reduce(my_map_function, my_key_function, my_reduce_function, \"AAAaaa\", print_output=False)\n",
    "\n",
    "print\n",
    "print 'With the lowercase mapper:'\n",
    "print execute_map_reduce(lowercase_map_function, my_key_function, my_reduce_function, \"AAAaaa\", print_output=False)\n"
   ]
  },
  {
   "cell_type": "markdown",
   "metadata": {
    "deletable": true,
    "editable": true
   },
   "source": [
    "### Exercise 1 ###\n",
    "\n",
    "Take a look a these map-reduce functions. What are they doing?\n",
    "\n",
    "- With a neighbor, explain what these functions are doing.\n",
    "- What is the expected output for each of these cases? Write your guesses before running the code.\n",
    "    - \"AAAAa\"\n",
    "    - \"BBBBbbb\"\n",
    "    - \"abbcccddddeeeeeffffffggggggghhhhhhhhiiiiiiiiijjjjjjjjjj\"\n",
    "    - \"a man a plan a canal panama\""
   ]
  },
  {
   "cell_type": "code",
   "execution_count": 13,
   "metadata": {
    "collapsed": false,
    "deletable": true,
    "editable": true
   },
   "outputs": [
    {
     "name": "stdout",
     "output_type": "stream",
     "text": [
      "===== Raw data =====\n",
      "aaabbb\n",
      "===== After mapping =====\n",
      "[('a', (True, 2)), ('a', (True, 2)), ('a', (True, 2)), ('b', (False, 2)), ('b', (False, 2)), ('b', (False, 2))]\n",
      "===== Grouped for reducing =====\n",
      "a : [('a', (True, 2)), ('a', (True, 2)), ('a', (True, 2))]\n",
      "b : [('b', (False, 2)), ('b', (False, 2)), ('b', (False, 2))]\n",
      "('a', (True, 2)) ('a', (True, 2))\n",
      "('a', (True, 4)) ('a', (True, 2))\n",
      "('b', (False, 2)) ('b', (False, 2))\n",
      "('b', (False, 4)) ('b', (False, 2))\n",
      "===== After reducing =====\n",
      "a : ('a', (True, 8))\n",
      "b : ('b', (False, 6))\n",
      "===== Final results =====\n",
      "[('a', (True, 8)), ('b', (False, 6))]\n"
     ]
    }
   ],
   "source": [
    "def exercise_1_mapper(x):\n",
    "    is_vowel = x in list(\"aeiouyAEIOUY\")\n",
    "    return (x, (is_vowel, 2))\n",
    "\n",
    "def exercise_1_reducer(x, y):\n",
    "    print x, y\n",
    "    if x[1][0]:\n",
    "        return (x[0], (x[1][0], x[1][1]*y[1][1]))\n",
    "    else:\n",
    "        return (x[0], (x[1][0], x[1][1]+y[1][1]))\n",
    "\n",
    "_ = execute_map_reduce(\n",
    "    exercise_1_mapper,\n",
    "    my_key_function,\n",
    "    exercise_1_reducer,\n",
    "    \"aaabbb\",\n",
    "#     print_output=False\n",
    ")\n"
   ]
  },
  {
   "cell_type": "markdown",
   "metadata": {
    "deletable": true,
    "editable": true
   },
   "source": [
    "### Exercise 2 ###\n",
    "\n",
    "Write new map-reduce functions so that uppercase letters count for 5 points, and lowercase letters only count for 1.\n",
    "```\n",
    "\"a\" => [(a, 1),(b,2)]\n",
    "\"A\" => [(a, 5),(b,2)]\n",
    "\"AaBbB\" => [(a, 2),(b,2)]\n",
    "```\n",
    "\n",
    "Hint: One of our existing reducers cover this case, so you only need to rewrite the mapper.\n"
   ]
  },
  {
   "cell_type": "code",
   "execution_count": 16,
   "metadata": {
    "collapsed": false,
    "deletable": true,
    "editable": true
   },
   "outputs": [
    {
     "name": "stdout",
     "output_type": "stream",
     "text": [
      "===== Raw data =====\n",
      "aaaAbbb\n",
      "===== After mapping =====\n",
      "[('a', (False, 1)), ('a', (False, 1)), ('a', (False, 1)), ('a', (True, 5)), ('b', (False, 1)), ('b', (False, 1)), ('b', (False, 1))]\n",
      "===== Grouped for reducing =====\n",
      "a : [('a', (False, 1)), ('a', (False, 1)), ('a', (False, 1)), ('a', (True, 5))]\n",
      "b : [('b', (False, 1)), ('b', (False, 1)), ('b', (False, 1))]\n",
      "('a', (False, 1)) ('a', (False, 1))\n",
      "('a', (False, 2)) ('a', (False, 1))\n",
      "('a', (False, 3)) ('a', (True, 5))\n",
      "('b', (False, 1)) ('b', (False, 1))\n",
      "('b', (False, 2)) ('b', (False, 1))\n",
      "===== After reducing =====\n",
      "a : ('a', (False, 8))\n",
      "b : ('b', (False, 3))\n",
      "===== Final results =====\n",
      "[('a', (False, 8)), ('b', (False, 3))]\n"
     ]
    }
   ],
   "source": [
    "def exercise_1_mapper(x):\n",
    "    is_uppercase_letter = x.isupper()\n",
    "    if(is_uppercase_letter):\n",
    "        return (x.lower(), (is_uppercase_letter, 5))\n",
    "    else:\n",
    "        return (x, (is_uppercase_letter, 1))\n",
    "\n",
    "def exercise_1_reducer(x, y):\n",
    "    print x, y\n",
    "    #if x[1][0]:\n",
    "        #return (x[0], (x[1][0], x[1][1]*y[1][1]))\n",
    "    #else:\n",
    "    return (x[0], (x[1][0], x[1][1]+y[1][1]))\n",
    "\n",
    "_ = execute_map_reduce(\n",
    "    exercise_1_mapper,\n",
    "    my_key_function,\n",
    "    exercise_1_reducer,\n",
    "    \"aaaAbbb\",\n",
    "#     print_output=False\n",
    ")"
   ]
  },
  {
   "cell_type": "markdown",
   "metadata": {
    "deletable": true,
    "editable": true
   },
   "source": [
    "### Exercise 3 ###\n",
    "\n",
    "The output from exercise 1 has an extra Boolean field.\n",
    "\n",
    "```\n",
    "aaabbb => [('a', (True, 8)), ('b', (False, 6))]\n",
    "```\n",
    "\n",
    "Can you write another map-reduce function that takes the output of the first map-reduce and gets rid the boolean field?\n",
    "\n",
    "```\n",
    "[('a', (True, 8)), ('b', (False, 6))] ==> [('a', 8), ('b', 6)]\n",
    "```\n"
   ]
  },
  {
   "cell_type": "code",
   "execution_count": 17,
   "metadata": {
    "collapsed": false,
    "deletable": true,
    "editable": true
   },
   "outputs": [
    {
     "name": "stdout",
     "output_type": "stream",
     "text": [
      "===== Raw data =====\n",
      "aaaAbbb\n",
      "===== After mapping =====\n",
      "[('a', 1), ('a', 1), ('a', 1), ('a', 5), ('b', 1), ('b', 1), ('b', 1)]\n",
      "===== Grouped for reducing =====\n",
      "a : [('a', 1), ('a', 1), ('a', 1), ('a', 5)]\n",
      "b : [('b', 1), ('b', 1), ('b', 1)]\n",
      "('a', 1) ('a', 1)\n",
      "('a', 2) ('a', 1)\n",
      "('a', 3) ('a', 5)\n",
      "('b', 1) ('b', 1)\n",
      "('b', 2) ('b', 1)\n",
      "===== After reducing =====\n",
      "a : ('a', 8)\n",
      "b : ('b', 3)\n",
      "===== Final results =====\n",
      "[('a', 8), ('b', 3)]\n"
     ]
    }
   ],
   "source": [
    "def exercise_1_mapper(x):\n",
    "    is_uppercase_letter = x.isupper()\n",
    "    if(is_uppercase_letter):\n",
    "        return (x.lower(),  5)\n",
    "    else:\n",
    "        return (x,  1)\n",
    "\n",
    "def exercise_1_reducer(x, y):\n",
    "    print x, y\n",
    "    #if x[1][0]:\n",
    "        #return (x[0], (x[1][0], x[1][1]*y[1][1]))\n",
    "    #else:\n",
    "    return (x[0], x[1]+y[1])\n",
    "\n",
    "_ = execute_map_reduce(\n",
    "    exercise_1_mapper,\n",
    "    my_key_function,\n",
    "    exercise_1_reducer,\n",
    "    \"aaaAbbb\",\n",
    "#     print_output=False\n",
    ")"
   ]
  },
  {
   "cell_type": "code",
   "execution_count": null,
   "metadata": {
    "collapsed": true
   },
   "outputs": [],
   "source": []
  }
 ],
 "metadata": {
  "kernelspec": {
   "display_name": "Python 2",
   "language": "python",
   "name": "python2"
  },
  "language_info": {
   "codemirror_mode": {
    "name": "ipython",
    "version": 2
   },
   "file_extension": ".py",
   "mimetype": "text/x-python",
   "name": "python",
   "nbconvert_exporter": "python",
   "pygments_lexer": "ipython2",
   "version": "2.7.13"
  }
 },
 "nbformat": 4,
 "nbformat_minor": 2
}

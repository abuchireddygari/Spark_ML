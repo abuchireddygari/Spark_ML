{
 "cells": [
  {
   "cell_type": "markdown",
   "metadata": {
    "deletable": true,
    "editable": true
   },
   "source": [
    "# Intro to RDDS #\n",
    "\n",
    "In this lab, we will introduce RDDs and Spark's core operations. Along the way, we'll get familiar with pyspark, notebooks, and the SparkContext.\n",
    "\n",
    "Let's start by making sure we have a valid SparkContext."
   ]
  },
  {
   "cell_type": "code",
   "execution_count": 32,
   "metadata": {
    "collapsed": false,
    "deletable": true,
    "editable": true
   },
   "outputs": [
    {
     "data": {
      "text/plain": [
       "<pyspark.context.SparkContext at 0x10ff0aed0>"
      ]
     },
     "execution_count": 32,
     "metadata": {},
     "output_type": "execute_result"
    }
   ],
   "source": [
    "sc"
   ]
  },
  {
   "cell_type": "markdown",
   "metadata": {
    "deletable": true,
    "editable": true
   },
   "source": [
    "You should see something like: `<pyspark.context.SparkContext at 0x1015a2690>`\n",
    "\n",
    "Now let's load some data. [SOWPODS](https://www.wordgamedictionary.com/sowpods/) is the Official Scrabble Dictionary. It contains every valid word for competitive Scrabble tournaments."
   ]
  },
  {
   "cell_type": "code",
   "execution_count": 33,
   "metadata": {
    "collapsed": false,
    "deletable": true,
    "editable": true
   },
   "outputs": [
    {
     "data": {
      "text/plain": [
       "./data/SOWPODS.txt MapPartitionsRDD[56] at textFile at NativeMethodAccessorImpl.java:0"
      ]
     },
     "execution_count": 33,
     "metadata": {},
     "output_type": "execute_result"
    }
   ],
   "source": [
    "my_rdd = sc.textFile('./data/SOWPODS.txt')\n",
    "my_rdd"
   ]
  },
  {
   "cell_type": "markdown",
   "metadata": {
    "deletable": true,
    "editable": true
   },
   "source": [
    "You should see something like : `./data/SOWPODS.txt MapPartitionsRDD[20] at textFile at NativeMethodAccessorImpl.java:0`\n",
    "\n",
    "Because RDDs use [lazy loading](http://spark.apache.org/docs/latest/programming-guide.html#rdd-operations), we can't actually see what's inside my_rdd yet.\n",
    "\n",
    "To see contents, we need to execute a command with a data sink: `top`.\n",
    "\n",
    "`top(n)` grabs the first `n` results from a Spark RDD and returns them as a regular python list."
   ]
  },
  {
   "cell_type": "code",
   "execution_count": 34,
   "metadata": {
    "collapsed": false,
    "deletable": true,
    "editable": true
   },
   "outputs": [
    {
     "data": {
      "text/plain": [
       "[u'zzzs',\n",
       " u'zzz',\n",
       " u'zyzzyvas',\n",
       " u'zyzzyva',\n",
       " u'zythums',\n",
       " u'zythum',\n",
       " u'zymurgy',\n",
       " u'zymurgies',\n",
       " u'zymotics',\n",
       " u'zymotically',\n",
       " u'zymotic',\n",
       " u'zymotechnics',\n",
       " u'zymotechnical',\n",
       " u'zymotechnic',\n",
       " u'zymosis',\n",
       " u'zymosimeters',\n",
       " u'zymosimeter',\n",
       " u'zymoses',\n",
       " u'zymosans',\n",
       " u'zymosan']"
      ]
     },
     "execution_count": 34,
     "metadata": {},
     "output_type": "execute_result"
    }
   ],
   "source": [
    "my_rdd.top(20)"
   ]
  },
  {
   "cell_type": "markdown",
   "metadata": {
    "deletable": true,
    "editable": true
   },
   "source": [
    "## Basic RDD operations ##\n",
    "\n",
    "Let's start applying some basic [RDD operations](http://spark.apache.org/docs/latest/programming-guide.html#rdd-operations) to the list: filter and collect.\n",
    "\n",
    "Note the syntax change. Those line-ending backslashes are a bit of a a pain, but the stacked syntax is very good for readability. Readability matters."
   ]
  },
  {
   "cell_type": "code",
   "execution_count": 35,
   "metadata": {
    "collapsed": false,
    "deletable": true,
    "editable": true
   },
   "outputs": [],
   "source": [
    "x_words = my_rdd \\\n",
    "    .filter(lambda word: len(word)>0) \\\n",
    "    .filter(lambda word: word[0] == 'x') \\\n",
    "    .collect()"
   ]
  },
  {
   "cell_type": "markdown",
   "metadata": {
    "deletable": true,
    "editable": true
   },
   "source": [
    "Like `top`, `collect` returns a regular python list. Unlike `top`, `collect` returns *all* the results.\n",
    "\n",
    "We can use normal python list syntax to inspect the x_words list."
   ]
  },
  {
   "cell_type": "code",
   "execution_count": 36,
   "metadata": {
    "collapsed": false,
    "deletable": true,
    "editable": true
   },
   "outputs": [
    {
     "data": {
      "text/plain": [
       "303"
      ]
     },
     "execution_count": 36,
     "metadata": {},
     "output_type": "execute_result"
    }
   ],
   "source": [
    "len(x_words)"
   ]
  },
  {
   "cell_type": "code",
   "execution_count": 37,
   "metadata": {
    "collapsed": false,
    "deletable": true,
    "editable": true
   },
   "outputs": [
    {
     "data": {
      "text/plain": [
       "[u'xantham',\n",
       " u'xanthams',\n",
       " u'xanthan',\n",
       " u'xanthans',\n",
       " u'xanthate',\n",
       " u'xanthates',\n",
       " u'xanthation',\n",
       " u'xanthations',\n",
       " u'xanthein',\n",
       " u'xantheins',\n",
       " u'xanthene',\n",
       " u'xanthenes',\n",
       " u'xanthic',\n",
       " u'xanthin',\n",
       " u'xanthine',\n",
       " u'xanthines',\n",
       " u'xanthins',\n",
       " u'xanthism',\n",
       " u'xanthisms',\n",
       " u'xanthochroia']"
      ]
     },
     "execution_count": 37,
     "metadata": {},
     "output_type": "execute_result"
    }
   ],
   "source": [
    "x_words[:20]"
   ]
  },
  {
   "cell_type": "markdown",
   "metadata": {
    "deletable": true,
    "editable": true
   },
   "source": [
    "## Hello, map reduce! ##\n",
    "\n",
    "Now let's run the classic \"hello world\" script for distributed processing: wordcount.\n",
    "\n",
    "In the scrabble dictionary, wordCount is boring: every word occurs once. So instead, let's do letterCount.\n",
    "\n",
    "Let's start by using just `x_words`. We can use `parallelize` to convert a python list into a Spark RDD."
   ]
  },
  {
   "cell_type": "code",
   "execution_count": 7,
   "metadata": {
    "collapsed": false,
    "deletable": true,
    "editable": true
   },
   "outputs": [
    {
     "data": {
      "text/plain": [
       "ParallelCollectionRDD[4] at parallelize at PythonRDD.scala:475"
      ]
     },
     "execution_count": 7,
     "metadata": {},
     "output_type": "execute_result"
    }
   ],
   "source": [
    "x_word_rdd = sc.parallelize(x_words)\n",
    "x_word_rdd"
   ]
  },
  {
   "cell_type": "markdown",
   "metadata": {
    "deletable": true,
    "editable": true
   },
   "source": [
    "Here's letter count, in pyspark:"
   ]
  },
  {
   "cell_type": "code",
   "execution_count": 38,
   "metadata": {
    "collapsed": false,
    "deletable": true,
    "editable": true
   },
   "outputs": [
    {
     "data": {
      "text/plain": [
       "[(u'a', 213),\n",
       " (u'c', 63),\n",
       " (u'e', 270),\n",
       " (u'g', 59),\n",
       " (u'i', 194),\n",
       " (u'm', 82),\n",
       " (u'o', 306),\n",
       " (u's', 214),\n",
       " (u'u', 39),\n",
       " (u'y', 127),\n",
       " (u'b', 18),\n",
       " (u'd', 31),\n",
       " (u'f', 4),\n",
       " (u'h', 169),\n",
       " (u'l', 146),\n",
       " (u'n', 201),\n",
       " (u'p', 122),\n",
       " (u'r', 168),\n",
       " (u't', 141),\n",
       " (u'x', 309)]"
      ]
     },
     "execution_count": 38,
     "metadata": {},
     "output_type": "execute_result"
    }
   ],
   "source": [
    "letter_count_list = x_word_rdd \\\n",
    "    .flatMap(list) \\\n",
    "    .map(lambda x: (x,1)) \\\n",
    "    .reduceByKey(lambda x, y: x+y) \\\n",
    "    .collect()\n",
    "\n",
    "letter_count_list"
   ]
  },
  {
   "cell_type": "code",
   "execution_count": 39,
   "metadata": {
    "collapsed": false,
    "deletable": true,
    "editable": true
   },
   "outputs": [
    {
     "data": {
      "image/png": "[encoded data removed]",
      "text/plain": [
       "<matplotlib.figure.Figure at 0x114b67690>"
      ]
     },
     "metadata": {},
     "output_type": "display_data"
    }
   ],
   "source": [
    "%matplotlib inline\n",
    "\n",
    "import matplotlib\n",
    "import numpy as np\n",
    "import matplotlib.pyplot as plt\n",
    "\n",
    "def graph_letter_counts(letter_counts):\n",
    "    x, y = zip(*letter_counts)\n",
    "    fig, ax = plt.subplots()\n",
    "    ax.set_xticklabels(x)\n",
    "    ax.set_xticks(range(len(x)))\n",
    "    plt.bar(range(len(x)), y)\n",
    "    plt.title(\"Letter counts\")\n",
    "    plt.xlabel(\"Letter\")\n",
    "    plt.ylabel(\"Count\")\n",
    "    \n",
    "graph_letter_counts(letter_count_list)"
   ]
  },
  {
   "cell_type": "markdown",
   "metadata": {
    "deletable": true,
    "editable": true
   },
   "source": [
    "Nice, but it'd be better sorted. Let's sort it two ways. First, alphabetically. Second, by total count.\n",
    "\n",
    "Let's make our code DRY by factoring out the counting part of the RDD."
   ]
  },
  {
   "cell_type": "code",
   "execution_count": 40,
   "metadata": {
    "collapsed": false,
    "deletable": true,
    "editable": true
   },
   "outputs": [],
   "source": [
    "letter_counts = x_word_rdd \\\n",
    "    .flatMap(list) \\\n",
    "    .map(lambda x: (x,1)) \\\n",
    "    .reduceByKey(lambda x, y: x+y)"
   ]
  },
  {
   "cell_type": "markdown",
   "metadata": {
    "deletable": true,
    "editable": true
   },
   "source": [
    "Now sort by letter..."
   ]
  },
  {
   "cell_type": "code",
   "execution_count": 41,
   "metadata": {
    "collapsed": false,
    "deletable": true,
    "editable": true
   },
   "outputs": [
    {
     "data": {
      "image/png": "[encoded data removed]",
      "text/plain": [
       "<matplotlib.figure.Figure at 0x1149c8e90>"
      ]
     },
     "metadata": {},
     "output_type": "display_data"
    }
   ],
   "source": [
    "letter_count_list = letter_counts \\\n",
    "    .sortByKey() \\\n",
    "    .collect()\n",
    "\n",
    "graph_letter_counts(letter_count_list)"
   ]
  },
  {
   "cell_type": "markdown",
   "metadata": {
    "deletable": true,
    "editable": true
   },
   "source": [
    "Now sort by value..."
   ]
  },
  {
   "cell_type": "code",
   "execution_count": 42,
   "metadata": {
    "collapsed": false,
    "deletable": true,
    "editable": true
   },
   "outputs": [
    {
     "data": {
      "image/png": "[encoded data removed]",
      "text/plain": [
       "<matplotlib.figure.Figure at 0x116210dd0>"
      ]
     },
     "metadata": {},
     "output_type": "display_data"
    }
   ],
   "source": [
    "letter_count_list = letter_counts \\\n",
    "    .map(lambda (a,b): (b, a)) \\\n",
    "    .sortByKey(ascending=False) \\\n",
    "    .map(lambda (a,b): (b, a)) \\\n",
    "    .collect()\n",
    "\n",
    "graph_letter_counts(letter_count_list)"
   ]
  },
  {
   "cell_type": "markdown",
   "metadata": {
    "deletable": true,
    "editable": true
   },
   "source": [
    "## Blending python and RDDs ##\n",
    "\n",
    "One of the huge advantages of pyspark is that you get the strengths of *both* languages.\n",
    "\n",
    "Let's blend python and spark to identify palindromes."
   ]
  },
  {
   "cell_type": "code",
   "execution_count": 43,
   "metadata": {
    "collapsed": true,
    "deletable": true,
    "editable": true
   },
   "outputs": [],
   "source": [
    "def is_palindrome(my_str):\n",
    "    return my_str == my_str[::-1]\n",
    "\n",
    "assert is_palindrome(\"\")\n",
    "assert is_palindrome(\"a\")\n",
    "assert is_palindrome(\"AA\")\n",
    "assert is_palindrome(\"ABA\")\n",
    "assert is_palindrome(\"amanaplanacanalpanama\")\n",
    "assert is_palindrome(\"AB\") == False\n",
    "assert is_palindrome(\"ABC\") == False"
   ]
  },
  {
   "cell_type": "markdown",
   "metadata": {
    "deletable": true,
    "editable": true
   },
   "source": [
    "Now we plug our native python function into an RDD-based computation graph."
   ]
  },
  {
   "cell_type": "code",
   "execution_count": 44,
   "metadata": {
    "collapsed": false,
    "deletable": true,
    "editable": true
   },
   "outputs": [
    {
     "data": {
      "text/plain": [
       "[u'aa',\n",
       " u'aba',\n",
       " u'abba',\n",
       " u'acca',\n",
       " u'aga',\n",
       " u'aha',\n",
       " u'aia',\n",
       " u'aka',\n",
       " u'ala',\n",
       " u'alula',\n",
       " u'ama',\n",
       " u'ana',\n",
       " u'anana',\n",
       " u'anna',\n",
       " u'araara',\n",
       " u'ataata',\n",
       " u'aua',\n",
       " u'ava',\n",
       " u'awa',\n",
       " u'bib',\n",
       " u'bob',\n",
       " u'boob',\n",
       " u'bub',\n",
       " u'civic',\n",
       " u'dad',\n",
       " u'deed',\n",
       " u'degged',\n",
       " u'deified',\n",
       " u'deked',\n",
       " u'deled',\n",
       " u'denned',\n",
       " u'dered',\n",
       " u'dewed',\n",
       " u'did',\n",
       " u'dod',\n",
       " u'dud',\n",
       " u'ecce',\n",
       " u'ee',\n",
       " u'eke',\n",
       " u'eme',\n",
       " u'ene',\n",
       " u'ere',\n",
       " u'esse',\n",
       " u'eve',\n",
       " u'ewe',\n",
       " u'eye',\n",
       " u'gag',\n",
       " u'gig',\n",
       " u'goog',\n",
       " u'hadedah',\n",
       " u'hah',\n",
       " u'hajjah',\n",
       " u'halalah',\n",
       " u'hallah',\n",
       " u'heh',\n",
       " u'hoh',\n",
       " u'huh',\n",
       " u'iwi',\n",
       " u'kaiak',\n",
       " u'kak',\n",
       " u'kayak',\n",
       " u'keek',\n",
       " u'kook',\n",
       " u'lemel',\n",
       " u'level',\n",
       " u'madam',\n",
       " u'malam',\n",
       " u'mallam',\n",
       " u'mam',\n",
       " u'marram',\n",
       " u'mem',\n",
       " u'mim',\n",
       " u'minim',\n",
       " u'mm',\n",
       " u'mom',\n",
       " u'mum',\n",
       " u'naan',\n",
       " u'nan',\n",
       " u'non',\n",
       " u'noon',\n",
       " u'nun',\n",
       " u'obo',\n",
       " u'oho',\n",
       " u'ono',\n",
       " u'oo',\n",
       " u'oppo',\n",
       " u'otto',\n",
       " u'oxo',\n",
       " u'pap',\n",
       " u'peep',\n",
       " u'pep',\n",
       " u'pip',\n",
       " u'poop',\n",
       " u'pop',\n",
       " u'pullup',\n",
       " u'pup',\n",
       " u'radar',\n",
       " u'redder',\n",
       " u'refer',\n",
       " u'reifier',\n",
       " u'repaper',\n",
       " u'reviver',\n",
       " u'rotator',\n",
       " u'rotavator',\n",
       " u'rotor',\n",
       " u'sagas',\n",
       " u'samas',\n",
       " u'sedes',\n",
       " u'sees',\n",
       " u'seities',\n",
       " u'seles',\n",
       " u'selles',\n",
       " u'sememes',\n",
       " u'semes',\n",
       " u'seres',\n",
       " u'serres',\n",
       " u'sesses',\n",
       " u'sexes',\n",
       " u'shahs',\n",
       " u'simis',\n",
       " u'siris',\n",
       " u'sis',\n",
       " u'solos',\n",
       " u'sos',\n",
       " u'stats',\n",
       " u'stets',\n",
       " u'stots',\n",
       " u'succus',\n",
       " u'sulus',\n",
       " u'sus',\n",
       " u'susus',\n",
       " u'tallat',\n",
       " u'tat',\n",
       " u'tenet',\n",
       " u'terret',\n",
       " u'tet',\n",
       " u'tirrit',\n",
       " u'tit',\n",
       " u'toot',\n",
       " u'torot',\n",
       " u'tot',\n",
       " u'tut',\n",
       " u'ulu',\n",
       " u'umu',\n",
       " u'utu',\n",
       " u'vav',\n",
       " u'waw',\n",
       " u'wow',\n",
       " u'yay',\n",
       " u'ziz',\n",
       " u'zuz',\n",
       " u'zzz']"
      ]
     },
     "execution_count": 44,
     "metadata": {},
     "output_type": "execute_result"
    }
   ],
   "source": [
    "palindromes = my_rdd \\\n",
    "    .filter(lambda x: len(x)>0) \\\n",
    "    .filter(is_palindrome) \\\n",
    "    \n",
    "palindromes.collect()"
   ]
  },
  {
   "cell_type": "markdown",
   "metadata": {
    "deletable": true,
    "editable": true
   },
   "source": [
    "Just for fun, let's count letters again."
   ]
  },
  {
   "cell_type": "code",
   "execution_count": 45,
   "metadata": {
    "collapsed": false,
    "deletable": true,
    "editable": true
   },
   "outputs": [
    {
     "data": {
      "text/plain": [
       "[(u'a', 91),\n",
       " (u'b', 12),\n",
       " (u'c', 8),\n",
       " (u'd', 31),\n",
       " (u'e', 87),\n",
       " (u'f', 3),\n",
       " (u'g', 10),\n",
       " (u'h', 20),\n",
       " (u'i', 29),\n",
       " (u'j', 2),\n",
       " (u'k', 13),\n",
       " (u'l', 25),\n",
       " (u'm', 31),\n",
       " (u'n', 21),\n",
       " (u'o', 46),\n",
       " (u'p', 20),\n",
       " (u'r', 33),\n",
       " (u's', 57),\n",
       " (u't', 39),\n",
       " (u'u', 25),\n",
       " (u'v', 9),\n",
       " (u'w', 8),\n",
       " (u'x', 2),\n",
       " (u'y', 4),\n",
       " (u'z', 7)]"
      ]
     },
     "execution_count": 45,
     "metadata": {},
     "output_type": "execute_result"
    }
   ],
   "source": [
    "palindrome_letter_counts = palindromes \\\n",
    "    .flatMap(list) \\\n",
    "    .map(lambda x: (x,1)) \\\n",
    "    .reduceByKey(lambda x, y: x+y)\n",
    "    \n",
    "palindrome_letter_counts \\\n",
    "    .sortByKey() \\\n",
    "    .collect()"
   ]
  },
  {
   "cell_type": "markdown",
   "metadata": {
    "deletable": true,
    "editable": true
   },
   "source": [
    "## A grab-bag of operators and actions ##\n",
    "\n",
    "Here are some other useful pyspark actions you can use. Most of these are `actions`, meaning that they complete an RDD calculation chain and return some other kind of object.\n"
   ]
  },
  {
   "cell_type": "code",
   "execution_count": 46,
   "metadata": {
    "collapsed": false,
    "deletable": true,
    "editable": true
   },
   "outputs": [
    {
     "data": {
      "text/plain": [
       "(u'a', 91)"
      ]
     },
     "execution_count": 46,
     "metadata": {},
     "output_type": "execute_result"
    }
   ],
   "source": [
    "palindrome_letter_counts.first()"
   ]
  },
  {
   "cell_type": "code",
   "execution_count": 47,
   "metadata": {
    "collapsed": false,
    "deletable": true,
    "editable": true
   },
   "outputs": [
    {
     "data": {
      "text/plain": [
       "[(u'a', 91),\n",
       " (u'c', 8),\n",
       " (u'e', 87),\n",
       " (u'g', 10),\n",
       " (u'i', 29),\n",
       " (u'k', 13),\n",
       " (u'm', 31),\n",
       " (u'o', 46),\n",
       " (u's', 57),\n",
       " (u'u', 25)]"
      ]
     },
     "execution_count": 47,
     "metadata": {},
     "output_type": "execute_result"
    }
   ],
   "source": [
    "palindrome_letter_counts.take(10)"
   ]
  },
  {
   "cell_type": "code",
   "execution_count": 48,
   "metadata": {
    "collapsed": false,
    "deletable": true,
    "editable": true
   },
   "outputs": [
    {
     "data": {
      "text/plain": [
       "[(u'j', 2),\n",
       " (u'x', 2),\n",
       " (u'f', 3),\n",
       " (u'y', 4),\n",
       " (u'z', 7),\n",
       " (u'c', 8),\n",
       " (u'w', 8),\n",
       " (u'v', 9),\n",
       " (u'g', 10),\n",
       " (u'b', 12)]"
      ]
     },
     "execution_count": 48,
     "metadata": {},
     "output_type": "execute_result"
    }
   ],
   "source": [
    "palindrome_letter_counts.takeOrdered(10, lambda x: x[1])"
   ]
  },
  {
   "cell_type": "code",
   "execution_count": 49,
   "metadata": {
    "collapsed": false,
    "deletable": true,
    "editable": true
   },
   "outputs": [
    {
     "data": {
      "text/plain": [
       "[(u'a', 91),\n",
       " (u'e', 87),\n",
       " (u's', 57),\n",
       " (u'o', 46),\n",
       " (u't', 39),\n",
       " (u'r', 33),\n",
       " (u'm', 31),\n",
       " (u'd', 31),\n",
       " (u'i', 29),\n",
       " (u'u', 25)]"
      ]
     },
     "execution_count": 49,
     "metadata": {},
     "output_type": "execute_result"
    }
   ],
   "source": [
    "palindrome_letter_counts.takeOrdered(10, lambda x: -1*x[1])"
   ]
  },
  {
   "cell_type": "code",
   "execution_count": 50,
   "metadata": {
    "collapsed": false,
    "deletable": true,
    "editable": true
   },
   "outputs": [
    {
     "data": {
      "text/plain": [
       "[(u'a', 91),\n",
       " (u'b', 12),\n",
       " (u'c', 8),\n",
       " (u'd', 31),\n",
       " (u'e', 87),\n",
       " (u'f', 3),\n",
       " (u'g', 10),\n",
       " (u'h', 20),\n",
       " (u'i', 29),\n",
       " (u'j', 2)]"
      ]
     },
     "execution_count": 50,
     "metadata": {},
     "output_type": "execute_result"
    }
   ],
   "source": [
    "palindrome_letter_counts.takeOrdered(10, lambda x: x[0])"
   ]
  },
  {
   "cell_type": "code",
   "execution_count": 51,
   "metadata": {
    "collapsed": false,
    "deletable": true,
    "editable": true
   },
   "outputs": [
    {
     "data": {
      "text/plain": [
       "267759"
      ]
     },
     "execution_count": 51,
     "metadata": {},
     "output_type": "execute_result"
    }
   ],
   "source": [
    "my_rdd.count()"
   ]
  },
  {
   "cell_type": "code",
   "execution_count": 22,
   "metadata": {
    "collapsed": false,
    "deletable": true,
    "editable": true
   },
   "outputs": [
    {
     "name": "stdout",
     "output_type": "stream",
     "text": [
      "5507\n"
     ]
    }
   ],
   "source": [
    "sampled_words = my_rdd \\\n",
    "    .sample(False, .02) \\\n",
    "    .collect()\n",
    "\n",
    "print len(sampled_words)"
   ]
  },
  {
   "cell_type": "markdown",
   "metadata": {
    "deletable": true,
    "editable": true
   },
   "source": [
    "## Exercise 1 - Filters and actions ##\n",
    "\n",
    "1. Get a sample of 5% of the SOWPODS words.\n",
    "2. Find the first word that start with J.\n",
    "3. Find the last 10 words that start with J.\n",
    "4. How many words end with the letter E?"
   ]
  },
  {
   "cell_type": "code",
   "execution_count": 65,
   "metadata": {
    "collapsed": false,
    "deletable": true,
    "editable": true
   },
   "outputs": [
    {
     "name": "stdout",
     "output_type": "stream",
     "text": [
      "13232\n"
     ]
    },
    {
     "ename": "Py4JJavaError",
     "evalue": "An error occurred while calling z:org.apache.spark.api.python.PythonRDD.collectAndServe.\n: org.apache.spark.SparkException: Job aborted due to stage failure: Task 0 in stage 106.0 failed 1 times, most recent failure: Lost task 0.0 in stage 106.0 (TID 151, localhost, executor driver): org.apache.spark.api.python.PythonException: Traceback (most recent call last):\n  File \"/Users/ceoxxx/spark/spark-2.1.0-bin-hadoop2.7/python/lib/pyspark.zip/pyspark/worker.py\", line 174, in main\n    process()\n  File \"/Users/ceoxxx/spark/spark-2.1.0-bin-hadoop2.7/python/lib/pyspark.zip/pyspark/worker.py\", line 169, in process\n    serializer.dump_stream(func(split_index, iterator), outfile)\n  File \"/Users/ceoxxx/spark/spark-2.1.0-bin-hadoop2.7/python/pyspark/rdd.py\", line 2407, in pipeline_func\n    return func(split, prev_func(split, iterator))\n  File \"/Users/ceoxxx/spark/spark-2.1.0-bin-hadoop2.7/python/pyspark/rdd.py\", line 2407, in pipeline_func\n    return func(split, prev_func(split, iterator))\n  File \"/Users/ceoxxx/spark/spark-2.1.0-bin-hadoop2.7/python/pyspark/rdd.py\", line 346, in func\n    return f(iterator)\n  File \"/Users/ceoxxx/spark/spark-2.1.0-bin-hadoop2.7/python/pyspark/rdd.py\", line 1290, in <lambda>\n    return self.mapPartitions(lambda it: [heapq.nsmallest(num, it, key)]).reduce(merge)\n  File \"/Users/ceoxxx/anaconda/envs/py2/lib/python2.7/heapq.py\", line 432, in nsmallest\n    result = _nsmallest(n, it)\n  File \"<ipython-input-65-d7804f1f569b>\", line 7, in <lambda>\nTypeError: bad operand type for unary -: 'unicode'\n\n\tat org.apache.spark.api.python.PythonRunner$$anon$1.read(PythonRDD.scala:193)\n\tat org.apache.spark.api.python.PythonRunner$$anon$1.<init>(PythonRDD.scala:234)\n\tat org.apache.spark.api.python.PythonRunner.compute(PythonRDD.scala:152)\n\tat org.apache.spark.api.python.PythonRDD.compute(PythonRDD.scala:63)\n\tat org.apache.spark.rdd.RDD.computeOrReadCheckpoint(RDD.scala:323)\n\tat org.apache.spark.rdd.RDD.iterator(RDD.scala:287)\n\tat org.apache.spark.scheduler.ResultTask.runTask(ResultTask.scala:87)\n\tat org.apache.spark.scheduler.Task.run(Task.scala:99)\n\tat org.apache.spark.executor.Executor$TaskRunner.run(Executor.scala:282)\n\tat java.util.concurrent.ThreadPoolExecutor.runWorker(ThreadPoolExecutor.java:1142)\n\tat java.util.concurrent.ThreadPoolExecutor$Worker.run(ThreadPoolExecutor.java:617)\n\tat java.lang.Thread.run(Thread.java:745)\n\nDriver stacktrace:\n\tat org.apache.spark.scheduler.DAGScheduler.org$apache$spark$scheduler$DAGScheduler$$failJobAndIndependentStages(DAGScheduler.scala:1435)\n\tat org.apache.spark.scheduler.DAGScheduler$$anonfun$abortStage$1.apply(DAGScheduler.scala:1423)\n\tat org.apache.spark.scheduler.DAGScheduler$$anonfun$abortStage$1.apply(DAGScheduler.scala:1422)\n\tat scala.collection.mutable.ResizableArray$class.foreach(ResizableArray.scala:59)\n\tat scala.collection.mutable.ArrayBuffer.foreach(ArrayBuffer.scala:48)\n\tat org.apache.spark.scheduler.DAGScheduler.abortStage(DAGScheduler.scala:1422)\n\tat org.apache.spark.scheduler.DAGScheduler$$anonfun$handleTaskSetFailed$1.apply(DAGScheduler.scala:802)\n\tat org.apache.spark.scheduler.DAGScheduler$$anonfun$handleTaskSetFailed$1.apply(DAGScheduler.scala:802)\n\tat scala.Option.foreach(Option.scala:257)\n\tat org.apache.spark.scheduler.DAGScheduler.handleTaskSetFailed(DAGScheduler.scala:802)\n\tat org.apache.spark.scheduler.DAGSchedulerEventProcessLoop.doOnReceive(DAGScheduler.scala:1650)\n\tat org.apache.spark.scheduler.DAGSchedulerEventProcessLoop.onReceive(DAGScheduler.scala:1605)\n\tat org.apache.spark.scheduler.DAGSchedulerEventProcessLoop.onReceive(DAGScheduler.scala:1594)\n\tat org.apache.spark.util.EventLoop$$anon$1.run(EventLoop.scala:48)\n\tat org.apache.spark.scheduler.DAGScheduler.runJob(DAGScheduler.scala:628)\n\tat org.apache.spark.SparkContext.runJob(SparkContext.scala:1918)\n\tat org.apache.spark.SparkContext.runJob(SparkContext.scala:1931)\n\tat org.apache.spark.SparkContext.runJob(SparkContext.scala:1944)\n\tat org.apache.spark.SparkContext.runJob(SparkContext.scala:1958)\n\tat org.apache.spark.rdd.RDD$$anonfun$collect$1.apply(RDD.scala:935)\n\tat org.apache.spark.rdd.RDDOperationScope$.withScope(RDDOperationScope.scala:151)\n\tat org.apache.spark.rdd.RDDOperationScope$.withScope(RDDOperationScope.scala:112)\n\tat org.apache.spark.rdd.RDD.withScope(RDD.scala:362)\n\tat org.apache.spark.rdd.RDD.collect(RDD.scala:934)\n\tat org.apache.spark.api.python.PythonRDD$.collectAndServe(PythonRDD.scala:453)\n\tat org.apache.spark.api.python.PythonRDD.collectAndServe(PythonRDD.scala)\n\tat sun.reflect.GeneratedMethodAccessor69.invoke(Unknown Source)\n\tat sun.reflect.DelegatingMethodAccessorImpl.invoke(DelegatingMethodAccessorImpl.java:43)\n\tat java.lang.reflect.Method.invoke(Method.java:498)\n\tat py4j.reflection.MethodInvoker.invoke(MethodInvoker.java:244)\n\tat py4j.reflection.ReflectionEngine.invoke(ReflectionEngine.java:357)\n\tat py4j.Gateway.invoke(Gateway.java:280)\n\tat py4j.commands.AbstractCommand.invokeMethod(AbstractCommand.java:132)\n\tat py4j.commands.CallCommand.execute(CallCommand.java:79)\n\tat py4j.GatewayConnection.run(GatewayConnection.java:214)\n\tat java.lang.Thread.run(Thread.java:745)\nCaused by: org.apache.spark.api.python.PythonException: Traceback (most recent call last):\n  File \"/Users/ceoxxx/spark/spark-2.1.0-bin-hadoop2.7/python/lib/pyspark.zip/pyspark/worker.py\", line 174, in main\n    process()\n  File \"/Users/ceoxxx/spark/spark-2.1.0-bin-hadoop2.7/python/lib/pyspark.zip/pyspark/worker.py\", line 169, in process\n    serializer.dump_stream(func(split_index, iterator), outfile)\n  File \"/Users/ceoxxx/spark/spark-2.1.0-bin-hadoop2.7/python/pyspark/rdd.py\", line 2407, in pipeline_func\n    return func(split, prev_func(split, iterator))\n  File \"/Users/ceoxxx/spark/spark-2.1.0-bin-hadoop2.7/python/pyspark/rdd.py\", line 2407, in pipeline_func\n    return func(split, prev_func(split, iterator))\n  File \"/Users/ceoxxx/spark/spark-2.1.0-bin-hadoop2.7/python/pyspark/rdd.py\", line 346, in func\n    return f(iterator)\n  File \"/Users/ceoxxx/spark/spark-2.1.0-bin-hadoop2.7/python/pyspark/rdd.py\", line 1290, in <lambda>\n    return self.mapPartitions(lambda it: [heapq.nsmallest(num, it, key)]).reduce(merge)\n  File \"/Users/ceoxxx/anaconda/envs/py2/lib/python2.7/heapq.py\", line 432, in nsmallest\n    result = _nsmallest(n, it)\n  File \"<ipython-input-65-d7804f1f569b>\", line 7, in <lambda>\nTypeError: bad operand type for unary -: 'unicode'\n\n\tat org.apache.spark.api.python.PythonRunner$$anon$1.read(PythonRDD.scala:193)\n\tat org.apache.spark.api.python.PythonRunner$$anon$1.<init>(PythonRDD.scala:234)\n\tat org.apache.spark.api.python.PythonRunner.compute(PythonRDD.scala:152)\n\tat org.apache.spark.api.python.PythonRDD.compute(PythonRDD.scala:63)\n\tat org.apache.spark.rdd.RDD.computeOrReadCheckpoint(RDD.scala:323)\n\tat org.apache.spark.rdd.RDD.iterator(RDD.scala:287)\n\tat org.apache.spark.scheduler.ResultTask.runTask(ResultTask.scala:87)\n\tat org.apache.spark.scheduler.Task.run(Task.scala:99)\n\tat org.apache.spark.executor.Executor$TaskRunner.run(Executor.scala:282)\n\tat java.util.concurrent.ThreadPoolExecutor.runWorker(ThreadPoolExecutor.java:1142)\n\tat java.util.concurrent.ThreadPoolExecutor$Worker.run(ThreadPoolExecutor.java:617)\n\t... 1 more\n",
     "output_type": "error",
     "traceback": [
      "\u001b[0;31m---------------------------------------------------------------------------\u001b[0m",
      "\u001b[0;31mPy4JJavaError\u001b[0m                             Traceback (most recent call last)",
      "\u001b[0;32m<ipython-input-65-d7804f1f569b>\u001b[0m in \u001b[0;36m<module>\u001b[0;34m()\u001b[0m\n\u001b[1;32m      5\u001b[0m \u001b[0;32mprint\u001b[0m \u001b[0mlen\u001b[0m\u001b[0;34m(\u001b[0m\u001b[0msampled_words\u001b[0m\u001b[0;34m)\u001b[0m\u001b[0;34m\u001b[0m\u001b[0m\n\u001b[1;32m      6\u001b[0m \u001b[0;34m\u001b[0m\u001b[0m\n\u001b[0;32m----> 7\u001b[0;31m \u001b[0mx_words\u001b[0m \u001b[0;34m=\u001b[0m \u001b[0mmy_rdd\u001b[0m     \u001b[0;34m.\u001b[0m\u001b[0mfilter\u001b[0m\u001b[0;34m(\u001b[0m\u001b[0;32mlambda\u001b[0m \u001b[0mword\u001b[0m\u001b[0;34m:\u001b[0m \u001b[0mlen\u001b[0m\u001b[0;34m(\u001b[0m\u001b[0mword\u001b[0m\u001b[0;34m)\u001b[0m\u001b[0;34m>\u001b[0m\u001b[0;36m0\u001b[0m\u001b[0;34m)\u001b[0m     \u001b[0;34m.\u001b[0m\u001b[0mfilter\u001b[0m\u001b[0;34m(\u001b[0m\u001b[0;32mlambda\u001b[0m \u001b[0mx\u001b[0m\u001b[0;34m:\u001b[0m \u001b[0mx\u001b[0m\u001b[0;34m[\u001b[0m\u001b[0;36m0\u001b[0m\u001b[0;34m]\u001b[0m \u001b[0;32min\u001b[0m \u001b[0;34m[\u001b[0m\u001b[0;34m'J'\u001b[0m\u001b[0;34m,\u001b[0m\u001b[0;34m'j'\u001b[0m\u001b[0;34m]\u001b[0m\u001b[0;34m)\u001b[0m     \u001b[0;34m.\u001b[0m\u001b[0mtakeOrdered\u001b[0m\u001b[0;34m(\u001b[0m\u001b[0;36m10\u001b[0m\u001b[0;34m,\u001b[0m \u001b[0mkey\u001b[0m \u001b[0;34m=\u001b[0m \u001b[0;32mlambda\u001b[0m \u001b[0mx\u001b[0m\u001b[0;34m:\u001b[0m \u001b[0;34m-\u001b[0m\u001b[0mx\u001b[0m\u001b[0;34m)\u001b[0m\u001b[0;34m\u001b[0m\u001b[0m\n\u001b[0m\u001b[1;32m      8\u001b[0m \u001b[0;34m\u001b[0m\u001b[0m\n\u001b[1;32m      9\u001b[0m \u001b[0;34m\u001b[0m\u001b[0m\n",
      "\u001b[0;32m/Users/ceoxxx/spark/spark-2.1.0-bin-hadoop2.7/python/pyspark/rdd.pyc\u001b[0m in \u001b[0;36mtakeOrdered\u001b[0;34m(self, num, key)\u001b[0m\n\u001b[1;32m   1288\u001b[0m             \u001b[0;32mreturn\u001b[0m \u001b[0mheapq\u001b[0m\u001b[0;34m.\u001b[0m\u001b[0mnsmallest\u001b[0m\u001b[0;34m(\u001b[0m\u001b[0mnum\u001b[0m\u001b[0;34m,\u001b[0m \u001b[0ma\u001b[0m \u001b[0;34m+\u001b[0m \u001b[0mb\u001b[0m\u001b[0;34m,\u001b[0m \u001b[0mkey\u001b[0m\u001b[0;34m)\u001b[0m\u001b[0;34m\u001b[0m\u001b[0m\n\u001b[1;32m   1289\u001b[0m \u001b[0;34m\u001b[0m\u001b[0m\n\u001b[0;32m-> 1290\u001b[0;31m         \u001b[0;32mreturn\u001b[0m \u001b[0mself\u001b[0m\u001b[0;34m.\u001b[0m\u001b[0mmapPartitions\u001b[0m\u001b[0;34m(\u001b[0m\u001b[0;32mlambda\u001b[0m \u001b[0mit\u001b[0m\u001b[0;34m:\u001b[0m \u001b[0;34m[\u001b[0m\u001b[0mheapq\u001b[0m\u001b[0;34m.\u001b[0m\u001b[0mnsmallest\u001b[0m\u001b[0;34m(\u001b[0m\u001b[0mnum\u001b[0m\u001b[0;34m,\u001b[0m \u001b[0mit\u001b[0m\u001b[0;34m,\u001b[0m \u001b[0mkey\u001b[0m\u001b[0;34m)\u001b[0m\u001b[0;34m]\u001b[0m\u001b[0;34m)\u001b[0m\u001b[0;34m.\u001b[0m\u001b[0mreduce\u001b[0m\u001b[0;34m(\u001b[0m\u001b[0mmerge\u001b[0m\u001b[0;34m)\u001b[0m\u001b[0;34m\u001b[0m\u001b[0m\n\u001b[0m\u001b[1;32m   1291\u001b[0m \u001b[0;34m\u001b[0m\u001b[0m\n\u001b[1;32m   1292\u001b[0m     \u001b[0;32mdef\u001b[0m \u001b[0mtake\u001b[0m\u001b[0;34m(\u001b[0m\u001b[0mself\u001b[0m\u001b[0;34m,\u001b[0m \u001b[0mnum\u001b[0m\u001b[0;34m)\u001b[0m\u001b[0;34m:\u001b[0m\u001b[0;34m\u001b[0m\u001b[0m\n",
      "\u001b[0;32m/Users/ceoxxx/spark/spark-2.1.0-bin-hadoop2.7/python/pyspark/rdd.pyc\u001b[0m in \u001b[0;36mreduce\u001b[0;34m(self, f)\u001b[0m\n\u001b[1;32m    833\u001b[0m             \u001b[0;32myield\u001b[0m \u001b[0mreduce\u001b[0m\u001b[0;34m(\u001b[0m\u001b[0mf\u001b[0m\u001b[0;34m,\u001b[0m \u001b[0miterator\u001b[0m\u001b[0;34m,\u001b[0m \u001b[0minitial\u001b[0m\u001b[0;34m)\u001b[0m\u001b[0;34m\u001b[0m\u001b[0m\n\u001b[1;32m    834\u001b[0m \u001b[0;34m\u001b[0m\u001b[0m\n\u001b[0;32m--> 835\u001b[0;31m         \u001b[0mvals\u001b[0m \u001b[0;34m=\u001b[0m \u001b[0mself\u001b[0m\u001b[0;34m.\u001b[0m\u001b[0mmapPartitions\u001b[0m\u001b[0;34m(\u001b[0m\u001b[0mfunc\u001b[0m\u001b[0;34m)\u001b[0m\u001b[0;34m.\u001b[0m\u001b[0mcollect\u001b[0m\u001b[0;34m(\u001b[0m\u001b[0;34m)\u001b[0m\u001b[0;34m\u001b[0m\u001b[0m\n\u001b[0m\u001b[1;32m    836\u001b[0m         \u001b[0;32mif\u001b[0m \u001b[0mvals\u001b[0m\u001b[0;34m:\u001b[0m\u001b[0;34m\u001b[0m\u001b[0m\n\u001b[1;32m    837\u001b[0m             \u001b[0;32mreturn\u001b[0m \u001b[0mreduce\u001b[0m\u001b[0;34m(\u001b[0m\u001b[0mf\u001b[0m\u001b[0;34m,\u001b[0m \u001b[0mvals\u001b[0m\u001b[0;34m)\u001b[0m\u001b[0;34m\u001b[0m\u001b[0m\n",
      "\u001b[0;32m/Users/ceoxxx/spark/spark-2.1.0-bin-hadoop2.7/python/pyspark/rdd.pyc\u001b[0m in \u001b[0;36mcollect\u001b[0;34m(self)\u001b[0m\n\u001b[1;32m    807\u001b[0m         \"\"\"\n\u001b[1;32m    808\u001b[0m         \u001b[0;32mwith\u001b[0m \u001b[0mSCCallSiteSync\u001b[0m\u001b[0;34m(\u001b[0m\u001b[0mself\u001b[0m\u001b[0;34m.\u001b[0m\u001b[0mcontext\u001b[0m\u001b[0;34m)\u001b[0m \u001b[0;32mas\u001b[0m \u001b[0mcss\u001b[0m\u001b[0;34m:\u001b[0m\u001b[0;34m\u001b[0m\u001b[0m\n\u001b[0;32m--> 809\u001b[0;31m             \u001b[0mport\u001b[0m \u001b[0;34m=\u001b[0m \u001b[0mself\u001b[0m\u001b[0;34m.\u001b[0m\u001b[0mctx\u001b[0m\u001b[0;34m.\u001b[0m\u001b[0m_jvm\u001b[0m\u001b[0;34m.\u001b[0m\u001b[0mPythonRDD\u001b[0m\u001b[0;34m.\u001b[0m\u001b[0mcollectAndServe\u001b[0m\u001b[0;34m(\u001b[0m\u001b[0mself\u001b[0m\u001b[0;34m.\u001b[0m\u001b[0m_jrdd\u001b[0m\u001b[0;34m.\u001b[0m\u001b[0mrdd\u001b[0m\u001b[0;34m(\u001b[0m\u001b[0;34m)\u001b[0m\u001b[0;34m)\u001b[0m\u001b[0;34m\u001b[0m\u001b[0m\n\u001b[0m\u001b[1;32m    810\u001b[0m         \u001b[0;32mreturn\u001b[0m \u001b[0mlist\u001b[0m\u001b[0;34m(\u001b[0m\u001b[0m_load_from_socket\u001b[0m\u001b[0;34m(\u001b[0m\u001b[0mport\u001b[0m\u001b[0;34m,\u001b[0m \u001b[0mself\u001b[0m\u001b[0;34m.\u001b[0m\u001b[0m_jrdd_deserializer\u001b[0m\u001b[0;34m)\u001b[0m\u001b[0;34m)\u001b[0m\u001b[0;34m\u001b[0m\u001b[0m\n\u001b[1;32m    811\u001b[0m \u001b[0;34m\u001b[0m\u001b[0m\n",
      "\u001b[0;32m/Users/ceoxxx/spark/spark-2.1.0-bin-hadoop2.7/python/lib/py4j-0.10.4-src.zip/py4j/java_gateway.py\u001b[0m in \u001b[0;36m__call__\u001b[0;34m(self, *args)\u001b[0m\n\u001b[1;32m   1131\u001b[0m         \u001b[0manswer\u001b[0m \u001b[0;34m=\u001b[0m \u001b[0mself\u001b[0m\u001b[0;34m.\u001b[0m\u001b[0mgateway_client\u001b[0m\u001b[0;34m.\u001b[0m\u001b[0msend_command\u001b[0m\u001b[0;34m(\u001b[0m\u001b[0mcommand\u001b[0m\u001b[0;34m)\u001b[0m\u001b[0;34m\u001b[0m\u001b[0m\n\u001b[1;32m   1132\u001b[0m         return_value = get_return_value(\n\u001b[0;32m-> 1133\u001b[0;31m             answer, self.gateway_client, self.target_id, self.name)\n\u001b[0m\u001b[1;32m   1134\u001b[0m \u001b[0;34m\u001b[0m\u001b[0m\n\u001b[1;32m   1135\u001b[0m         \u001b[0;32mfor\u001b[0m \u001b[0mtemp_arg\u001b[0m \u001b[0;32min\u001b[0m \u001b[0mtemp_args\u001b[0m\u001b[0;34m:\u001b[0m\u001b[0;34m\u001b[0m\u001b[0m\n",
      "\u001b[0;32m/Users/ceoxxx/spark/spark-2.1.0-bin-hadoop2.7/python/pyspark/sql/utils.pyc\u001b[0m in \u001b[0;36mdeco\u001b[0;34m(*a, **kw)\u001b[0m\n\u001b[1;32m     61\u001b[0m     \u001b[0;32mdef\u001b[0m \u001b[0mdeco\u001b[0m\u001b[0;34m(\u001b[0m\u001b[0;34m*\u001b[0m\u001b[0ma\u001b[0m\u001b[0;34m,\u001b[0m \u001b[0;34m**\u001b[0m\u001b[0mkw\u001b[0m\u001b[0;34m)\u001b[0m\u001b[0;34m:\u001b[0m\u001b[0;34m\u001b[0m\u001b[0m\n\u001b[1;32m     62\u001b[0m         \u001b[0;32mtry\u001b[0m\u001b[0;34m:\u001b[0m\u001b[0;34m\u001b[0m\u001b[0m\n\u001b[0;32m---> 63\u001b[0;31m             \u001b[0;32mreturn\u001b[0m \u001b[0mf\u001b[0m\u001b[0;34m(\u001b[0m\u001b[0;34m*\u001b[0m\u001b[0ma\u001b[0m\u001b[0;34m,\u001b[0m \u001b[0;34m**\u001b[0m\u001b[0mkw\u001b[0m\u001b[0;34m)\u001b[0m\u001b[0;34m\u001b[0m\u001b[0m\n\u001b[0m\u001b[1;32m     64\u001b[0m         \u001b[0;32mexcept\u001b[0m \u001b[0mpy4j\u001b[0m\u001b[0;34m.\u001b[0m\u001b[0mprotocol\u001b[0m\u001b[0;34m.\u001b[0m\u001b[0mPy4JJavaError\u001b[0m \u001b[0;32mas\u001b[0m \u001b[0me\u001b[0m\u001b[0;34m:\u001b[0m\u001b[0;34m\u001b[0m\u001b[0m\n\u001b[1;32m     65\u001b[0m             \u001b[0ms\u001b[0m \u001b[0;34m=\u001b[0m \u001b[0me\u001b[0m\u001b[0;34m.\u001b[0m\u001b[0mjava_exception\u001b[0m\u001b[0;34m.\u001b[0m\u001b[0mtoString\u001b[0m\u001b[0;34m(\u001b[0m\u001b[0;34m)\u001b[0m\u001b[0;34m\u001b[0m\u001b[0m\n",
      "\u001b[0;32m/Users/ceoxxx/spark/spark-2.1.0-bin-hadoop2.7/python/lib/py4j-0.10.4-src.zip/py4j/protocol.py\u001b[0m in \u001b[0;36mget_return_value\u001b[0;34m(answer, gateway_client, target_id, name)\u001b[0m\n\u001b[1;32m    317\u001b[0m                 raise Py4JJavaError(\n\u001b[1;32m    318\u001b[0m                     \u001b[0;34m\"An error occurred while calling {0}{1}{2}.\\n\"\u001b[0m\u001b[0;34m.\u001b[0m\u001b[0;34m\u001b[0m\u001b[0m\n\u001b[0;32m--> 319\u001b[0;31m                     format(target_id, \".\", name), value)\n\u001b[0m\u001b[1;32m    320\u001b[0m             \u001b[0;32melse\u001b[0m\u001b[0;34m:\u001b[0m\u001b[0;34m\u001b[0m\u001b[0m\n\u001b[1;32m    321\u001b[0m                 raise Py4JError(\n",
      "\u001b[0;31mPy4JJavaError\u001b[0m: An error occurred while calling z:org.apache.spark.api.python.PythonRDD.collectAndServe.\n: org.apache.spark.SparkException: Job aborted due to stage failure: Task 0 in stage 106.0 failed 1 times, most recent failure: Lost task 0.0 in stage 106.0 (TID 151, localhost, executor driver): org.apache.spark.api.python.PythonException: Traceback (most recent call last):\n  File \"/Users/ceoxxx/spark/spark-2.1.0-bin-hadoop2.7/python/lib/pyspark.zip/pyspark/worker.py\", line 174, in main\n    process()\n  File \"/Users/ceoxxx/spark/spark-2.1.0-bin-hadoop2.7/python/lib/pyspark.zip/pyspark/worker.py\", line 169, in process\n    serializer.dump_stream(func(split_index, iterator), outfile)\n  File \"/Users/ceoxxx/spark/spark-2.1.0-bin-hadoop2.7/python/pyspark/rdd.py\", line 2407, in pipeline_func\n    return func(split, prev_func(split, iterator))\n  File \"/Users/ceoxxx/spark/spark-2.1.0-bin-hadoop2.7/python/pyspark/rdd.py\", line 2407, in pipeline_func\n    return func(split, prev_func(split, iterator))\n  File \"/Users/ceoxxx/spark/spark-2.1.0-bin-hadoop2.7/python/pyspark/rdd.py\", line 346, in func\n    return f(iterator)\n  File \"/Users/ceoxxx/spark/spark-2.1.0-bin-hadoop2.7/python/pyspark/rdd.py\", line 1290, in <lambda>\n    return self.mapPartitions(lambda it: [heapq.nsmallest(num, it, key)]).reduce(merge)\n  File \"/Users/ceoxxx/anaconda/envs/py2/lib/python2.7/heapq.py\", line 432, in nsmallest\n    result = _nsmallest(n, it)\n  File \"<ipython-input-65-d7804f1f569b>\", line 7, in <lambda>\nTypeError: bad operand type for unary -: 'unicode'\n\n\tat org.apache.spark.api.python.PythonRunner$$anon$1.read(PythonRDD.scala:193)\n\tat org.apache.spark.api.python.PythonRunner$$anon$1.<init>(PythonRDD.scala:234)\n\tat org.apache.spark.api.python.PythonRunner.compute(PythonRDD.scala:152)\n\tat org.apache.spark.api.python.PythonRDD.compute(PythonRDD.scala:63)\n\tat org.apache.spark.rdd.RDD.computeOrReadCheckpoint(RDD.scala:323)\n\tat org.apache.spark.rdd.RDD.iterator(RDD.scala:287)\n\tat org.apache.spark.scheduler.ResultTask.runTask(ResultTask.scala:87)\n\tat org.apache.spark.scheduler.Task.run(Task.scala:99)\n\tat org.apache.spark.executor.Executor$TaskRunner.run(Executor.scala:282)\n\tat java.util.concurrent.ThreadPoolExecutor.runWorker(ThreadPoolExecutor.java:1142)\n\tat java.util.concurrent.ThreadPoolExecutor$Worker.run(ThreadPoolExecutor.java:617)\n\tat java.lang.Thread.run(Thread.java:745)\n\nDriver stacktrace:\n\tat org.apache.spark.scheduler.DAGScheduler.org$apache$spark$scheduler$DAGScheduler$$failJobAndIndependentStages(DAGScheduler.scala:1435)\n\tat org.apache.spark.scheduler.DAGScheduler$$anonfun$abortStage$1.apply(DAGScheduler.scala:1423)\n\tat org.apache.spark.scheduler.DAGScheduler$$anonfun$abortStage$1.apply(DAGScheduler.scala:1422)\n\tat scala.collection.mutable.ResizableArray$class.foreach(ResizableArray.scala:59)\n\tat scala.collection.mutable.ArrayBuffer.foreach(ArrayBuffer.scala:48)\n\tat org.apache.spark.scheduler.DAGScheduler.abortStage(DAGScheduler.scala:1422)\n\tat org.apache.spark.scheduler.DAGScheduler$$anonfun$handleTaskSetFailed$1.apply(DAGScheduler.scala:802)\n\tat org.apache.spark.scheduler.DAGScheduler$$anonfun$handleTaskSetFailed$1.apply(DAGScheduler.scala:802)\n\tat scala.Option.foreach(Option.scala:257)\n\tat org.apache.spark.scheduler.DAGScheduler.handleTaskSetFailed(DAGScheduler.scala:802)\n\tat org.apache.spark.scheduler.DAGSchedulerEventProcessLoop.doOnReceive(DAGScheduler.scala:1650)\n\tat org.apache.spark.scheduler.DAGSchedulerEventProcessLoop.onReceive(DAGScheduler.scala:1605)\n\tat org.apache.spark.scheduler.DAGSchedulerEventProcessLoop.onReceive(DAGScheduler.scala:1594)\n\tat org.apache.spark.util.EventLoop$$anon$1.run(EventLoop.scala:48)\n\tat org.apache.spark.scheduler.DAGScheduler.runJob(DAGScheduler.scala:628)\n\tat org.apache.spark.SparkContext.runJob(SparkContext.scala:1918)\n\tat org.apache.spark.SparkContext.runJob(SparkContext.scala:1931)\n\tat org.apache.spark.SparkContext.runJob(SparkContext.scala:1944)\n\tat org.apache.spark.SparkContext.runJob(SparkContext.scala:1958)\n\tat org.apache.spark.rdd.RDD$$anonfun$collect$1.apply(RDD.scala:935)\n\tat org.apache.spark.rdd.RDDOperationScope$.withScope(RDDOperationScope.scala:151)\n\tat org.apache.spark.rdd.RDDOperationScope$.withScope(RDDOperationScope.scala:112)\n\tat org.apache.spark.rdd.RDD.withScope(RDD.scala:362)\n\tat org.apache.spark.rdd.RDD.collect(RDD.scala:934)\n\tat org.apache.spark.api.python.PythonRDD$.collectAndServe(PythonRDD.scala:453)\n\tat org.apache.spark.api.python.PythonRDD.collectAndServe(PythonRDD.scala)\n\tat sun.reflect.GeneratedMethodAccessor69.invoke(Unknown Source)\n\tat sun.reflect.DelegatingMethodAccessorImpl.invoke(DelegatingMethodAccessorImpl.java:43)\n\tat java.lang.reflect.Method.invoke(Method.java:498)\n\tat py4j.reflection.MethodInvoker.invoke(MethodInvoker.java:244)\n\tat py4j.reflection.ReflectionEngine.invoke(ReflectionEngine.java:357)\n\tat py4j.Gateway.invoke(Gateway.java:280)\n\tat py4j.commands.AbstractCommand.invokeMethod(AbstractCommand.java:132)\n\tat py4j.commands.CallCommand.execute(CallCommand.java:79)\n\tat py4j.GatewayConnection.run(GatewayConnection.java:214)\n\tat java.lang.Thread.run(Thread.java:745)\nCaused by: org.apache.spark.api.python.PythonException: Traceback (most recent call last):\n  File \"/Users/ceoxxx/spark/spark-2.1.0-bin-hadoop2.7/python/lib/pyspark.zip/pyspark/worker.py\", line 174, in main\n    process()\n  File \"/Users/ceoxxx/spark/spark-2.1.0-bin-hadoop2.7/python/lib/pyspark.zip/pyspark/worker.py\", line 169, in process\n    serializer.dump_stream(func(split_index, iterator), outfile)\n  File \"/Users/ceoxxx/spark/spark-2.1.0-bin-hadoop2.7/python/pyspark/rdd.py\", line 2407, in pipeline_func\n    return func(split, prev_func(split, iterator))\n  File \"/Users/ceoxxx/spark/spark-2.1.0-bin-hadoop2.7/python/pyspark/rdd.py\", line 2407, in pipeline_func\n    return func(split, prev_func(split, iterator))\n  File \"/Users/ceoxxx/spark/spark-2.1.0-bin-hadoop2.7/python/pyspark/rdd.py\", line 346, in func\n    return f(iterator)\n  File \"/Users/ceoxxx/spark/spark-2.1.0-bin-hadoop2.7/python/pyspark/rdd.py\", line 1290, in <lambda>\n    return self.mapPartitions(lambda it: [heapq.nsmallest(num, it, key)]).reduce(merge)\n  File \"/Users/ceoxxx/anaconda/envs/py2/lib/python2.7/heapq.py\", line 432, in nsmallest\n    result = _nsmallest(n, it)\n  File \"<ipython-input-65-d7804f1f569b>\", line 7, in <lambda>\nTypeError: bad operand type for unary -: 'unicode'\n\n\tat org.apache.spark.api.python.PythonRunner$$anon$1.read(PythonRDD.scala:193)\n\tat org.apache.spark.api.python.PythonRunner$$anon$1.<init>(PythonRDD.scala:234)\n\tat org.apache.spark.api.python.PythonRunner.compute(PythonRDD.scala:152)\n\tat org.apache.spark.api.python.PythonRDD.compute(PythonRDD.scala:63)\n\tat org.apache.spark.rdd.RDD.computeOrReadCheckpoint(RDD.scala:323)\n\tat org.apache.spark.rdd.RDD.iterator(RDD.scala:287)\n\tat org.apache.spark.scheduler.ResultTask.runTask(ResultTask.scala:87)\n\tat org.apache.spark.scheduler.Task.run(Task.scala:99)\n\tat org.apache.spark.executor.Executor$TaskRunner.run(Executor.scala:282)\n\tat java.util.concurrent.ThreadPoolExecutor.runWorker(ThreadPoolExecutor.java:1142)\n\tat java.util.concurrent.ThreadPoolExecutor$Worker.run(ThreadPoolExecutor.java:617)\n\t... 1 more\n"
     ]
    }
   ],
   "source": [
    "sowpods_rdd = sc.textFile('./data/SOWPODS.txt')\n",
    "\n",
    "sampled_words = my_rdd \\\n",
    "    .sample(False, .05) \\\n",
    "    .collect()\n",
    "\n",
    "print len(sampled_words)\n",
    "\n",
    "x_words = my_rdd \\\n",
    "    .filter(lambda word: len(word)>0) \\\n",
    "    .filter(lambda x: x[0] in ['J','j']) \\\n",
    "    .takeOrdered(10, key = lambda x: -x)\n",
    "    \n",
    "    \n",
    "    \n",
    "    \n",
    "print(x_words)\n",
    "\n",
    "\n",
    "#Your code goes here"
   ]
  },
  {
   "cell_type": "markdown",
   "metadata": {
    "collapsed": true,
    "deletable": true,
    "editable": true
   },
   "source": [
    "## Exercise 2 - Counting and cleaning ##\n",
    "\n",
    "What is the distribution of word lengths in SOWPODS? That is, how many 2-letter, 3-letter, 4-letter, etc. words does the dictionary contain?\n",
    "\n",
    "(Note: You'll have to do a little bit of data cleaning to make this work.)"
   ]
  },
  {
   "cell_type": "code",
   "execution_count": 24,
   "metadata": {
    "collapsed": false,
    "deletable": true,
    "editable": true
   },
   "outputs": [
    {
     "data": {
      "text/plain": [
       "[u'SOWPODS (Europe Scrabble Word List)',\n",
       " u'',\n",
       " u'Did you know this is a European word list? You can find the US version here http://www.wordgamedictionary.com/twl06/download/twl06.txt',\n",
       " u'',\n",
       " u'You can also find an extensive and larger English word list here http://www.wordgamedictionary.com/english-word-list/download/english.txt',\n",
       " u'',\n",
       " u'aa',\n",
       " u'aah',\n",
       " u'aahed',\n",
       " u'aahing',\n",
       " u'aahs',\n",
       " u'aal',\n",
       " u'aalii',\n",
       " u'aaliis',\n",
       " u'aals',\n",
       " u'aardvark',\n",
       " u'aardvarks',\n",
       " u'aardwolf',\n",
       " u'aardwolves',\n",
       " u'aargh',\n",
       " u'aarrgh',\n",
       " u'aarrghh',\n",
       " u'aarti',\n",
       " u'aartis',\n",
       " u'aas',\n",
       " u'aasvogel',\n",
       " u'aasvogels',\n",
       " u'ab',\n",
       " u'aba',\n",
       " u'abac',\n",
       " u'abaca',\n",
       " u'abacas',\n",
       " u'abaci',\n",
       " u'aback',\n",
       " u'abacs',\n",
       " u'abacterial',\n",
       " u'abactinal',\n",
       " u'abactinally',\n",
       " u'abactor',\n",
       " u'abactors',\n",
       " u'abacus',\n",
       " u'abacuses',\n",
       " u'abaft',\n",
       " u'abaka',\n",
       " u'abakas',\n",
       " u'abalone',\n",
       " u'abalones',\n",
       " u'abamp',\n",
       " u'abampere',\n",
       " u'abamperes',\n",
       " u'abamps',\n",
       " u'aband',\n",
       " u'abanded',\n",
       " u'abanding',\n",
       " u'abandon',\n",
       " u'abandoned',\n",
       " u'abandonedly',\n",
       " u'abandonee',\n",
       " u'abandonees',\n",
       " u'abandoner',\n",
       " u'abandoners',\n",
       " u'abandoning',\n",
       " u'abandonment',\n",
       " u'abandonments',\n",
       " u'abandons',\n",
       " u'abandonware',\n",
       " u'abandonwares',\n",
       " u'abands',\n",
       " u'abapical',\n",
       " u'abas',\n",
       " u'abase',\n",
       " u'abased',\n",
       " u'abasedly',\n",
       " u'abasement',\n",
       " u'abasements',\n",
       " u'abaser',\n",
       " u'abasers',\n",
       " u'abases',\n",
       " u'abash',\n",
       " u'abashed',\n",
       " u'abashedly',\n",
       " u'abashes',\n",
       " u'abashing',\n",
       " u'abashless',\n",
       " u'abashment',\n",
       " u'abashments',\n",
       " u'abasia',\n",
       " u'abasias',\n",
       " u'abasing',\n",
       " u'abask',\n",
       " u'abatable',\n",
       " u'abate',\n",
       " u'abated',\n",
       " u'abatement',\n",
       " u'abatements',\n",
       " u'abater',\n",
       " u'abaters',\n",
       " u'abates',\n",
       " u'abating',\n",
       " u'abatis',\n",
       " u'abatises',\n",
       " u'abator',\n",
       " u'abators',\n",
       " u'abattis',\n",
       " u'abattises',\n",
       " u'abattoir',\n",
       " u'abattoirs',\n",
       " u'abattu',\n",
       " u'abature',\n",
       " u'abatures',\n",
       " u'abaxial',\n",
       " u'abaxile',\n",
       " u'abaya',\n",
       " u'abayas',\n",
       " u'abb',\n",
       " u'abba',\n",
       " u'abbacies',\n",
       " u'abbacy',\n",
       " u'abbas',\n",
       " u'abbatial',\n",
       " u'abbe',\n",
       " u'abbed',\n",
       " u'abbes',\n",
       " u'abbess',\n",
       " u'abbesses',\n",
       " u'abbey',\n",
       " u'abbeys',\n",
       " u'abbot',\n",
       " u'abbotcies',\n",
       " u'abbotcy',\n",
       " u'abbots',\n",
       " u'abbotship',\n",
       " u'abbotships',\n",
       " u'abbreviate',\n",
       " u'abbreviated',\n",
       " u'abbreviates',\n",
       " u'abbreviating',\n",
       " u'abbreviation',\n",
       " u'abbreviations',\n",
       " u'abbreviator',\n",
       " u'abbreviators',\n",
       " u'abbreviatory',\n",
       " u'abbreviature',\n",
       " u'abbreviatures',\n",
       " u'abbs',\n",
       " u'abcee',\n",
       " u'abcees',\n",
       " u'abcoulomb',\n",
       " u'abcoulombs',\n",
       " u'abdabs',\n",
       " u'abdicable',\n",
       " u'abdicant',\n",
       " u'abdicate',\n",
       " u'abdicated',\n",
       " u'abdicates',\n",
       " u'abdicating',\n",
       " u'abdication',\n",
       " u'abdications',\n",
       " u'abdicative',\n",
       " u'abdicator',\n",
       " u'abdicators',\n",
       " u'abdomen',\n",
       " u'abdomens',\n",
       " u'abdomina',\n",
       " u'abdominal',\n",
       " u'abdominally',\n",
       " u'abdominals',\n",
       " u'abdominoplasty',\n",
       " u'abdominous',\n",
       " u'abduce',\n",
       " u'abduced',\n",
       " u'abducens',\n",
       " u'abducent',\n",
       " u'abducentes',\n",
       " u'abduces',\n",
       " u'abducing',\n",
       " u'abduct',\n",
       " u'abducted',\n",
       " u'abductee',\n",
       " u'abductees',\n",
       " u'abducting',\n",
       " u'abduction',\n",
       " u'abductions',\n",
       " u'abductor',\n",
       " u'abductores',\n",
       " u'abductors',\n",
       " u'abducts',\n",
       " u'abeam',\n",
       " u'abear',\n",
       " u'abearing',\n",
       " u'abears',\n",
       " u'abecedarian',\n",
       " u'abecedarians',\n",
       " u'abed',\n",
       " u'abegging',\n",
       " u'abeigh',\n",
       " u'abele',\n",
       " u'abeles',\n",
       " u'abelia',\n",
       " u'abelian',\n",
       " u'abelias',\n",
       " u'abelmosk',\n",
       " u'abelmosks',\n",
       " u'aberdevine',\n",
       " u'aberdevines',\n",
       " u'abernethies',\n",
       " u'abernethy',\n",
       " u'aberrance',\n",
       " u'aberrances',\n",
       " u'aberrancies',\n",
       " u'aberrancy',\n",
       " u'aberrant',\n",
       " u'aberrantly',\n",
       " u'aberrants',\n",
       " u'aberrate',\n",
       " u'aberrated',\n",
       " u'aberrates',\n",
       " u'aberrating',\n",
       " u'aberration',\n",
       " u'aberrational',\n",
       " u'aberrations',\n",
       " u'abessive',\n",
       " u'abessives',\n",
       " u'abet',\n",
       " u'abetment',\n",
       " u'abetments',\n",
       " u'abets',\n",
       " u'abettal',\n",
       " u'abettals',\n",
       " u'abetted',\n",
       " u'abetter',\n",
       " u'abetters',\n",
       " u'abetting',\n",
       " u'abettor',\n",
       " u'abettors',\n",
       " u'abeyance',\n",
       " u'abeyances',\n",
       " u'abeyancies',\n",
       " u'abeyancy',\n",
       " u'abeyant',\n",
       " u'abfarad',\n",
       " u'abfarads',\n",
       " u'abhenries',\n",
       " u'abhenry',\n",
       " u'abhenrys',\n",
       " u'abhominable',\n",
       " u'abhor',\n",
       " u'abhorred',\n",
       " u'abhorrence',\n",
       " u'abhorrences',\n",
       " u'abhorrencies',\n",
       " u'abhorrency',\n",
       " u'abhorrent',\n",
       " u'abhorrently',\n",
       " u'abhorrer',\n",
       " u'abhorrers',\n",
       " u'abhorring',\n",
       " u'abhorrings',\n",
       " u'abhors',\n",
       " u'abid',\n",
       " u'abidance',\n",
       " u'abidances',\n",
       " u'abidden',\n",
       " u'abide',\n",
       " u'abided',\n",
       " u'abider',\n",
       " u'abiders',\n",
       " u'abides',\n",
       " u'abiding',\n",
       " u'abidingly',\n",
       " u'abidings',\n",
       " u'abies',\n",
       " u'abietic',\n",
       " u'abigail',\n",
       " u'abigails',\n",
       " u'abilities',\n",
       " u'ability',\n",
       " u'abiogeneses',\n",
       " u'abiogenesis',\n",
       " u'abiogenetic',\n",
       " u'abiogenetically',\n",
       " u'abiogenic',\n",
       " u'abiogenically',\n",
       " u'abiogenist',\n",
       " u'abiogenists',\n",
       " u'abiological',\n",
       " u'abioses',\n",
       " u'abiosis',\n",
       " u'abiotic',\n",
       " u'abiotically',\n",
       " u'abiotrophic',\n",
       " u'abiotrophies',\n",
       " u'abiotrophy',\n",
       " u'abirritant',\n",
       " u'abirritants',\n",
       " u'abirritate',\n",
       " u'abirritated',\n",
       " u'abirritates',\n",
       " u'abirritating',\n",
       " u'abiturient',\n",
       " u'abiturients',\n",
       " u'abject',\n",
       " u'abjected',\n",
       " u'abjecting',\n",
       " u'abjection',\n",
       " u'abjections',\n",
       " u'abjectly',\n",
       " u'abjectness',\n",
       " u'abjectnesses',\n",
       " u'abjects',\n",
       " u'abjoint',\n",
       " u'abjointed',\n",
       " u'abjointing',\n",
       " u'abjoints',\n",
       " u'abjunction',\n",
       " u'abjunctions',\n",
       " u'abjuration',\n",
       " u'abjurations',\n",
       " u'abjure',\n",
       " u'abjured',\n",
       " u'abjurer',\n",
       " u'abjurers',\n",
       " u'abjures',\n",
       " u'abjuring',\n",
       " u'ablactation',\n",
       " u'ablactations',\n",
       " u'ablate',\n",
       " u'ablated',\n",
       " u'ablates',\n",
       " u'ablating',\n",
       " u'ablation',\n",
       " u'ablations',\n",
       " u'ablatitious',\n",
       " u'ablatival',\n",
       " u'ablative',\n",
       " u'ablatively',\n",
       " u'ablatives',\n",
       " u'ablator',\n",
       " u'ablators',\n",
       " u'ablaut',\n",
       " u'ablauts',\n",
       " u'ablaze',\n",
       " u'able',\n",
       " u'abled',\n",
       " u'ablegate',\n",
       " u'ablegates',\n",
       " u'ableism',\n",
       " u'ableisms',\n",
       " u'ableist',\n",
       " u'ableists',\n",
       " u'abler',\n",
       " u'ables',\n",
       " u'ablest',\n",
       " u'ablet',\n",
       " u'ablets',\n",
       " u'abling',\n",
       " u'ablings',\n",
       " u'ablins',\n",
       " u'abloom',\n",
       " u'ablow',\n",
       " u'abluent',\n",
       " u'abluents',\n",
       " u'ablush',\n",
       " u'abluted',\n",
       " u'ablution',\n",
       " u'ablutionary',\n",
       " u'ablutions',\n",
       " u'ablutomane',\n",
       " u'ablutomanes',\n",
       " u'ably',\n",
       " u'abmho',\n",
       " u'abmhos',\n",
       " u'abnegate',\n",
       " u'abnegated',\n",
       " u'abnegates',\n",
       " u'abnegating',\n",
       " u'abnegation',\n",
       " u'abnegations',\n",
       " u'abnegator',\n",
       " u'abnegators',\n",
       " u'abnormal',\n",
       " u'abnormalism',\n",
       " u'abnormalisms',\n",
       " u'abnormalities',\n",
       " u'abnormality',\n",
       " u'abnormally',\n",
       " u'abnormals',\n",
       " u'abnormities',\n",
       " u'abnormity',\n",
       " u'abnormous',\n",
       " u'abo',\n",
       " u'aboard',\n",
       " u'abode',\n",
       " u'aboded',\n",
       " u'abodement',\n",
       " u'abodements',\n",
       " u'abodes',\n",
       " u'aboding',\n",
       " u'abohm',\n",
       " u'abohms',\n",
       " u'aboideau',\n",
       " u'aboideaus',\n",
       " u'aboideaux',\n",
       " u'aboil',\n",
       " u'aboiteau',\n",
       " u'aboiteaus',\n",
       " u'aboiteaux',\n",
       " u'abolish',\n",
       " u'abolishable',\n",
       " u'abolished',\n",
       " u'abolisher',\n",
       " u'abolishers',\n",
       " u'abolishes',\n",
       " u'abolishing',\n",
       " u'abolishment',\n",
       " u'abolishments',\n",
       " u'abolition',\n",
       " u'abolitional',\n",
       " u'abolitionary',\n",
       " u'abolitionism',\n",
       " u'abolitionisms',\n",
       " u'abolitionist',\n",
       " u'abolitionists',\n",
       " u'abolitions',\n",
       " u'abolla',\n",
       " u'abollae',\n",
       " u'abollas',\n",
       " u'aboma',\n",
       " u'abomas',\n",
       " u'abomasa',\n",
       " u'abomasal',\n",
       " u'abomasi',\n",
       " u'abomasum',\n",
       " u'abomasus',\n",
       " u'abomasuses',\n",
       " u'abominable',\n",
       " u'abominableness',\n",
       " u'abominably',\n",
       " u'abominate',\n",
       " u'abominated',\n",
       " u'abominates',\n",
       " u'abominating',\n",
       " u'abomination',\n",
       " u'abominations',\n",
       " u'abominator',\n",
       " u'abominators',\n",
       " u'abondance',\n",
       " u'abondances',\n",
       " u'abonnement',\n",
       " u'abonnements',\n",
       " u'aboon',\n",
       " u'aboral',\n",
       " u'aborally',\n",
       " u'abord',\n",
       " u'aborded',\n",
       " u'abording',\n",
       " u'abords',\n",
       " u'abore',\n",
       " u'aborigen',\n",
       " u'aborigens',\n",
       " u'aborigin',\n",
       " u'aboriginal',\n",
       " u'aboriginalism',\n",
       " u'aboriginalisms',\n",
       " u'aboriginalities',\n",
       " u'aboriginality',\n",
       " u'aboriginally',\n",
       " u'aboriginals',\n",
       " u'aborigine',\n",
       " u'aborigines',\n",
       " u'aborigins',\n",
       " u'aborne',\n",
       " u'aborning',\n",
       " u'abort',\n",
       " u'aborted',\n",
       " u'abortee',\n",
       " u'abortees',\n",
       " u'aborter',\n",
       " u'aborters',\n",
       " u'aborticide',\n",
       " u'aborticides',\n",
       " u'abortifacient',\n",
       " u'abortifacients',\n",
       " u'aborting',\n",
       " u'abortion',\n",
       " u'abortional',\n",
       " u'abortionist',\n",
       " u'abortionists',\n",
       " u'abortions',\n",
       " u'abortive',\n",
       " u'abortively',\n",
       " u'abortiveness',\n",
       " u'abortivenesses',\n",
       " u'aborts',\n",
       " u'abortuaries',\n",
       " u'abortuary',\n",
       " u'abortus',\n",
       " u'abortuses',\n",
       " u'abos',\n",
       " u'abought',\n",
       " u'aboulia',\n",
       " u'aboulias',\n",
       " u'aboulic',\n",
       " u'abound',\n",
       " u'abounded',\n",
       " u'abounding',\n",
       " u'abounds',\n",
       " u'about',\n",
       " u'abouts',\n",
       " u'above',\n",
       " u'aboveboard',\n",
       " u'aboveground',\n",
       " u'aboves',\n",
       " u'abracadabra',\n",
       " u'abracadabras',\n",
       " u'abrachia',\n",
       " u'abrachias',\n",
       " u'abradable',\n",
       " u'abradant',\n",
       " u'abradants',\n",
       " u'abrade',\n",
       " u'abraded',\n",
       " u'abrader',\n",
       " u'abraders',\n",
       " u'abrades',\n",
       " u'abrading',\n",
       " u'abraid',\n",
       " u'abraided',\n",
       " u'abraiding',\n",
       " u'abraids',\n",
       " u'abram',\n",
       " u'abranchial',\n",
       " u'abranchiate',\n",
       " u'abrasax',\n",
       " u'abrasaxes',\n",
       " u'abrasion',\n",
       " u'abrasions',\n",
       " u'abrasive',\n",
       " u'abrasively',\n",
       " u'abrasiveness',\n",
       " u'abrasivenesses',\n",
       " u'abrasives',\n",
       " u'abraxas',\n",
       " u'abraxases',\n",
       " u'abray',\n",
       " u'abrayed',\n",
       " u'abraying',\n",
       " u'abrays',\n",
       " u'abrazo',\n",
       " u'abrazos',\n",
       " u'abreact',\n",
       " u'abreacted',\n",
       " u'abreacting',\n",
       " u'abreaction',\n",
       " u'abreactions',\n",
       " u'abreactive',\n",
       " u'abreacts',\n",
       " u'abreast',\n",
       " u'abrege',\n",
       " u'abreges',\n",
       " u'abri',\n",
       " u'abricock',\n",
       " u'abricocks',\n",
       " u'abridgable',\n",
       " u'abridge',\n",
       " u'abridgeable',\n",
       " u'abridged',\n",
       " u'abridgement',\n",
       " u'abridgements',\n",
       " u'abridger',\n",
       " u'abridgers',\n",
       " u'abridges',\n",
       " u'abridging',\n",
       " u'abridgment',\n",
       " u'abridgments',\n",
       " u'abrim',\n",
       " u'abrin',\n",
       " u'abrins',\n",
       " u'abris',\n",
       " u'abroach',\n",
       " u'abroad',\n",
       " u'abroads',\n",
       " u'abrogable',\n",
       " u'abrogate',\n",
       " u'abrogated',\n",
       " u'abrogates',\n",
       " u'abrogating',\n",
       " u'abrogation',\n",
       " u'abrogations',\n",
       " u'abrogative',\n",
       " u'abrogator',\n",
       " u'abrogators',\n",
       " u'abrooke',\n",
       " u'abrooked',\n",
       " u'abrookes',\n",
       " u'abrooking',\n",
       " u'abrosia',\n",
       " u'abrosias',\n",
       " u'abrupt',\n",
       " u'abrupter',\n",
       " u'abruptest',\n",
       " u'abruption',\n",
       " u'abruptions',\n",
       " u'abruptly',\n",
       " u'abruptness',\n",
       " u'abruptnesses',\n",
       " u'abrupts',\n",
       " u'abs',\n",
       " u'abscess',\n",
       " u'abscessed',\n",
       " u'abscesses',\n",
       " u'abscessing',\n",
       " u'abscind',\n",
       " u'abscinded',\n",
       " u'abscinding',\n",
       " u'abscinds',\n",
       " u'abscise',\n",
       " u'abscised',\n",
       " u'abscises',\n",
       " u'abscisin',\n",
       " u'abscising',\n",
       " u'abscisins',\n",
       " u'absciss',\n",
       " u'abscissa',\n",
       " u'abscissae',\n",
       " u'abscissas',\n",
       " u'abscisse',\n",
       " u'abscisses',\n",
       " u'abscissin',\n",
       " u'abscissins',\n",
       " u'abscission',\n",
       " u'abscissions',\n",
       " u'abscond',\n",
       " u'absconded',\n",
       " u'abscondence',\n",
       " u'abscondences',\n",
       " u'absconder',\n",
       " u'absconders',\n",
       " u'absconding',\n",
       " u'absconds',\n",
       " u'abseil',\n",
       " u'abseiled',\n",
       " u'abseiling',\n",
       " u'abseilings',\n",
       " u'abseils',\n",
       " u'absence',\n",
       " u'absences',\n",
       " u'absent',\n",
       " u'absented',\n",
       " u'absentee',\n",
       " u'absenteeism',\n",
       " u'absenteeisms',\n",
       " u'absentees',\n",
       " u'absenter',\n",
       " u'absenters',\n",
       " u'absenting',\n",
       " u'absently',\n",
       " u'absentminded',\n",
       " u'absentmindedly',\n",
       " u'absents',\n",
       " u'absey',\n",
       " u'abseys',\n",
       " u'absinth',\n",
       " u'absinthe',\n",
       " u'absinthes',\n",
       " u'absinthiated',\n",
       " u'absinthism',\n",
       " u'absinthisms',\n",
       " u'absinths',\n",
       " u'absit',\n",
       " u'absits',\n",
       " u'absolute',\n",
       " u'absolutely',\n",
       " u'absoluteness',\n",
       " u'absolutenesses',\n",
       " u'absoluter',\n",
       " u'absolutes',\n",
       " u'absolutest',\n",
       " u'absolution',\n",
       " u'absolutions',\n",
       " u'absolutise',\n",
       " u'absolutised',\n",
       " u'absolutises',\n",
       " u'absolutising',\n",
       " u'absolutism',\n",
       " u'absolutisms',\n",
       " u'absolutist',\n",
       " u'absolutistic',\n",
       " u'absolutists',\n",
       " u'absolutive',\n",
       " u'absolutize',\n",
       " u'absolutized',\n",
       " u'absolutizes',\n",
       " u'absolutizing',\n",
       " u'absolutory',\n",
       " u'absolvable',\n",
       " u'absolve',\n",
       " u'absolved',\n",
       " u'absolvent',\n",
       " u'absolvents',\n",
       " u'absolver',\n",
       " u'absolvers',\n",
       " u'absolves',\n",
       " u'absolving',\n",
       " u'absolvitor',\n",
       " u'absolvitors',\n",
       " u'absonant',\n",
       " u'absorb',\n",
       " u'absorbabilities',\n",
       " u'absorbability',\n",
       " u'absorbable',\n",
       " u'absorbance',\n",
       " u'absorbances',\n",
       " u'absorbancies',\n",
       " u'absorbancy',\n",
       " u'absorbant',\n",
       " u'absorbants',\n",
       " u'absorbate',\n",
       " u'absorbates',\n",
       " u'absorbed',\n",
       " u'absorbedly',\n",
       " u'absorbefacient',\n",
       " u'absorbefacients',\n",
       " u'absorbencies',\n",
       " u'absorbency',\n",
       " u'absorbent',\n",
       " u'absorbents',\n",
       " u'absorber',\n",
       " u'absorbers',\n",
       " u'absorbing',\n",
       " u'absorbingly',\n",
       " u'absorbs',\n",
       " u'absorptance',\n",
       " u'absorptances',\n",
       " u'absorptiometer',\n",
       " u'absorptiometers',\n",
       " u'absorption',\n",
       " u'absorptions',\n",
       " u'absorptive',\n",
       " u'absorptiveness',\n",
       " u'absorptivities',\n",
       " u'absorptivity',\n",
       " u'absquatulate',\n",
       " u'absquatulated',\n",
       " u'absquatulates',\n",
       " u'absquatulating',\n",
       " u'abstain',\n",
       " u'abstained',\n",
       " u'abstainer',\n",
       " u'abstainers',\n",
       " u'abstaining',\n",
       " u'abstains',\n",
       " u'abstemious',\n",
       " u'abstemiously',\n",
       " u'abstemiousness',\n",
       " u'abstention',\n",
       " u'abstentionism',\n",
       " u'abstentionisms',\n",
       " u'abstentionist',\n",
       " u'abstentionists',\n",
       " u'abstentions',\n",
       " u'abstentious',\n",
       " u'absterge',\n",
       " u'absterged',\n",
       " u'abstergent',\n",
       " u'abstergents',\n",
       " u'absterges',\n",
       " u'absterging',\n",
       " u'abstersion',\n",
       " u'abstersions',\n",
       " u'abstersive',\n",
       " u'abstersives',\n",
       " u'abstinence',\n",
       " u'abstinences',\n",
       " u'abstinencies',\n",
       " u'abstinency',\n",
       " u'abstinent',\n",
       " u'abstinently',\n",
       " u'abstract',\n",
       " u'abstractable',\n",
       " u'abstracted',\n",
       " u'abstractedly',\n",
       " u'abstractedness',\n",
       " u'abstracter',\n",
       " u'abstracters',\n",
       " u'abstractest',\n",
       " u'abstracting',\n",
       " u'abstraction',\n",
       " u'abstractional',\n",
       " u'abstractionism',\n",
       " u'abstractionisms',\n",
       " u'abstractionist',\n",
       " u'abstractionists',\n",
       " u'abstractions',\n",
       " u'abstractive',\n",
       " u'abstractively',\n",
       " u'abstractives',\n",
       " u'abstractly',\n",
       " u'abstractness',\n",
       " u'abstractnesses',\n",
       " u'abstractor',\n",
       " u'abstractors',\n",
       " u'abstracts',\n",
       " u'abstrict',\n",
       " u'abstricted',\n",
       " u'abstricting',\n",
       " u'abstriction',\n",
       " u'abstrictions',\n",
       " u'abstricts',\n",
       " u'abstruse',\n",
       " u'abstrusely',\n",
       " u'abstruseness',\n",
       " u'abstrusenesses',\n",
       " u'abstruser',\n",
       " u'abstrusest',\n",
       " u'abstrusities',\n",
       " u'abstrusity',\n",
       " u'absurd',\n",
       " u'absurder',\n",
       " u'absurdest',\n",
       " u'absurdism',\n",
       " u'absurdisms',\n",
       " u'absurdist',\n",
       " u'absurdists',\n",
       " u'absurdities',\n",
       " u'absurdity',\n",
       " u'absurdly',\n",
       " u'absurdness',\n",
       " u'absurdnesses',\n",
       " u'absurds',\n",
       " u'abthane',\n",
       " u'abthanes',\n",
       " u'abubble',\n",
       " u'abuilding',\n",
       " u'abulia',\n",
       " u'abulias',\n",
       " u'abulic',\n",
       " u'abuna',\n",
       " u'abunas',\n",
       " u'abundance',\n",
       " u'abundances',\n",
       " u'abundancies',\n",
       " u'abundancy',\n",
       " u'abundant',\n",
       " u'abundantly',\n",
       " u'abune',\n",
       " u'aburst',\n",
       " u'abusable',\n",
       " u'abusage',\n",
       " u'abusages',\n",
       " u'abuse',\n",
       " u'abused',\n",
       " u'abuser',\n",
       " u'abusers',\n",
       " u'abuses',\n",
       " u'abusing',\n",
       " u'abusion',\n",
       " u'abusions',\n",
       " u'abusive',\n",
       " u'abusively',\n",
       " u'abusiveness',\n",
       " u'abusivenesses',\n",
       " u'abut',\n",
       " u'abutilon',\n",
       " u'abutilons',\n",
       " u'abutment',\n",
       " u'abutments',\n",
       " u'abuts',\n",
       " u'abuttal',\n",
       " u'abuttals',\n",
       " u'abutted',\n",
       " u'abutter',\n",
       " u'abutters',\n",
       " u'abutting',\n",
       " u'abuzz',\n",
       " u'abvolt',\n",
       " u'abvolts',\n",
       " u'abwatt',\n",
       " u'abwatts',\n",
       " u'aby',\n",
       " u'abye',\n",
       " u'abyeing',\n",
       " u'abyes',\n",
       " u'abying',\n",
       " u'abys',\n",
       " u'abysm',\n",
       " u'abysmal',\n",
       " u'abysmally',\n",
       " u'abysms',\n",
       " u'abyss',\n",
       " u'abyssal',\n",
       " u'abysses',\n",
       " u'abyssopelagic',\n",
       " u'acacia',\n",
       " u'acacias',\n",
       " u'academe',\n",
       " u'academes',\n",
       " u'academia',\n",
       " u'academias',\n",
       " u'academic',\n",
       " u'academical',\n",
       " u'academicalism',\n",
       " u'academicalisms',\n",
       " u'academically',\n",
       " u'academicals',\n",
       " u'academician',\n",
       " u'academicians',\n",
       " u'academicism',\n",
       " u'academicisms',\n",
       " u'academics',\n",
       " u'academies',\n",
       " u'academism',\n",
       " u'academisms',\n",
       " u'academist',\n",
       " u'academists',\n",
       " u'academy',\n",
       " u'acai',\n",
       " u'acais',\n",
       " u'acajou',\n",
       " u'acajous',\n",
       " u'acalculia',\n",
       " u'acalculias',\n",
       " u'acaleph',\n",
       " u'acalephae',\n",
       " u'acalephan',\n",
       " u'acalephans',\n",
       " u'acalephe',\n",
       " u'acalephes',\n",
       " u'acalephs',\n",
       " u'acanaceous',\n",
       " u'acanth',\n",
       " u'acantha',\n",
       " u'acanthaceous',\n",
       " u'acanthae',\n",
       " u'acanthas',\n",
       " u'acanthi',\n",
       " u'acanthin',\n",
       " u'acanthine',\n",
       " u'acanthins',\n",
       " u'acanthocephalan',\n",
       " u'acanthoid',\n",
       " u'acanthous',\n",
       " u'acanths',\n",
       " u'acanthus',\n",
       " u'acanthuses',\n",
       " u'acapnia',\n",
       " u'acapnias',\n",
       " u'acarbose',\n",
       " u'acarboses',\n",
       " u'acari',\n",
       " u'acarian',\n",
       " u'acariases',\n",
       " u'acariasis',\n",
       " u'acaricidal',\n",
       " u'acaricide',\n",
       " u'acaricides',\n",
       " u'acarid',\n",
       " u'acaridan',\n",
       " u'acaridans',\n",
       " u'acaridean',\n",
       " u'acarideans',\n",
       " u'acaridian',\n",
       " u'acaridians',\n",
       " u'acaridomatia',\n",
       " u'acaridomatium',\n",
       " u'acarids',\n",
       " u'acarine',\n",
       " u'acarines',\n",
       " u'acarodomatia',\n",
       " u'acarodomatium',\n",
       " u'acaroid',\n",
       " u'acarologies',\n",
       " u'acarologist',\n",
       " u'acarologists',\n",
       " u'acarology',\n",
       " u'acarophilies',\n",
       " u'acarophily',\n",
       " u'acarpellous',\n",
       " u'acarpelous',\n",
       " u'acarpous',\n",
       " u'acarus',\n",
       " u'acatalectic',\n",
       " u'acatalectics',\n",
       " u'acatalepsies',\n",
       " u'acatalepsy',\n",
       " u'acataleptic',\n",
       " u'acataleptics',\n",
       " u'acatamathesia',\n",
       " u'acatamathesias',\n",
       " u'acater',\n",
       " u'acaters',\n",
       " u'acates',\n",
       " u'acatour',\n",
       " u'acatours',\n",
       " u'acaudal',\n",
       " u'acaudate',\n",
       " u'acaulescent',\n",
       " u'acauline',\n",
       " u'acaulose',\n",
       " u'acaulous',\n",
       " ...]"
      ]
     },
     "execution_count": 24,
     "metadata": {},
     "output_type": "execute_result"
    }
   ],
   "source": [
    "(sowpods_rdd\n",
    "    # Your code goes here\n",
    "    .collect()\n",
    ")"
   ]
  },
  {
   "cell_type": "markdown",
   "metadata": {
    "deletable": true,
    "editable": true
   },
   "source": [
    "### Exercise 3 - Lazy execution ###\n",
    "\n",
    "Check out this function. It works for string numbers and breaks for other characters:"
   ]
  },
  {
   "cell_type": "code",
   "execution_count": 25,
   "metadata": {
    "collapsed": false,
    "deletable": true,
    "editable": true
   },
   "outputs": [
    {
     "name": "stdout",
     "output_type": "stream",
     "text": [
      "5\n"
     ]
    },
    {
     "ename": "ValueError",
     "evalue": "invalid literal for int() with base 10: 'g'",
     "output_type": "error",
     "traceback": [
      "\u001b[0;31m---------------------------------------------------------------------------\u001b[0m",
      "\u001b[0;31mValueError\u001b[0m                                Traceback (most recent call last)",
      "\u001b[0;32m<ipython-input-25-3ee3a41425fa>\u001b[0m in \u001b[0;36m<module>\u001b[0;34m()\u001b[0m\n\u001b[1;32m      3\u001b[0m \u001b[0;34m\u001b[0m\u001b[0m\n\u001b[1;32m      4\u001b[0m \u001b[0;32mprint\u001b[0m \u001b[0mparse_int\u001b[0m\u001b[0;34m(\u001b[0m\u001b[0;34m\"5\"\u001b[0m\u001b[0;34m)\u001b[0m\u001b[0;34m\u001b[0m\u001b[0m\n\u001b[0;32m----> 5\u001b[0;31m \u001b[0;32mprint\u001b[0m \u001b[0mparse_int\u001b[0m\u001b[0;34m(\u001b[0m\u001b[0;34m\"g\"\u001b[0m\u001b[0;34m)\u001b[0m\u001b[0;34m\u001b[0m\u001b[0m\n\u001b[0m",
      "\u001b[0;32m<ipython-input-25-3ee3a41425fa>\u001b[0m in \u001b[0;36mparse_int\u001b[0;34m(my_char)\u001b[0m\n\u001b[1;32m      1\u001b[0m \u001b[0;32mdef\u001b[0m \u001b[0mparse_int\u001b[0m\u001b[0;34m(\u001b[0m\u001b[0mmy_char\u001b[0m\u001b[0;34m)\u001b[0m\u001b[0;34m:\u001b[0m\u001b[0;34m\u001b[0m\u001b[0m\n\u001b[0;32m----> 2\u001b[0;31m     \u001b[0;32mreturn\u001b[0m \u001b[0mint\u001b[0m\u001b[0;34m(\u001b[0m\u001b[0mmy_char\u001b[0m\u001b[0;34m)\u001b[0m\u001b[0;34m\u001b[0m\u001b[0m\n\u001b[0m\u001b[1;32m      3\u001b[0m \u001b[0;34m\u001b[0m\u001b[0m\n\u001b[1;32m      4\u001b[0m \u001b[0;32mprint\u001b[0m \u001b[0mparse_int\u001b[0m\u001b[0;34m(\u001b[0m\u001b[0;34m\"5\"\u001b[0m\u001b[0;34m)\u001b[0m\u001b[0;34m\u001b[0m\u001b[0m\n\u001b[1;32m      5\u001b[0m \u001b[0;32mprint\u001b[0m \u001b[0mparse_int\u001b[0m\u001b[0;34m(\u001b[0m\u001b[0;34m\"g\"\u001b[0m\u001b[0;34m)\u001b[0m\u001b[0;34m\u001b[0m\u001b[0m\n",
      "\u001b[0;31mValueError\u001b[0m: invalid literal for int() with base 10: 'g'"
     ]
    }
   ],
   "source": [
    "def parse_int(my_char):\n",
    "    return int(my_char)\n",
    "\n",
    "print parse_int(\"5\")\n",
    "print parse_int(\"g\")"
   ]
  },
  {
   "cell_type": "markdown",
   "metadata": {
    "deletable": true,
    "editable": true
   },
   "source": [
    "Why does this work?"
   ]
  },
  {
   "cell_type": "code",
   "execution_count": 26,
   "metadata": {
    "collapsed": false,
    "deletable": true,
    "editable": true
   },
   "outputs": [
    {
     "data": {
      "text/plain": [
       "[0, 1, 2, 3, 4, 5, 6, 7, 8, 9]"
      ]
     },
     "execution_count": 26,
     "metadata": {},
     "output_type": "execute_result"
    }
   ],
   "source": [
    "my_list = list('0123456789a')\n",
    "my_rdd = sc.parallelize(my_list)\n",
    "\n",
    "my_rdd.map(parse_int).take(10)"
   ]
  },
  {
   "cell_type": "markdown",
   "metadata": {
    "deletable": true,
    "editable": true
   },
   "source": [
    "...this fail?"
   ]
  },
  {
   "cell_type": "code",
   "execution_count": 27,
   "metadata": {
    "collapsed": false,
    "deletable": true,
    "editable": true
   },
   "outputs": [
    {
     "ename": "Py4JJavaError",
     "evalue": "An error occurred while calling z:org.apache.spark.api.python.PythonRDD.collectAndServe.\n: org.apache.spark.SparkException: Job aborted due to stage failure: Task 1 in stage 41.0 failed 1 times, most recent failure: Lost task 1.0 in stage 41.0 (TID 55, localhost, executor driver): org.apache.spark.api.python.PythonException: Traceback (most recent call last):\n  File \"/Users/ceoxxx/spark/spark-2.1.0-bin-hadoop2.7/python/lib/pyspark.zip/pyspark/worker.py\", line 174, in main\n    process()\n  File \"/Users/ceoxxx/spark/spark-2.1.0-bin-hadoop2.7/python/lib/pyspark.zip/pyspark/worker.py\", line 169, in process\n    serializer.dump_stream(func(split_index, iterator), outfile)\n  File \"/Users/ceoxxx/spark/spark-2.1.0-bin-hadoop2.7/python/lib/pyspark.zip/pyspark/serializers.py\", line 268, in dump_stream\n    vs = list(itertools.islice(iterator, batch))\n  File \"<ipython-input-25-3ee3a41425fa>\", line 2, in parse_int\nValueError: invalid literal for int() with base 10: 'a'\n\n\tat org.apache.spark.api.python.PythonRunner$$anon$1.read(PythonRDD.scala:193)\n\tat org.apache.spark.api.python.PythonRunner$$anon$1.next(PythonRDD.scala:156)\n\tat org.apache.spark.api.python.PythonRunner$$anon$1.next(PythonRDD.scala:152)\n\tat org.apache.spark.InterruptibleIterator.next(InterruptibleIterator.scala:43)\n\tat scala.collection.Iterator$class.foreach(Iterator.scala:893)\n\tat org.apache.spark.InterruptibleIterator.foreach(InterruptibleIterator.scala:28)\n\tat scala.collection.generic.Growable$class.$plus$plus$eq(Growable.scala:59)\n\tat scala.collection.mutable.ArrayBuffer.$plus$plus$eq(ArrayBuffer.scala:104)\n\tat scala.collection.mutable.ArrayBuffer.$plus$plus$eq(ArrayBuffer.scala:48)\n\tat scala.collection.TraversableOnce$class.to(TraversableOnce.scala:310)\n\tat org.apache.spark.InterruptibleIterator.to(InterruptibleIterator.scala:28)\n\tat scala.collection.TraversableOnce$class.toBuffer(TraversableOnce.scala:302)\n\tat org.apache.spark.InterruptibleIterator.toBuffer(InterruptibleIterator.scala:28)\n\tat scala.collection.TraversableOnce$class.toArray(TraversableOnce.scala:289)\n\tat org.apache.spark.InterruptibleIterator.toArray(InterruptibleIterator.scala:28)\n\tat org.apache.spark.rdd.RDD$$anonfun$collect$1$$anonfun$13.apply(RDD.scala:935)\n\tat org.apache.spark.rdd.RDD$$anonfun$collect$1$$anonfun$13.apply(RDD.scala:935)\n\tat org.apache.spark.SparkContext$$anonfun$runJob$5.apply(SparkContext.scala:1944)\n\tat org.apache.spark.SparkContext$$anonfun$runJob$5.apply(SparkContext.scala:1944)\n\tat org.apache.spark.scheduler.ResultTask.runTask(ResultTask.scala:87)\n\tat org.apache.spark.scheduler.Task.run(Task.scala:99)\n\tat org.apache.spark.executor.Executor$TaskRunner.run(Executor.scala:282)\n\tat java.util.concurrent.ThreadPoolExecutor.runWorker(ThreadPoolExecutor.java:1142)\n\tat java.util.concurrent.ThreadPoolExecutor$Worker.run(ThreadPoolExecutor.java:617)\n\tat java.lang.Thread.run(Thread.java:745)\n\nDriver stacktrace:\n\tat org.apache.spark.scheduler.DAGScheduler.org$apache$spark$scheduler$DAGScheduler$$failJobAndIndependentStages(DAGScheduler.scala:1435)\n\tat org.apache.spark.scheduler.DAGScheduler$$anonfun$abortStage$1.apply(DAGScheduler.scala:1423)\n\tat org.apache.spark.scheduler.DAGScheduler$$anonfun$abortStage$1.apply(DAGScheduler.scala:1422)\n\tat scala.collection.mutable.ResizableArray$class.foreach(ResizableArray.scala:59)\n\tat scala.collection.mutable.ArrayBuffer.foreach(ArrayBuffer.scala:48)\n\tat org.apache.spark.scheduler.DAGScheduler.abortStage(DAGScheduler.scala:1422)\n\tat org.apache.spark.scheduler.DAGScheduler$$anonfun$handleTaskSetFailed$1.apply(DAGScheduler.scala:802)\n\tat org.apache.spark.scheduler.DAGScheduler$$anonfun$handleTaskSetFailed$1.apply(DAGScheduler.scala:802)\n\tat scala.Option.foreach(Option.scala:257)\n\tat org.apache.spark.scheduler.DAGScheduler.handleTaskSetFailed(DAGScheduler.scala:802)\n\tat org.apache.spark.scheduler.DAGSchedulerEventProcessLoop.doOnReceive(DAGScheduler.scala:1650)\n\tat org.apache.spark.scheduler.DAGSchedulerEventProcessLoop.onReceive(DAGScheduler.scala:1605)\n\tat org.apache.spark.scheduler.DAGSchedulerEventProcessLoop.onReceive(DAGScheduler.scala:1594)\n\tat org.apache.spark.util.EventLoop$$anon$1.run(EventLoop.scala:48)\n\tat org.apache.spark.scheduler.DAGScheduler.runJob(DAGScheduler.scala:628)\n\tat org.apache.spark.SparkContext.runJob(SparkContext.scala:1918)\n\tat org.apache.spark.SparkContext.runJob(SparkContext.scala:1931)\n\tat org.apache.spark.SparkContext.runJob(SparkContext.scala:1944)\n\tat org.apache.spark.SparkContext.runJob(SparkContext.scala:1958)\n\tat org.apache.spark.rdd.RDD$$anonfun$collect$1.apply(RDD.scala:935)\n\tat org.apache.spark.rdd.RDDOperationScope$.withScope(RDDOperationScope.scala:151)\n\tat org.apache.spark.rdd.RDDOperationScope$.withScope(RDDOperationScope.scala:112)\n\tat org.apache.spark.rdd.RDD.withScope(RDD.scala:362)\n\tat org.apache.spark.rdd.RDD.collect(RDD.scala:934)\n\tat org.apache.spark.api.python.PythonRDD$.collectAndServe(PythonRDD.scala:453)\n\tat org.apache.spark.api.python.PythonRDD.collectAndServe(PythonRDD.scala)\n\tat sun.reflect.GeneratedMethodAccessor69.invoke(Unknown Source)\n\tat sun.reflect.DelegatingMethodAccessorImpl.invoke(DelegatingMethodAccessorImpl.java:43)\n\tat java.lang.reflect.Method.invoke(Method.java:498)\n\tat py4j.reflection.MethodInvoker.invoke(MethodInvoker.java:244)\n\tat py4j.reflection.ReflectionEngine.invoke(ReflectionEngine.java:357)\n\tat py4j.Gateway.invoke(Gateway.java:280)\n\tat py4j.commands.AbstractCommand.invokeMethod(AbstractCommand.java:132)\n\tat py4j.commands.CallCommand.execute(CallCommand.java:79)\n\tat py4j.GatewayConnection.run(GatewayConnection.java:214)\n\tat java.lang.Thread.run(Thread.java:745)\nCaused by: org.apache.spark.api.python.PythonException: Traceback (most recent call last):\n  File \"/Users/ceoxxx/spark/spark-2.1.0-bin-hadoop2.7/python/lib/pyspark.zip/pyspark/worker.py\", line 174, in main\n    process()\n  File \"/Users/ceoxxx/spark/spark-2.1.0-bin-hadoop2.7/python/lib/pyspark.zip/pyspark/worker.py\", line 169, in process\n    serializer.dump_stream(func(split_index, iterator), outfile)\n  File \"/Users/ceoxxx/spark/spark-2.1.0-bin-hadoop2.7/python/lib/pyspark.zip/pyspark/serializers.py\", line 268, in dump_stream\n    vs = list(itertools.islice(iterator, batch))\n  File \"<ipython-input-25-3ee3a41425fa>\", line 2, in parse_int\nValueError: invalid literal for int() with base 10: 'a'\n\n\tat org.apache.spark.api.python.PythonRunner$$anon$1.read(PythonRDD.scala:193)\n\tat org.apache.spark.api.python.PythonRunner$$anon$1.next(PythonRDD.scala:156)\n\tat org.apache.spark.api.python.PythonRunner$$anon$1.next(PythonRDD.scala:152)\n\tat org.apache.spark.InterruptibleIterator.next(InterruptibleIterator.scala:43)\n\tat scala.collection.Iterator$class.foreach(Iterator.scala:893)\n\tat org.apache.spark.InterruptibleIterator.foreach(InterruptibleIterator.scala:28)\n\tat scala.collection.generic.Growable$class.$plus$plus$eq(Growable.scala:59)\n\tat scala.collection.mutable.ArrayBuffer.$plus$plus$eq(ArrayBuffer.scala:104)\n\tat scala.collection.mutable.ArrayBuffer.$plus$plus$eq(ArrayBuffer.scala:48)\n\tat scala.collection.TraversableOnce$class.to(TraversableOnce.scala:310)\n\tat org.apache.spark.InterruptibleIterator.to(InterruptibleIterator.scala:28)\n\tat scala.collection.TraversableOnce$class.toBuffer(TraversableOnce.scala:302)\n\tat org.apache.spark.InterruptibleIterator.toBuffer(InterruptibleIterator.scala:28)\n\tat scala.collection.TraversableOnce$class.toArray(TraversableOnce.scala:289)\n\tat org.apache.spark.InterruptibleIterator.toArray(InterruptibleIterator.scala:28)\n\tat org.apache.spark.rdd.RDD$$anonfun$collect$1$$anonfun$13.apply(RDD.scala:935)\n\tat org.apache.spark.rdd.RDD$$anonfun$collect$1$$anonfun$13.apply(RDD.scala:935)\n\tat org.apache.spark.SparkContext$$anonfun$runJob$5.apply(SparkContext.scala:1944)\n\tat org.apache.spark.SparkContext$$anonfun$runJob$5.apply(SparkContext.scala:1944)\n\tat org.apache.spark.scheduler.ResultTask.runTask(ResultTask.scala:87)\n\tat org.apache.spark.scheduler.Task.run(Task.scala:99)\n\tat org.apache.spark.executor.Executor$TaskRunner.run(Executor.scala:282)\n\tat java.util.concurrent.ThreadPoolExecutor.runWorker(ThreadPoolExecutor.java:1142)\n\tat java.util.concurrent.ThreadPoolExecutor$Worker.run(ThreadPoolExecutor.java:617)\n\t... 1 more\n",
     "output_type": "error",
     "traceback": [
      "\u001b[0;31m---------------------------------------------------------------------------\u001b[0m",
      "\u001b[0;31mPy4JJavaError\u001b[0m                             Traceback (most recent call last)",
      "\u001b[0;32m<ipython-input-27-3f259b021684>\u001b[0m in \u001b[0;36m<module>\u001b[0;34m()\u001b[0m\n\u001b[0;32m----> 1\u001b[0;31m \u001b[0mmy_rdd\u001b[0m\u001b[0;34m.\u001b[0m\u001b[0mmap\u001b[0m\u001b[0;34m(\u001b[0m\u001b[0mparse_int\u001b[0m\u001b[0;34m)\u001b[0m\u001b[0;34m.\u001b[0m\u001b[0mcollect\u001b[0m\u001b[0;34m(\u001b[0m\u001b[0;34m)\u001b[0m\u001b[0;34m\u001b[0m\u001b[0m\n\u001b[0m",
      "\u001b[0;32m/Users/ceoxxx/spark/spark-2.1.0-bin-hadoop2.7/python/pyspark/rdd.pyc\u001b[0m in \u001b[0;36mcollect\u001b[0;34m(self)\u001b[0m\n\u001b[1;32m    807\u001b[0m         \"\"\"\n\u001b[1;32m    808\u001b[0m         \u001b[0;32mwith\u001b[0m \u001b[0mSCCallSiteSync\u001b[0m\u001b[0;34m(\u001b[0m\u001b[0mself\u001b[0m\u001b[0;34m.\u001b[0m\u001b[0mcontext\u001b[0m\u001b[0;34m)\u001b[0m \u001b[0;32mas\u001b[0m \u001b[0mcss\u001b[0m\u001b[0;34m:\u001b[0m\u001b[0;34m\u001b[0m\u001b[0m\n\u001b[0;32m--> 809\u001b[0;31m             \u001b[0mport\u001b[0m \u001b[0;34m=\u001b[0m \u001b[0mself\u001b[0m\u001b[0;34m.\u001b[0m\u001b[0mctx\u001b[0m\u001b[0;34m.\u001b[0m\u001b[0m_jvm\u001b[0m\u001b[0;34m.\u001b[0m\u001b[0mPythonRDD\u001b[0m\u001b[0;34m.\u001b[0m\u001b[0mcollectAndServe\u001b[0m\u001b[0;34m(\u001b[0m\u001b[0mself\u001b[0m\u001b[0;34m.\u001b[0m\u001b[0m_jrdd\u001b[0m\u001b[0;34m.\u001b[0m\u001b[0mrdd\u001b[0m\u001b[0;34m(\u001b[0m\u001b[0;34m)\u001b[0m\u001b[0;34m)\u001b[0m\u001b[0;34m\u001b[0m\u001b[0m\n\u001b[0m\u001b[1;32m    810\u001b[0m         \u001b[0;32mreturn\u001b[0m \u001b[0mlist\u001b[0m\u001b[0;34m(\u001b[0m\u001b[0m_load_from_socket\u001b[0m\u001b[0;34m(\u001b[0m\u001b[0mport\u001b[0m\u001b[0;34m,\u001b[0m \u001b[0mself\u001b[0m\u001b[0;34m.\u001b[0m\u001b[0m_jrdd_deserializer\u001b[0m\u001b[0;34m)\u001b[0m\u001b[0;34m)\u001b[0m\u001b[0;34m\u001b[0m\u001b[0m\n\u001b[1;32m    811\u001b[0m \u001b[0;34m\u001b[0m\u001b[0m\n",
      "\u001b[0;32m/Users/ceoxxx/spark/spark-2.1.0-bin-hadoop2.7/python/lib/py4j-0.10.4-src.zip/py4j/java_gateway.py\u001b[0m in \u001b[0;36m__call__\u001b[0;34m(self, *args)\u001b[0m\n\u001b[1;32m   1131\u001b[0m         \u001b[0manswer\u001b[0m \u001b[0;34m=\u001b[0m \u001b[0mself\u001b[0m\u001b[0;34m.\u001b[0m\u001b[0mgateway_client\u001b[0m\u001b[0;34m.\u001b[0m\u001b[0msend_command\u001b[0m\u001b[0;34m(\u001b[0m\u001b[0mcommand\u001b[0m\u001b[0;34m)\u001b[0m\u001b[0;34m\u001b[0m\u001b[0m\n\u001b[1;32m   1132\u001b[0m         return_value = get_return_value(\n\u001b[0;32m-> 1133\u001b[0;31m             answer, self.gateway_client, self.target_id, self.name)\n\u001b[0m\u001b[1;32m   1134\u001b[0m \u001b[0;34m\u001b[0m\u001b[0m\n\u001b[1;32m   1135\u001b[0m         \u001b[0;32mfor\u001b[0m \u001b[0mtemp_arg\u001b[0m \u001b[0;32min\u001b[0m \u001b[0mtemp_args\u001b[0m\u001b[0;34m:\u001b[0m\u001b[0;34m\u001b[0m\u001b[0m\n",
      "\u001b[0;32m/Users/ceoxxx/spark/spark-2.1.0-bin-hadoop2.7/python/pyspark/sql/utils.pyc\u001b[0m in \u001b[0;36mdeco\u001b[0;34m(*a, **kw)\u001b[0m\n\u001b[1;32m     61\u001b[0m     \u001b[0;32mdef\u001b[0m \u001b[0mdeco\u001b[0m\u001b[0;34m(\u001b[0m\u001b[0;34m*\u001b[0m\u001b[0ma\u001b[0m\u001b[0;34m,\u001b[0m \u001b[0;34m**\u001b[0m\u001b[0mkw\u001b[0m\u001b[0;34m)\u001b[0m\u001b[0;34m:\u001b[0m\u001b[0;34m\u001b[0m\u001b[0m\n\u001b[1;32m     62\u001b[0m         \u001b[0;32mtry\u001b[0m\u001b[0;34m:\u001b[0m\u001b[0;34m\u001b[0m\u001b[0m\n\u001b[0;32m---> 63\u001b[0;31m             \u001b[0;32mreturn\u001b[0m \u001b[0mf\u001b[0m\u001b[0;34m(\u001b[0m\u001b[0;34m*\u001b[0m\u001b[0ma\u001b[0m\u001b[0;34m,\u001b[0m \u001b[0;34m**\u001b[0m\u001b[0mkw\u001b[0m\u001b[0;34m)\u001b[0m\u001b[0;34m\u001b[0m\u001b[0m\n\u001b[0m\u001b[1;32m     64\u001b[0m         \u001b[0;32mexcept\u001b[0m \u001b[0mpy4j\u001b[0m\u001b[0;34m.\u001b[0m\u001b[0mprotocol\u001b[0m\u001b[0;34m.\u001b[0m\u001b[0mPy4JJavaError\u001b[0m \u001b[0;32mas\u001b[0m \u001b[0me\u001b[0m\u001b[0;34m:\u001b[0m\u001b[0;34m\u001b[0m\u001b[0m\n\u001b[1;32m     65\u001b[0m             \u001b[0ms\u001b[0m \u001b[0;34m=\u001b[0m \u001b[0me\u001b[0m\u001b[0;34m.\u001b[0m\u001b[0mjava_exception\u001b[0m\u001b[0;34m.\u001b[0m\u001b[0mtoString\u001b[0m\u001b[0;34m(\u001b[0m\u001b[0;34m)\u001b[0m\u001b[0;34m\u001b[0m\u001b[0m\n",
      "\u001b[0;32m/Users/ceoxxx/spark/spark-2.1.0-bin-hadoop2.7/python/lib/py4j-0.10.4-src.zip/py4j/protocol.py\u001b[0m in \u001b[0;36mget_return_value\u001b[0;34m(answer, gateway_client, target_id, name)\u001b[0m\n\u001b[1;32m    317\u001b[0m                 raise Py4JJavaError(\n\u001b[1;32m    318\u001b[0m                     \u001b[0;34m\"An error occurred while calling {0}{1}{2}.\\n\"\u001b[0m\u001b[0;34m.\u001b[0m\u001b[0;34m\u001b[0m\u001b[0m\n\u001b[0;32m--> 319\u001b[0;31m                     format(target_id, \".\", name), value)\n\u001b[0m\u001b[1;32m    320\u001b[0m             \u001b[0;32melse\u001b[0m\u001b[0;34m:\u001b[0m\u001b[0;34m\u001b[0m\u001b[0m\n\u001b[1;32m    321\u001b[0m                 raise Py4JError(\n",
      "\u001b[0;31mPy4JJavaError\u001b[0m: An error occurred while calling z:org.apache.spark.api.python.PythonRDD.collectAndServe.\n: org.apache.spark.SparkException: Job aborted due to stage failure: Task 1 in stage 41.0 failed 1 times, most recent failure: Lost task 1.0 in stage 41.0 (TID 55, localhost, executor driver): org.apache.spark.api.python.PythonException: Traceback (most recent call last):\n  File \"/Users/ceoxxx/spark/spark-2.1.0-bin-hadoop2.7/python/lib/pyspark.zip/pyspark/worker.py\", line 174, in main\n    process()\n  File \"/Users/ceoxxx/spark/spark-2.1.0-bin-hadoop2.7/python/lib/pyspark.zip/pyspark/worker.py\", line 169, in process\n    serializer.dump_stream(func(split_index, iterator), outfile)\n  File \"/Users/ceoxxx/spark/spark-2.1.0-bin-hadoop2.7/python/lib/pyspark.zip/pyspark/serializers.py\", line 268, in dump_stream\n    vs = list(itertools.islice(iterator, batch))\n  File \"<ipython-input-25-3ee3a41425fa>\", line 2, in parse_int\nValueError: invalid literal for int() with base 10: 'a'\n\n\tat org.apache.spark.api.python.PythonRunner$$anon$1.read(PythonRDD.scala:193)\n\tat org.apache.spark.api.python.PythonRunner$$anon$1.next(PythonRDD.scala:156)\n\tat org.apache.spark.api.python.PythonRunner$$anon$1.next(PythonRDD.scala:152)\n\tat org.apache.spark.InterruptibleIterator.next(InterruptibleIterator.scala:43)\n\tat scala.collection.Iterator$class.foreach(Iterator.scala:893)\n\tat org.apache.spark.InterruptibleIterator.foreach(InterruptibleIterator.scala:28)\n\tat scala.collection.generic.Growable$class.$plus$plus$eq(Growable.scala:59)\n\tat scala.collection.mutable.ArrayBuffer.$plus$plus$eq(ArrayBuffer.scala:104)\n\tat scala.collection.mutable.ArrayBuffer.$plus$plus$eq(ArrayBuffer.scala:48)\n\tat scala.collection.TraversableOnce$class.to(TraversableOnce.scala:310)\n\tat org.apache.spark.InterruptibleIterator.to(InterruptibleIterator.scala:28)\n\tat scala.collection.TraversableOnce$class.toBuffer(TraversableOnce.scala:302)\n\tat org.apache.spark.InterruptibleIterator.toBuffer(InterruptibleIterator.scala:28)\n\tat scala.collection.TraversableOnce$class.toArray(TraversableOnce.scala:289)\n\tat org.apache.spark.InterruptibleIterator.toArray(InterruptibleIterator.scala:28)\n\tat org.apache.spark.rdd.RDD$$anonfun$collect$1$$anonfun$13.apply(RDD.scala:935)\n\tat org.apache.spark.rdd.RDD$$anonfun$collect$1$$anonfun$13.apply(RDD.scala:935)\n\tat org.apache.spark.SparkContext$$anonfun$runJob$5.apply(SparkContext.scala:1944)\n\tat org.apache.spark.SparkContext$$anonfun$runJob$5.apply(SparkContext.scala:1944)\n\tat org.apache.spark.scheduler.ResultTask.runTask(ResultTask.scala:87)\n\tat org.apache.spark.scheduler.Task.run(Task.scala:99)\n\tat org.apache.spark.executor.Executor$TaskRunner.run(Executor.scala:282)\n\tat java.util.concurrent.ThreadPoolExecutor.runWorker(ThreadPoolExecutor.java:1142)\n\tat java.util.concurrent.ThreadPoolExecutor$Worker.run(ThreadPoolExecutor.java:617)\n\tat java.lang.Thread.run(Thread.java:745)\n\nDriver stacktrace:\n\tat org.apache.spark.scheduler.DAGScheduler.org$apache$spark$scheduler$DAGScheduler$$failJobAndIndependentStages(DAGScheduler.scala:1435)\n\tat org.apache.spark.scheduler.DAGScheduler$$anonfun$abortStage$1.apply(DAGScheduler.scala:1423)\n\tat org.apache.spark.scheduler.DAGScheduler$$anonfun$abortStage$1.apply(DAGScheduler.scala:1422)\n\tat scala.collection.mutable.ResizableArray$class.foreach(ResizableArray.scala:59)\n\tat scala.collection.mutable.ArrayBuffer.foreach(ArrayBuffer.scala:48)\n\tat org.apache.spark.scheduler.DAGScheduler.abortStage(DAGScheduler.scala:1422)\n\tat org.apache.spark.scheduler.DAGScheduler$$anonfun$handleTaskSetFailed$1.apply(DAGScheduler.scala:802)\n\tat org.apache.spark.scheduler.DAGScheduler$$anonfun$handleTaskSetFailed$1.apply(DAGScheduler.scala:802)\n\tat scala.Option.foreach(Option.scala:257)\n\tat org.apache.spark.scheduler.DAGScheduler.handleTaskSetFailed(DAGScheduler.scala:802)\n\tat org.apache.spark.scheduler.DAGSchedulerEventProcessLoop.doOnReceive(DAGScheduler.scala:1650)\n\tat org.apache.spark.scheduler.DAGSchedulerEventProcessLoop.onReceive(DAGScheduler.scala:1605)\n\tat org.apache.spark.scheduler.DAGSchedulerEventProcessLoop.onReceive(DAGScheduler.scala:1594)\n\tat org.apache.spark.util.EventLoop$$anon$1.run(EventLoop.scala:48)\n\tat org.apache.spark.scheduler.DAGScheduler.runJob(DAGScheduler.scala:628)\n\tat org.apache.spark.SparkContext.runJob(SparkContext.scala:1918)\n\tat org.apache.spark.SparkContext.runJob(SparkContext.scala:1931)\n\tat org.apache.spark.SparkContext.runJob(SparkContext.scala:1944)\n\tat org.apache.spark.SparkContext.runJob(SparkContext.scala:1958)\n\tat org.apache.spark.rdd.RDD$$anonfun$collect$1.apply(RDD.scala:935)\n\tat org.apache.spark.rdd.RDDOperationScope$.withScope(RDDOperationScope.scala:151)\n\tat org.apache.spark.rdd.RDDOperationScope$.withScope(RDDOperationScope.scala:112)\n\tat org.apache.spark.rdd.RDD.withScope(RDD.scala:362)\n\tat org.apache.spark.rdd.RDD.collect(RDD.scala:934)\n\tat org.apache.spark.api.python.PythonRDD$.collectAndServe(PythonRDD.scala:453)\n\tat org.apache.spark.api.python.PythonRDD.collectAndServe(PythonRDD.scala)\n\tat sun.reflect.GeneratedMethodAccessor69.invoke(Unknown Source)\n\tat sun.reflect.DelegatingMethodAccessorImpl.invoke(DelegatingMethodAccessorImpl.java:43)\n\tat java.lang.reflect.Method.invoke(Method.java:498)\n\tat py4j.reflection.MethodInvoker.invoke(MethodInvoker.java:244)\n\tat py4j.reflection.ReflectionEngine.invoke(ReflectionEngine.java:357)\n\tat py4j.Gateway.invoke(Gateway.java:280)\n\tat py4j.commands.AbstractCommand.invokeMethod(AbstractCommand.java:132)\n\tat py4j.commands.CallCommand.execute(CallCommand.java:79)\n\tat py4j.GatewayConnection.run(GatewayConnection.java:214)\n\tat java.lang.Thread.run(Thread.java:745)\nCaused by: org.apache.spark.api.python.PythonException: Traceback (most recent call last):\n  File \"/Users/ceoxxx/spark/spark-2.1.0-bin-hadoop2.7/python/lib/pyspark.zip/pyspark/worker.py\", line 174, in main\n    process()\n  File \"/Users/ceoxxx/spark/spark-2.1.0-bin-hadoop2.7/python/lib/pyspark.zip/pyspark/worker.py\", line 169, in process\n    serializer.dump_stream(func(split_index, iterator), outfile)\n  File \"/Users/ceoxxx/spark/spark-2.1.0-bin-hadoop2.7/python/lib/pyspark.zip/pyspark/serializers.py\", line 268, in dump_stream\n    vs = list(itertools.islice(iterator, batch))\n  File \"<ipython-input-25-3ee3a41425fa>\", line 2, in parse_int\nValueError: invalid literal for int() with base 10: 'a'\n\n\tat org.apache.spark.api.python.PythonRunner$$anon$1.read(PythonRDD.scala:193)\n\tat org.apache.spark.api.python.PythonRunner$$anon$1.next(PythonRDD.scala:156)\n\tat org.apache.spark.api.python.PythonRunner$$anon$1.next(PythonRDD.scala:152)\n\tat org.apache.spark.InterruptibleIterator.next(InterruptibleIterator.scala:43)\n\tat scala.collection.Iterator$class.foreach(Iterator.scala:893)\n\tat org.apache.spark.InterruptibleIterator.foreach(InterruptibleIterator.scala:28)\n\tat scala.collection.generic.Growable$class.$plus$plus$eq(Growable.scala:59)\n\tat scala.collection.mutable.ArrayBuffer.$plus$plus$eq(ArrayBuffer.scala:104)\n\tat scala.collection.mutable.ArrayBuffer.$plus$plus$eq(ArrayBuffer.scala:48)\n\tat scala.collection.TraversableOnce$class.to(TraversableOnce.scala:310)\n\tat org.apache.spark.InterruptibleIterator.to(InterruptibleIterator.scala:28)\n\tat scala.collection.TraversableOnce$class.toBuffer(TraversableOnce.scala:302)\n\tat org.apache.spark.InterruptibleIterator.toBuffer(InterruptibleIterator.scala:28)\n\tat scala.collection.TraversableOnce$class.toArray(TraversableOnce.scala:289)\n\tat org.apache.spark.InterruptibleIterator.toArray(InterruptibleIterator.scala:28)\n\tat org.apache.spark.rdd.RDD$$anonfun$collect$1$$anonfun$13.apply(RDD.scala:935)\n\tat org.apache.spark.rdd.RDD$$anonfun$collect$1$$anonfun$13.apply(RDD.scala:935)\n\tat org.apache.spark.SparkContext$$anonfun$runJob$5.apply(SparkContext.scala:1944)\n\tat org.apache.spark.SparkContext$$anonfun$runJob$5.apply(SparkContext.scala:1944)\n\tat org.apache.spark.scheduler.ResultTask.runTask(ResultTask.scala:87)\n\tat org.apache.spark.scheduler.Task.run(Task.scala:99)\n\tat org.apache.spark.executor.Executor$TaskRunner.run(Executor.scala:282)\n\tat java.util.concurrent.ThreadPoolExecutor.runWorker(ThreadPoolExecutor.java:1142)\n\tat java.util.concurrent.ThreadPoolExecutor$Worker.run(ThreadPoolExecutor.java:617)\n\t... 1 more\n"
     ]
    }
   ],
   "source": [
    "my_rdd.map(parse_int).collect()"
   ]
  },
  {
   "cell_type": "markdown",
   "metadata": {
    "deletable": true,
    "editable": true
   },
   "source": [
    "...and this *sometimes* fail?"
   ]
  },
  {
   "cell_type": "code",
   "execution_count": 28,
   "metadata": {
    "collapsed": false,
    "deletable": true,
    "editable": true
   },
   "outputs": [
    {
     "ename": "Py4JJavaError",
     "evalue": "An error occurred while calling z:org.apache.spark.api.python.PythonRDD.collectAndServe.\n: org.apache.spark.SparkException: Job aborted due to stage failure: Task 1 in stage 42.0 failed 1 times, most recent failure: Lost task 1.0 in stage 42.0 (TID 57, localhost, executor driver): org.apache.spark.api.python.PythonException: Traceback (most recent call last):\n  File \"/Users/ceoxxx/spark/spark-2.1.0-bin-hadoop2.7/python/lib/pyspark.zip/pyspark/worker.py\", line 174, in main\n    process()\n  File \"/Users/ceoxxx/spark/spark-2.1.0-bin-hadoop2.7/python/lib/pyspark.zip/pyspark/worker.py\", line 169, in process\n    serializer.dump_stream(func(split_index, iterator), outfile)\n  File \"/Users/ceoxxx/spark/spark-2.1.0-bin-hadoop2.7/python/lib/pyspark.zip/pyspark/serializers.py\", line 268, in dump_stream\n    vs = list(itertools.islice(iterator, batch))\n  File \"<ipython-input-25-3ee3a41425fa>\", line 2, in parse_int\nValueError: invalid literal for int() with base 10: 'a'\n\n\tat org.apache.spark.api.python.PythonRunner$$anon$1.read(PythonRDD.scala:193)\n\tat org.apache.spark.api.python.PythonRunner$$anon$1.next(PythonRDD.scala:156)\n\tat org.apache.spark.api.python.PythonRunner$$anon$1.next(PythonRDD.scala:152)\n\tat org.apache.spark.InterruptibleIterator.next(InterruptibleIterator.scala:43)\n\tat scala.collection.Iterator$class.foreach(Iterator.scala:893)\n\tat org.apache.spark.InterruptibleIterator.foreach(InterruptibleIterator.scala:28)\n\tat scala.collection.generic.Growable$class.$plus$plus$eq(Growable.scala:59)\n\tat scala.collection.mutable.ArrayBuffer.$plus$plus$eq(ArrayBuffer.scala:104)\n\tat scala.collection.mutable.ArrayBuffer.$plus$plus$eq(ArrayBuffer.scala:48)\n\tat scala.collection.TraversableOnce$class.to(TraversableOnce.scala:310)\n\tat org.apache.spark.InterruptibleIterator.to(InterruptibleIterator.scala:28)\n\tat scala.collection.TraversableOnce$class.toBuffer(TraversableOnce.scala:302)\n\tat org.apache.spark.InterruptibleIterator.toBuffer(InterruptibleIterator.scala:28)\n\tat scala.collection.TraversableOnce$class.toArray(TraversableOnce.scala:289)\n\tat org.apache.spark.InterruptibleIterator.toArray(InterruptibleIterator.scala:28)\n\tat org.apache.spark.rdd.RDD$$anonfun$collect$1$$anonfun$13.apply(RDD.scala:935)\n\tat org.apache.spark.rdd.RDD$$anonfun$collect$1$$anonfun$13.apply(RDD.scala:935)\n\tat org.apache.spark.SparkContext$$anonfun$runJob$5.apply(SparkContext.scala:1944)\n\tat org.apache.spark.SparkContext$$anonfun$runJob$5.apply(SparkContext.scala:1944)\n\tat org.apache.spark.scheduler.ResultTask.runTask(ResultTask.scala:87)\n\tat org.apache.spark.scheduler.Task.run(Task.scala:99)\n\tat org.apache.spark.executor.Executor$TaskRunner.run(Executor.scala:282)\n\tat java.util.concurrent.ThreadPoolExecutor.runWorker(ThreadPoolExecutor.java:1142)\n\tat java.util.concurrent.ThreadPoolExecutor$Worker.run(ThreadPoolExecutor.java:617)\n\tat java.lang.Thread.run(Thread.java:745)\n\nDriver stacktrace:\n\tat org.apache.spark.scheduler.DAGScheduler.org$apache$spark$scheduler$DAGScheduler$$failJobAndIndependentStages(DAGScheduler.scala:1435)\n\tat org.apache.spark.scheduler.DAGScheduler$$anonfun$abortStage$1.apply(DAGScheduler.scala:1423)\n\tat org.apache.spark.scheduler.DAGScheduler$$anonfun$abortStage$1.apply(DAGScheduler.scala:1422)\n\tat scala.collection.mutable.ResizableArray$class.foreach(ResizableArray.scala:59)\n\tat scala.collection.mutable.ArrayBuffer.foreach(ArrayBuffer.scala:48)\n\tat org.apache.spark.scheduler.DAGScheduler.abortStage(DAGScheduler.scala:1422)\n\tat org.apache.spark.scheduler.DAGScheduler$$anonfun$handleTaskSetFailed$1.apply(DAGScheduler.scala:802)\n\tat org.apache.spark.scheduler.DAGScheduler$$anonfun$handleTaskSetFailed$1.apply(DAGScheduler.scala:802)\n\tat scala.Option.foreach(Option.scala:257)\n\tat org.apache.spark.scheduler.DAGScheduler.handleTaskSetFailed(DAGScheduler.scala:802)\n\tat org.apache.spark.scheduler.DAGSchedulerEventProcessLoop.doOnReceive(DAGScheduler.scala:1650)\n\tat org.apache.spark.scheduler.DAGSchedulerEventProcessLoop.onReceive(DAGScheduler.scala:1605)\n\tat org.apache.spark.scheduler.DAGSchedulerEventProcessLoop.onReceive(DAGScheduler.scala:1594)\n\tat org.apache.spark.util.EventLoop$$anon$1.run(EventLoop.scala:48)\n\tat org.apache.spark.scheduler.DAGScheduler.runJob(DAGScheduler.scala:628)\n\tat org.apache.spark.SparkContext.runJob(SparkContext.scala:1918)\n\tat org.apache.spark.SparkContext.runJob(SparkContext.scala:1931)\n\tat org.apache.spark.SparkContext.runJob(SparkContext.scala:1944)\n\tat org.apache.spark.SparkContext.runJob(SparkContext.scala:1958)\n\tat org.apache.spark.rdd.RDD$$anonfun$collect$1.apply(RDD.scala:935)\n\tat org.apache.spark.rdd.RDDOperationScope$.withScope(RDDOperationScope.scala:151)\n\tat org.apache.spark.rdd.RDDOperationScope$.withScope(RDDOperationScope.scala:112)\n\tat org.apache.spark.rdd.RDD.withScope(RDD.scala:362)\n\tat org.apache.spark.rdd.RDD.collect(RDD.scala:934)\n\tat org.apache.spark.api.python.PythonRDD$.collectAndServe(PythonRDD.scala:453)\n\tat org.apache.spark.api.python.PythonRDD.collectAndServe(PythonRDD.scala)\n\tat sun.reflect.GeneratedMethodAccessor69.invoke(Unknown Source)\n\tat sun.reflect.DelegatingMethodAccessorImpl.invoke(DelegatingMethodAccessorImpl.java:43)\n\tat java.lang.reflect.Method.invoke(Method.java:498)\n\tat py4j.reflection.MethodInvoker.invoke(MethodInvoker.java:244)\n\tat py4j.reflection.ReflectionEngine.invoke(ReflectionEngine.java:357)\n\tat py4j.Gateway.invoke(Gateway.java:280)\n\tat py4j.commands.AbstractCommand.invokeMethod(AbstractCommand.java:132)\n\tat py4j.commands.CallCommand.execute(CallCommand.java:79)\n\tat py4j.GatewayConnection.run(GatewayConnection.java:214)\n\tat java.lang.Thread.run(Thread.java:745)\nCaused by: org.apache.spark.api.python.PythonException: Traceback (most recent call last):\n  File \"/Users/ceoxxx/spark/spark-2.1.0-bin-hadoop2.7/python/lib/pyspark.zip/pyspark/worker.py\", line 174, in main\n    process()\n  File \"/Users/ceoxxx/spark/spark-2.1.0-bin-hadoop2.7/python/lib/pyspark.zip/pyspark/worker.py\", line 169, in process\n    serializer.dump_stream(func(split_index, iterator), outfile)\n  File \"/Users/ceoxxx/spark/spark-2.1.0-bin-hadoop2.7/python/lib/pyspark.zip/pyspark/serializers.py\", line 268, in dump_stream\n    vs = list(itertools.islice(iterator, batch))\n  File \"<ipython-input-25-3ee3a41425fa>\", line 2, in parse_int\nValueError: invalid literal for int() with base 10: 'a'\n\n\tat org.apache.spark.api.python.PythonRunner$$anon$1.read(PythonRDD.scala:193)\n\tat org.apache.spark.api.python.PythonRunner$$anon$1.next(PythonRDD.scala:156)\n\tat org.apache.spark.api.python.PythonRunner$$anon$1.next(PythonRDD.scala:152)\n\tat org.apache.spark.InterruptibleIterator.next(InterruptibleIterator.scala:43)\n\tat scala.collection.Iterator$class.foreach(Iterator.scala:893)\n\tat org.apache.spark.InterruptibleIterator.foreach(InterruptibleIterator.scala:28)\n\tat scala.collection.generic.Growable$class.$plus$plus$eq(Growable.scala:59)\n\tat scala.collection.mutable.ArrayBuffer.$plus$plus$eq(ArrayBuffer.scala:104)\n\tat scala.collection.mutable.ArrayBuffer.$plus$plus$eq(ArrayBuffer.scala:48)\n\tat scala.collection.TraversableOnce$class.to(TraversableOnce.scala:310)\n\tat org.apache.spark.InterruptibleIterator.to(InterruptibleIterator.scala:28)\n\tat scala.collection.TraversableOnce$class.toBuffer(TraversableOnce.scala:302)\n\tat org.apache.spark.InterruptibleIterator.toBuffer(InterruptibleIterator.scala:28)\n\tat scala.collection.TraversableOnce$class.toArray(TraversableOnce.scala:289)\n\tat org.apache.spark.InterruptibleIterator.toArray(InterruptibleIterator.scala:28)\n\tat org.apache.spark.rdd.RDD$$anonfun$collect$1$$anonfun$13.apply(RDD.scala:935)\n\tat org.apache.spark.rdd.RDD$$anonfun$collect$1$$anonfun$13.apply(RDD.scala:935)\n\tat org.apache.spark.SparkContext$$anonfun$runJob$5.apply(SparkContext.scala:1944)\n\tat org.apache.spark.SparkContext$$anonfun$runJob$5.apply(SparkContext.scala:1944)\n\tat org.apache.spark.scheduler.ResultTask.runTask(ResultTask.scala:87)\n\tat org.apache.spark.scheduler.Task.run(Task.scala:99)\n\tat org.apache.spark.executor.Executor$TaskRunner.run(Executor.scala:282)\n\tat java.util.concurrent.ThreadPoolExecutor.runWorker(ThreadPoolExecutor.java:1142)\n\tat java.util.concurrent.ThreadPoolExecutor$Worker.run(ThreadPoolExecutor.java:617)\n\t... 1 more\n",
     "output_type": "error",
     "traceback": [
      "\u001b[0;31m---------------------------------------------------------------------------\u001b[0m",
      "\u001b[0;31mPy4JJavaError\u001b[0m                             Traceback (most recent call last)",
      "\u001b[0;32m<ipython-input-28-f3fb9fee58a3>\u001b[0m in \u001b[0;36m<module>\u001b[0;34m()\u001b[0m\n\u001b[0;32m----> 1\u001b[0;31m \u001b[0mmy_rdd\u001b[0m\u001b[0;34m.\u001b[0m\u001b[0msample\u001b[0m\u001b[0;34m(\u001b[0m\u001b[0mFalse\u001b[0m\u001b[0;34m,\u001b[0m \u001b[0;36m.5\u001b[0m\u001b[0;34m)\u001b[0m\u001b[0;34m.\u001b[0m\u001b[0mmap\u001b[0m\u001b[0;34m(\u001b[0m\u001b[0mparse_int\u001b[0m\u001b[0;34m)\u001b[0m\u001b[0;34m.\u001b[0m\u001b[0mcollect\u001b[0m\u001b[0;34m(\u001b[0m\u001b[0;34m)\u001b[0m\u001b[0;34m\u001b[0m\u001b[0m\n\u001b[0m",
      "\u001b[0;32m/Users/ceoxxx/spark/spark-2.1.0-bin-hadoop2.7/python/pyspark/rdd.pyc\u001b[0m in \u001b[0;36mcollect\u001b[0;34m(self)\u001b[0m\n\u001b[1;32m    807\u001b[0m         \"\"\"\n\u001b[1;32m    808\u001b[0m         \u001b[0;32mwith\u001b[0m \u001b[0mSCCallSiteSync\u001b[0m\u001b[0;34m(\u001b[0m\u001b[0mself\u001b[0m\u001b[0;34m.\u001b[0m\u001b[0mcontext\u001b[0m\u001b[0;34m)\u001b[0m \u001b[0;32mas\u001b[0m \u001b[0mcss\u001b[0m\u001b[0;34m:\u001b[0m\u001b[0;34m\u001b[0m\u001b[0m\n\u001b[0;32m--> 809\u001b[0;31m             \u001b[0mport\u001b[0m \u001b[0;34m=\u001b[0m \u001b[0mself\u001b[0m\u001b[0;34m.\u001b[0m\u001b[0mctx\u001b[0m\u001b[0;34m.\u001b[0m\u001b[0m_jvm\u001b[0m\u001b[0;34m.\u001b[0m\u001b[0mPythonRDD\u001b[0m\u001b[0;34m.\u001b[0m\u001b[0mcollectAndServe\u001b[0m\u001b[0;34m(\u001b[0m\u001b[0mself\u001b[0m\u001b[0;34m.\u001b[0m\u001b[0m_jrdd\u001b[0m\u001b[0;34m.\u001b[0m\u001b[0mrdd\u001b[0m\u001b[0;34m(\u001b[0m\u001b[0;34m)\u001b[0m\u001b[0;34m)\u001b[0m\u001b[0;34m\u001b[0m\u001b[0m\n\u001b[0m\u001b[1;32m    810\u001b[0m         \u001b[0;32mreturn\u001b[0m \u001b[0mlist\u001b[0m\u001b[0;34m(\u001b[0m\u001b[0m_load_from_socket\u001b[0m\u001b[0;34m(\u001b[0m\u001b[0mport\u001b[0m\u001b[0;34m,\u001b[0m \u001b[0mself\u001b[0m\u001b[0;34m.\u001b[0m\u001b[0m_jrdd_deserializer\u001b[0m\u001b[0;34m)\u001b[0m\u001b[0;34m)\u001b[0m\u001b[0;34m\u001b[0m\u001b[0m\n\u001b[1;32m    811\u001b[0m \u001b[0;34m\u001b[0m\u001b[0m\n",
      "\u001b[0;32m/Users/ceoxxx/spark/spark-2.1.0-bin-hadoop2.7/python/lib/py4j-0.10.4-src.zip/py4j/java_gateway.py\u001b[0m in \u001b[0;36m__call__\u001b[0;34m(self, *args)\u001b[0m\n\u001b[1;32m   1131\u001b[0m         \u001b[0manswer\u001b[0m \u001b[0;34m=\u001b[0m \u001b[0mself\u001b[0m\u001b[0;34m.\u001b[0m\u001b[0mgateway_client\u001b[0m\u001b[0;34m.\u001b[0m\u001b[0msend_command\u001b[0m\u001b[0;34m(\u001b[0m\u001b[0mcommand\u001b[0m\u001b[0;34m)\u001b[0m\u001b[0;34m\u001b[0m\u001b[0m\n\u001b[1;32m   1132\u001b[0m         return_value = get_return_value(\n\u001b[0;32m-> 1133\u001b[0;31m             answer, self.gateway_client, self.target_id, self.name)\n\u001b[0m\u001b[1;32m   1134\u001b[0m \u001b[0;34m\u001b[0m\u001b[0m\n\u001b[1;32m   1135\u001b[0m         \u001b[0;32mfor\u001b[0m \u001b[0mtemp_arg\u001b[0m \u001b[0;32min\u001b[0m \u001b[0mtemp_args\u001b[0m\u001b[0;34m:\u001b[0m\u001b[0;34m\u001b[0m\u001b[0m\n",
      "\u001b[0;32m/Users/ceoxxx/spark/spark-2.1.0-bin-hadoop2.7/python/pyspark/sql/utils.pyc\u001b[0m in \u001b[0;36mdeco\u001b[0;34m(*a, **kw)\u001b[0m\n\u001b[1;32m     61\u001b[0m     \u001b[0;32mdef\u001b[0m \u001b[0mdeco\u001b[0m\u001b[0;34m(\u001b[0m\u001b[0;34m*\u001b[0m\u001b[0ma\u001b[0m\u001b[0;34m,\u001b[0m \u001b[0;34m**\u001b[0m\u001b[0mkw\u001b[0m\u001b[0;34m)\u001b[0m\u001b[0;34m:\u001b[0m\u001b[0;34m\u001b[0m\u001b[0m\n\u001b[1;32m     62\u001b[0m         \u001b[0;32mtry\u001b[0m\u001b[0;34m:\u001b[0m\u001b[0;34m\u001b[0m\u001b[0m\n\u001b[0;32m---> 63\u001b[0;31m             \u001b[0;32mreturn\u001b[0m \u001b[0mf\u001b[0m\u001b[0;34m(\u001b[0m\u001b[0;34m*\u001b[0m\u001b[0ma\u001b[0m\u001b[0;34m,\u001b[0m \u001b[0;34m**\u001b[0m\u001b[0mkw\u001b[0m\u001b[0;34m)\u001b[0m\u001b[0;34m\u001b[0m\u001b[0m\n\u001b[0m\u001b[1;32m     64\u001b[0m         \u001b[0;32mexcept\u001b[0m \u001b[0mpy4j\u001b[0m\u001b[0;34m.\u001b[0m\u001b[0mprotocol\u001b[0m\u001b[0;34m.\u001b[0m\u001b[0mPy4JJavaError\u001b[0m \u001b[0;32mas\u001b[0m \u001b[0me\u001b[0m\u001b[0;34m:\u001b[0m\u001b[0;34m\u001b[0m\u001b[0m\n\u001b[1;32m     65\u001b[0m             \u001b[0ms\u001b[0m \u001b[0;34m=\u001b[0m \u001b[0me\u001b[0m\u001b[0;34m.\u001b[0m\u001b[0mjava_exception\u001b[0m\u001b[0;34m.\u001b[0m\u001b[0mtoString\u001b[0m\u001b[0;34m(\u001b[0m\u001b[0;34m)\u001b[0m\u001b[0;34m\u001b[0m\u001b[0m\n",
      "\u001b[0;32m/Users/ceoxxx/spark/spark-2.1.0-bin-hadoop2.7/python/lib/py4j-0.10.4-src.zip/py4j/protocol.py\u001b[0m in \u001b[0;36mget_return_value\u001b[0;34m(answer, gateway_client, target_id, name)\u001b[0m\n\u001b[1;32m    317\u001b[0m                 raise Py4JJavaError(\n\u001b[1;32m    318\u001b[0m                     \u001b[0;34m\"An error occurred while calling {0}{1}{2}.\\n\"\u001b[0m\u001b[0;34m.\u001b[0m\u001b[0;34m\u001b[0m\u001b[0m\n\u001b[0;32m--> 319\u001b[0;31m                     format(target_id, \".\", name), value)\n\u001b[0m\u001b[1;32m    320\u001b[0m             \u001b[0;32melse\u001b[0m\u001b[0;34m:\u001b[0m\u001b[0;34m\u001b[0m\u001b[0m\n\u001b[1;32m    321\u001b[0m                 raise Py4JError(\n",
      "\u001b[0;31mPy4JJavaError\u001b[0m: An error occurred while calling z:org.apache.spark.api.python.PythonRDD.collectAndServe.\n: org.apache.spark.SparkException: Job aborted due to stage failure: Task 1 in stage 42.0 failed 1 times, most recent failure: Lost task 1.0 in stage 42.0 (TID 57, localhost, executor driver): org.apache.spark.api.python.PythonException: Traceback (most recent call last):\n  File \"/Users/ceoxxx/spark/spark-2.1.0-bin-hadoop2.7/python/lib/pyspark.zip/pyspark/worker.py\", line 174, in main\n    process()\n  File \"/Users/ceoxxx/spark/spark-2.1.0-bin-hadoop2.7/python/lib/pyspark.zip/pyspark/worker.py\", line 169, in process\n    serializer.dump_stream(func(split_index, iterator), outfile)\n  File \"/Users/ceoxxx/spark/spark-2.1.0-bin-hadoop2.7/python/lib/pyspark.zip/pyspark/serializers.py\", line 268, in dump_stream\n    vs = list(itertools.islice(iterator, batch))\n  File \"<ipython-input-25-3ee3a41425fa>\", line 2, in parse_int\nValueError: invalid literal for int() with base 10: 'a'\n\n\tat org.apache.spark.api.python.PythonRunner$$anon$1.read(PythonRDD.scala:193)\n\tat org.apache.spark.api.python.PythonRunner$$anon$1.next(PythonRDD.scala:156)\n\tat org.apache.spark.api.python.PythonRunner$$anon$1.next(PythonRDD.scala:152)\n\tat org.apache.spark.InterruptibleIterator.next(InterruptibleIterator.scala:43)\n\tat scala.collection.Iterator$class.foreach(Iterator.scala:893)\n\tat org.apache.spark.InterruptibleIterator.foreach(InterruptibleIterator.scala:28)\n\tat scala.collection.generic.Growable$class.$plus$plus$eq(Growable.scala:59)\n\tat scala.collection.mutable.ArrayBuffer.$plus$plus$eq(ArrayBuffer.scala:104)\n\tat scala.collection.mutable.ArrayBuffer.$plus$plus$eq(ArrayBuffer.scala:48)\n\tat scala.collection.TraversableOnce$class.to(TraversableOnce.scala:310)\n\tat org.apache.spark.InterruptibleIterator.to(InterruptibleIterator.scala:28)\n\tat scala.collection.TraversableOnce$class.toBuffer(TraversableOnce.scala:302)\n\tat org.apache.spark.InterruptibleIterator.toBuffer(InterruptibleIterator.scala:28)\n\tat scala.collection.TraversableOnce$class.toArray(TraversableOnce.scala:289)\n\tat org.apache.spark.InterruptibleIterator.toArray(InterruptibleIterator.scala:28)\n\tat org.apache.spark.rdd.RDD$$anonfun$collect$1$$anonfun$13.apply(RDD.scala:935)\n\tat org.apache.spark.rdd.RDD$$anonfun$collect$1$$anonfun$13.apply(RDD.scala:935)\n\tat org.apache.spark.SparkContext$$anonfun$runJob$5.apply(SparkContext.scala:1944)\n\tat org.apache.spark.SparkContext$$anonfun$runJob$5.apply(SparkContext.scala:1944)\n\tat org.apache.spark.scheduler.ResultTask.runTask(ResultTask.scala:87)\n\tat org.apache.spark.scheduler.Task.run(Task.scala:99)\n\tat org.apache.spark.executor.Executor$TaskRunner.run(Executor.scala:282)\n\tat java.util.concurrent.ThreadPoolExecutor.runWorker(ThreadPoolExecutor.java:1142)\n\tat java.util.concurrent.ThreadPoolExecutor$Worker.run(ThreadPoolExecutor.java:617)\n\tat java.lang.Thread.run(Thread.java:745)\n\nDriver stacktrace:\n\tat org.apache.spark.scheduler.DAGScheduler.org$apache$spark$scheduler$DAGScheduler$$failJobAndIndependentStages(DAGScheduler.scala:1435)\n\tat org.apache.spark.scheduler.DAGScheduler$$anonfun$abortStage$1.apply(DAGScheduler.scala:1423)\n\tat org.apache.spark.scheduler.DAGScheduler$$anonfun$abortStage$1.apply(DAGScheduler.scala:1422)\n\tat scala.collection.mutable.ResizableArray$class.foreach(ResizableArray.scala:59)\n\tat scala.collection.mutable.ArrayBuffer.foreach(ArrayBuffer.scala:48)\n\tat org.apache.spark.scheduler.DAGScheduler.abortStage(DAGScheduler.scala:1422)\n\tat org.apache.spark.scheduler.DAGScheduler$$anonfun$handleTaskSetFailed$1.apply(DAGScheduler.scala:802)\n\tat org.apache.spark.scheduler.DAGScheduler$$anonfun$handleTaskSetFailed$1.apply(DAGScheduler.scala:802)\n\tat scala.Option.foreach(Option.scala:257)\n\tat org.apache.spark.scheduler.DAGScheduler.handleTaskSetFailed(DAGScheduler.scala:802)\n\tat org.apache.spark.scheduler.DAGSchedulerEventProcessLoop.doOnReceive(DAGScheduler.scala:1650)\n\tat org.apache.spark.scheduler.DAGSchedulerEventProcessLoop.onReceive(DAGScheduler.scala:1605)\n\tat org.apache.spark.scheduler.DAGSchedulerEventProcessLoop.onReceive(DAGScheduler.scala:1594)\n\tat org.apache.spark.util.EventLoop$$anon$1.run(EventLoop.scala:48)\n\tat org.apache.spark.scheduler.DAGScheduler.runJob(DAGScheduler.scala:628)\n\tat org.apache.spark.SparkContext.runJob(SparkContext.scala:1918)\n\tat org.apache.spark.SparkContext.runJob(SparkContext.scala:1931)\n\tat org.apache.spark.SparkContext.runJob(SparkContext.scala:1944)\n\tat org.apache.spark.SparkContext.runJob(SparkContext.scala:1958)\n\tat org.apache.spark.rdd.RDD$$anonfun$collect$1.apply(RDD.scala:935)\n\tat org.apache.spark.rdd.RDDOperationScope$.withScope(RDDOperationScope.scala:151)\n\tat org.apache.spark.rdd.RDDOperationScope$.withScope(RDDOperationScope.scala:112)\n\tat org.apache.spark.rdd.RDD.withScope(RDD.scala:362)\n\tat org.apache.spark.rdd.RDD.collect(RDD.scala:934)\n\tat org.apache.spark.api.python.PythonRDD$.collectAndServe(PythonRDD.scala:453)\n\tat org.apache.spark.api.python.PythonRDD.collectAndServe(PythonRDD.scala)\n\tat sun.reflect.GeneratedMethodAccessor69.invoke(Unknown Source)\n\tat sun.reflect.DelegatingMethodAccessorImpl.invoke(DelegatingMethodAccessorImpl.java:43)\n\tat java.lang.reflect.Method.invoke(Method.java:498)\n\tat py4j.reflection.MethodInvoker.invoke(MethodInvoker.java:244)\n\tat py4j.reflection.ReflectionEngine.invoke(ReflectionEngine.java:357)\n\tat py4j.Gateway.invoke(Gateway.java:280)\n\tat py4j.commands.AbstractCommand.invokeMethod(AbstractCommand.java:132)\n\tat py4j.commands.CallCommand.execute(CallCommand.java:79)\n\tat py4j.GatewayConnection.run(GatewayConnection.java:214)\n\tat java.lang.Thread.run(Thread.java:745)\nCaused by: org.apache.spark.api.python.PythonException: Traceback (most recent call last):\n  File \"/Users/ceoxxx/spark/spark-2.1.0-bin-hadoop2.7/python/lib/pyspark.zip/pyspark/worker.py\", line 174, in main\n    process()\n  File \"/Users/ceoxxx/spark/spark-2.1.0-bin-hadoop2.7/python/lib/pyspark.zip/pyspark/worker.py\", line 169, in process\n    serializer.dump_stream(func(split_index, iterator), outfile)\n  File \"/Users/ceoxxx/spark/spark-2.1.0-bin-hadoop2.7/python/lib/pyspark.zip/pyspark/serializers.py\", line 268, in dump_stream\n    vs = list(itertools.islice(iterator, batch))\n  File \"<ipython-input-25-3ee3a41425fa>\", line 2, in parse_int\nValueError: invalid literal for int() with base 10: 'a'\n\n\tat org.apache.spark.api.python.PythonRunner$$anon$1.read(PythonRDD.scala:193)\n\tat org.apache.spark.api.python.PythonRunner$$anon$1.next(PythonRDD.scala:156)\n\tat org.apache.spark.api.python.PythonRunner$$anon$1.next(PythonRDD.scala:152)\n\tat org.apache.spark.InterruptibleIterator.next(InterruptibleIterator.scala:43)\n\tat scala.collection.Iterator$class.foreach(Iterator.scala:893)\n\tat org.apache.spark.InterruptibleIterator.foreach(InterruptibleIterator.scala:28)\n\tat scala.collection.generic.Growable$class.$plus$plus$eq(Growable.scala:59)\n\tat scala.collection.mutable.ArrayBuffer.$plus$plus$eq(ArrayBuffer.scala:104)\n\tat scala.collection.mutable.ArrayBuffer.$plus$plus$eq(ArrayBuffer.scala:48)\n\tat scala.collection.TraversableOnce$class.to(TraversableOnce.scala:310)\n\tat org.apache.spark.InterruptibleIterator.to(InterruptibleIterator.scala:28)\n\tat scala.collection.TraversableOnce$class.toBuffer(TraversableOnce.scala:302)\n\tat org.apache.spark.InterruptibleIterator.toBuffer(InterruptibleIterator.scala:28)\n\tat scala.collection.TraversableOnce$class.toArray(TraversableOnce.scala:289)\n\tat org.apache.spark.InterruptibleIterator.toArray(InterruptibleIterator.scala:28)\n\tat org.apache.spark.rdd.RDD$$anonfun$collect$1$$anonfun$13.apply(RDD.scala:935)\n\tat org.apache.spark.rdd.RDD$$anonfun$collect$1$$anonfun$13.apply(RDD.scala:935)\n\tat org.apache.spark.SparkContext$$anonfun$runJob$5.apply(SparkContext.scala:1944)\n\tat org.apache.spark.SparkContext$$anonfun$runJob$5.apply(SparkContext.scala:1944)\n\tat org.apache.spark.scheduler.ResultTask.runTask(ResultTask.scala:87)\n\tat org.apache.spark.scheduler.Task.run(Task.scala:99)\n\tat org.apache.spark.executor.Executor$TaskRunner.run(Executor.scala:282)\n\tat java.util.concurrent.ThreadPoolExecutor.runWorker(ThreadPoolExecutor.java:1142)\n\tat java.util.concurrent.ThreadPoolExecutor$Worker.run(ThreadPoolExecutor.java:617)\n\t... 1 more\n"
     ]
    }
   ],
   "source": [
    "my_rdd.sample(False, .5).map(parse_int).collect()"
   ]
  },
  {
   "cell_type": "markdown",
   "metadata": {
    "deletable": true,
    "editable": true
   },
   "source": [
    "## Bonus Exercise ##\n",
    "\n",
    "Let's up the stakes. For this exercise, regular expressions are *not allowed.*\n",
    "- How many SOWPODS words contain double 'aa's?\n",
    "- How about 'bb', 'cc', 'dd', ..., 'zz'?\n",
    "- There are 3 SOWPODS words that contain triple letters. What are they?"
   ]
  },
  {
   "cell_type": "code",
   "execution_count": null,
   "metadata": {
    "collapsed": true,
    "deletable": true,
    "editable": true
   },
   "outputs": [],
   "source": []
  }
 ],
 "metadata": {
  "kernelspec": {
   "display_name": "Python 2",
   "language": "python",
   "name": "python2"
  },
  "language_info": {
   "codemirror_mode": {
    "name": "ipython",
    "version": 2
   },
   "file_extension": ".py",
   "mimetype": "text/x-python",
   "name": "python",
   "nbconvert_exporter": "python",
   "pygments_lexer": "ipython2",
   "version": "2.7.13"
  }
 },
 "nbformat": 4,
 "nbformat_minor": 2
}

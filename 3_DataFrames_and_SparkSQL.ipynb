{
 "cells": [
  {
   "cell_type": "markdown",
   "metadata": {
    "deletable": true,
    "editable": true
   },
   "source": [
    "# DataFrames and Spark SQL#\n",
    "\n",
    "This lab will get you started with to higher-level abstractions: DataFrames and Spark SQL."
   ]
  },
  {
   "cell_type": "code",
   "execution_count": 2,
   "metadata": {
    "collapsed": false,
    "deletable": true,
    "editable": true
   },
   "outputs": [
    {
     "ename": "NameError",
     "evalue": "name 'sc' is not defined",
     "output_type": "error",
     "traceback": [
      "\u001b[0;31m---------------------------------------------------------------------------\u001b[0m",
      "\u001b[0;31mNameError\u001b[0m                                 Traceback (most recent call last)",
      "\u001b[0;32m<ipython-input-2-ee8101b8fe58>\u001b[0m in \u001b[0;36m<module>\u001b[0;34m()\u001b[0m\n\u001b[0;32m----> 1\u001b[0;31m \u001b[0;32mprint\u001b[0m \u001b[0msc\u001b[0m\u001b[0;34m\u001b[0m\u001b[0m\n\u001b[0m",
      "\u001b[0;31mNameError\u001b[0m: name 'sc' is not defined"
     ]
    }
   ],
   "source": [
    "print sc"
   ]
  },
  {
   "cell_type": "markdown",
   "metadata": {
    "deletable": true,
    "editable": true
   },
   "source": [
    "## *The Martian* ##\n",
    "\n",
    "Let's start by invoking a SQLContext and loading a dataset containing book reviews for Andy Weir's *The Martian*"
   ]
  },
  {
   "cell_type": "code",
   "execution_count": 3,
   "metadata": {
    "collapsed": false,
    "deletable": true,
    "editable": true
   },
   "outputs": [
    {
     "ename": "NameError",
     "evalue": "name 'sc' is not defined",
     "output_type": "error",
     "traceback": [
      "\u001b[0;31m---------------------------------------------------------------------------\u001b[0m",
      "\u001b[0;31mNameError\u001b[0m                                 Traceback (most recent call last)",
      "\u001b[0;32m<ipython-input-3-e6f54740cd77>\u001b[0m in \u001b[0;36m<module>\u001b[0;34m()\u001b[0m\n\u001b[0;32m----> 1\u001b[0;31m \u001b[0msql_sc\u001b[0m \u001b[0;34m=\u001b[0m \u001b[0mSQLContext\u001b[0m\u001b[0;34m(\u001b[0m\u001b[0msc\u001b[0m\u001b[0;34m)\u001b[0m\u001b[0;34m\u001b[0m\u001b[0m\n\u001b[0m\u001b[1;32m      2\u001b[0m \u001b[0;34m\u001b[0m\u001b[0m\n\u001b[1;32m      3\u001b[0m df = sqlContext.read.csv(\n\u001b[1;32m      4\u001b[0m     \u001b[0;34m\"./data/amazon_book_reviews/Andy-Weir-The-Martian.csv\"\u001b[0m\u001b[0;34m,\u001b[0m\u001b[0;34m\u001b[0m\u001b[0m\n\u001b[1;32m      5\u001b[0m     \u001b[0msep\u001b[0m\u001b[0;34m=\u001b[0m\u001b[0;34m\"\\t\"\u001b[0m\u001b[0;34m\u001b[0m\u001b[0m\n",
      "\u001b[0;31mNameError\u001b[0m: name 'sc' is not defined"
     ]
    }
   ],
   "source": [
    "sql_sc = SQLContext(sc)\n",
    "\n",
    "df = sqlContext.read.csv(\n",
    "    \"./data/amazon_book_reviews/Andy-Weir-The-Martian.csv\",\n",
    "    sep=\"\\t\"\n",
    ")"
   ]
  },
  {
   "cell_type": "markdown",
   "metadata": {
    "deletable": true,
    "editable": true
   },
   "source": [
    "How many reviews do we have?"
   ]
  },
  {
   "cell_type": "code",
   "execution_count": 4,
   "metadata": {
    "collapsed": false,
    "deletable": true,
    "editable": true
   },
   "outputs": [
    {
     "ename": "NameError",
     "evalue": "name 'df' is not defined",
     "output_type": "error",
     "traceback": [
      "\u001b[0;31m---------------------------------------------------------------------------\u001b[0m",
      "\u001b[0;31mNameError\u001b[0m                                 Traceback (most recent call last)",
      "\u001b[0;32m<ipython-input-4-956d648fbc30>\u001b[0m in \u001b[0;36m<module>\u001b[0;34m()\u001b[0m\n\u001b[0;32m----> 1\u001b[0;31m \u001b[0mdf\u001b[0m\u001b[0;34m.\u001b[0m\u001b[0mcount\u001b[0m\u001b[0;34m(\u001b[0m\u001b[0;34m)\u001b[0m\u001b[0;34m\u001b[0m\u001b[0m\n\u001b[0m",
      "\u001b[0;31mNameError\u001b[0m: name 'df' is not defined"
     ]
    }
   ],
   "source": [
    "df.count()"
   ]
  },
  {
   "cell_type": "markdown",
   "metadata": {
    "deletable": true,
    "editable": true
   },
   "source": [
    "What are the column names and data types?"
   ]
  },
  {
   "cell_type": "code",
   "execution_count": 5,
   "metadata": {
    "collapsed": false,
    "deletable": true,
    "editable": true
   },
   "outputs": [
    {
     "ename": "NameError",
     "evalue": "name 'df' is not defined",
     "output_type": "error",
     "traceback": [
      "\u001b[0;31m---------------------------------------------------------------------------\u001b[0m",
      "\u001b[0;31mNameError\u001b[0m                                 Traceback (most recent call last)",
      "\u001b[0;32m<ipython-input-5-95faa30ac5cd>\u001b[0m in \u001b[0;36m<module>\u001b[0;34m()\u001b[0m\n\u001b[0;32m----> 1\u001b[0;31m \u001b[0mdf\u001b[0m\u001b[0;34m.\u001b[0m\u001b[0mdtypes\u001b[0m\u001b[0;34m\u001b[0m\u001b[0m\n\u001b[0m",
      "\u001b[0;31mNameError\u001b[0m: name 'df' is not defined"
     ]
    }
   ],
   "source": [
    "df.dtypes"
   ]
  },
  {
   "cell_type": "markdown",
   "metadata": {
    "deletable": true,
    "editable": true
   },
   "source": [
    "Let's look at the top three rows in the dataset."
   ]
  },
  {
   "cell_type": "code",
   "execution_count": 6,
   "metadata": {
    "collapsed": false,
    "deletable": true,
    "editable": true,
    "scrolled": true
   },
   "outputs": [
    {
     "ename": "NameError",
     "evalue": "name 'df' is not defined",
     "output_type": "error",
     "traceback": [
      "\u001b[0;31m---------------------------------------------------------------------------\u001b[0m",
      "\u001b[0;31mNameError\u001b[0m                                 Traceback (most recent call last)",
      "\u001b[0;32m<ipython-input-6-2fe827271874>\u001b[0m in \u001b[0;36m<module>\u001b[0;34m()\u001b[0m\n\u001b[0;32m----> 1\u001b[0;31m \u001b[0mdf\u001b[0m\u001b[0;34m.\u001b[0m\u001b[0mhead\u001b[0m\u001b[0;34m(\u001b[0m\u001b[0;36m3\u001b[0m\u001b[0;34m)\u001b[0m\u001b[0;34m\u001b[0m\u001b[0m\n\u001b[0m",
      "\u001b[0;31mNameError\u001b[0m: name 'df' is not defined"
     ]
    }
   ],
   "source": [
    "df.head(3)"
   ]
  },
  {
   "cell_type": "markdown",
   "metadata": {
    "deletable": true,
    "editable": true
   },
   "source": [
    "Let's give the columns meaningful names. Since Spark DataFrames are built on top of RDDs and RDDs are immutable, we have to create a new data set."
   ]
  },
  {
   "cell_type": "code",
   "execution_count": 7,
   "metadata": {
    "collapsed": false,
    "deletable": true,
    "editable": true
   },
   "outputs": [],
   "source": [
    "df2 = df \\\n",
    "    .toDF(*[\"score\", \"url\", \"title\", \"review\"])"
   ]
  },
  {
   "cell_type": "markdown",
   "metadata": {
    "deletable": true,
    "editable": true
   },
   "source": [
    "How's that look?"
   ]
  },
  {
   "cell_type": "code",
   "execution_count": 8,
   "metadata": {
    "collapsed": false,
    "deletable": true,
    "editable": true
   },
   "outputs": [
    {
     "data": {
      "text/plain": [
       "Row(score=u'4.0', url=u'/gp/customer-reviews/RKMO449VT48H3?ASIN=1491590173', title=u'4.7573214851 Stars', review=u'\"<span class=\"\"a-size-base review-text\"\">I\\'m a hard-science science fiction fan and would rather read hard sc-fi than almost anything. I love stories and movies about Mars, and I\\'m a fan of survival, castaway, and man-against-the elements stories. I loved Robinson Crusoe, so it should not surprise you that I loved the movie, Robinson Crusoe on Mars. I realize it\\'s not Academy Award material, but to me, it\\'s everything I want it to be, as was this book, The Martian.<br/><br/>The main character, Watney, presumed dead, is accidentally left by his crew mates when an intense Martian dust storm forces them to abort their mission. What follows for part of the book is a logbook style narrative that describes in great technical detail Watney\\'s efforts to extend his life until the next scheduled mission arrives in 4 years. After reading just the first 20% of the book (my Kindle has no page numbers) one can\\'t help but be impressed by the author\\'s depth of knowledge in this regard. In fact, the entire book is an astronaut\\'s primer on extraterrestrial and deep space survival and rescue.<br/><br/>The Martian isn\\'t without its typos and editorial glitches, and I\\'m not sure if this was a result of a bad Kindle conversion or just a shortsighted editor. For me, though, typos and editing issues paled in comparison to the snowballing storyline, which I gladly admit is not for everyone.<br/><br/>This is not a touchy-feely book about love, romance or relationships. There is no overpowering angle between characters. No good guys in white hats and bad guys in black hats. There\\'s no room for cliches. It\\'s all very business like and scientific. So, if you\\'re looking for Twilight in Space. Or Fifty Shades of Mars. Or Tom Hanks making himself a friend by drawing a face on a soccer ball, you\\'ll probably want to skip this one. This book is simply about the mission, and the cold reality of working hard to turn a wrong into a right.<br/><br/>Another thing you won\\'t find in this book is a lot of heartfelt reminiscing or reflection. There are no flashbacks of our main character fishing with Dad at the old water hole, or him riding his first bicycle without training wheels. This is a book about a guy with a keen intellect surviving on a hostile planet and doing so by making the most out of a given set of resources.<br/><br/>About a third of the way through the book, the author adds third person narratives from mission control and the Hermes space craft, the latter manned by the crew that left our hero behind -- and make no mistake, hero is the operative word. Again, we don\\'t follow our mission control cast of characters back too their respective homes and meet their wives and husbands and get served up cliche insights into their innermost thoughts. Blech! I hate those stories! Which doesn\\'t mean these characters are cookie cutter or superficial. On the contrary, I found the characters sufficiently individuated and interesting.<br/><br/>I highly recommend this book to people who are into reading hard sci-fi of the not-too-distant future, sci-fi without blasters and ray guns or 9\\' tall aliens that bleed acid. (Btw, I like those stories, too, but good ones are hard to find.)<br/><br/>Somebody did their homework on this one -- and that\\'s what stands out above all else.</span>\"')"
      ]
     },
     "execution_count": 8,
     "metadata": {},
     "output_type": "execute_result"
    }
   ],
   "source": [
    "df2.head()"
   ]
  },
  {
   "cell_type": "markdown",
   "metadata": {
    "deletable": true,
    "editable": true
   },
   "source": [
    "## Scores ##\n",
    "\n",
    "Better. Let's use some SQL-like function to inspect `scores`. These are the star ratings that people gave to The Martian in their reviews."
   ]
  },
  {
   "cell_type": "code",
   "execution_count": 9,
   "metadata": {
    "collapsed": false,
    "deletable": true,
    "editable": true
   },
   "outputs": [
    {
     "name": "stdout",
     "output_type": "stream",
     "text": [
      "+-----+\n",
      "|score|\n",
      "+-----+\n",
      "|  4.0|\n",
      "|  3.0|\n",
      "|  4.0|\n",
      "|  5.0|\n",
      "|  5.0|\n",
      "|  5.0|\n",
      "|  3.0|\n",
      "|  3.0|\n",
      "|  5.0|\n",
      "|  5.0|\n",
      "|  4.0|\n",
      "|  3.0|\n",
      "|  2.0|\n",
      "|  5.0|\n",
      "|  3.0|\n",
      "|  2.0|\n",
      "|  3.0|\n",
      "|  5.0|\n",
      "|  3.0|\n",
      "|  3.0|\n",
      "+-----+\n",
      "only showing top 20 rows\n",
      "\n"
     ]
    }
   ],
   "source": [
    "df2.select(\"score\").show()"
   ]
  },
  {
   "cell_type": "markdown",
   "metadata": {
    "deletable": true,
    "editable": true
   },
   "source": [
    "How common is each rating? We can use more SQL-like syntax to inspect."
   ]
  },
  {
   "cell_type": "code",
   "execution_count": 10,
   "metadata": {
    "collapsed": false,
    "deletable": true,
    "editable": true
   },
   "outputs": [
    {
     "name": "stdout",
     "output_type": "stream",
     "text": [
      "+-----+-----+\n",
      "|score|count|\n",
      "+-----+-----+\n",
      "|  1.0|  236|\n",
      "|  2.0|  286|\n",
      "|  3.0| 3010|\n",
      "|  4.0| 5626|\n",
      "|  5.0|13413|\n",
      "+-----+-----+\n",
      "\n"
     ]
    }
   ],
   "source": [
    "_result = (df2\n",
    "    .groupBy(\"score\")\n",
    "    .count()\n",
    "    .orderBy(\"score\")\n",
    ")\n",
    "\n",
    "_result.show()"
   ]
  },
  {
   "cell_type": "code",
   "execution_count": 11,
   "metadata": {
    "collapsed": false,
    "deletable": true,
    "editable": true
   },
   "outputs": [
    {
     "data": {
      "text/html": [
       "<div>\n",
       "<table border=\"1\" class=\"dataframe\">\n",
       "  <thead>\n",
       "    <tr style=\"text-align: right;\">\n",
       "      <th></th>\n",
       "      <th>score</th>\n",
       "      <th>count</th>\n",
       "    </tr>\n",
       "  </thead>\n",
       "  <tbody>\n",
       "    <tr>\n",
       "      <th>0</th>\n",
       "      <td>1.0</td>\n",
       "      <td>236</td>\n",
       "    </tr>\n",
       "    <tr>\n",
       "      <th>1</th>\n",
       "      <td>2.0</td>\n",
       "      <td>286</td>\n",
       "    </tr>\n",
       "    <tr>\n",
       "      <th>2</th>\n",
       "      <td>3.0</td>\n",
       "      <td>3010</td>\n",
       "    </tr>\n",
       "    <tr>\n",
       "      <th>3</th>\n",
       "      <td>4.0</td>\n",
       "      <td>5626</td>\n",
       "    </tr>\n",
       "    <tr>\n",
       "      <th>4</th>\n",
       "      <td>5.0</td>\n",
       "      <td>13413</td>\n",
       "    </tr>\n",
       "  </tbody>\n",
       "</table>\n",
       "</div>"
      ],
      "text/plain": [
       "  score  count\n",
       "0   1.0    236\n",
       "1   2.0    286\n",
       "2   3.0   3010\n",
       "3   4.0   5626\n",
       "4   5.0  13413"
      ]
     },
     "execution_count": 11,
     "metadata": {},
     "output_type": "execute_result"
    }
   ],
   "source": [
    "_result_df = _result.toPandas()\n",
    "_result_df"
   ]
  },
  {
   "cell_type": "code",
   "execution_count": 12,
   "metadata": {
    "collapsed": false,
    "deletable": true,
    "editable": true
   },
   "outputs": [
    {
     "data": {
      "text/plain": [
       "<matplotlib.text.Text at 0x1169ea0d0>"
      ]
     },
     "execution_count": 12,
     "metadata": {},
     "output_type": "execute_result"
    },
    {
     "data": {
      "image/png": "[encoded data removed]",
      "text/plain": [
       "<matplotlib.figure.Figure at 0x1136329d0>"
      ]
     },
     "metadata": {},
     "output_type": "display_data"
    }
   ],
   "source": [
    "%matplotlib inline\n",
    "\n",
    "import matplotlib\n",
    "import numpy as np\n",
    "import matplotlib.pyplot as plt\n",
    "\n",
    "plt.plot(_result_df.score, _result_df['count'])\n",
    "plt.scatter(list(_result_df['score']), _result_df['count'])\n",
    "plt.title(\"Score distribution for The Martian\")\n",
    "plt.xlabel(\"Score\")\n",
    "plt.ylabel(\"Frequency\")"
   ]
  },
  {
   "cell_type": "markdown",
   "metadata": {
    "deletable": true,
    "editable": true
   },
   "source": [
    "Mostly 5's. Not bad!\n",
    "\n",
    "Note that these \"scores\" are still stored as strings until we dump them to pandas. Let's convert them to integers, so that we can use them for ML.\n",
    "\n",
    "To do that, we need to \n",
    "1. Create a conversion function\n",
    "2. Wrap it in a sparkSQL udf\n",
    "3. Apply it to the old, string-based column\n",
    "4. Capture the result in a new dataframe (because the old one is immutable)"
   ]
  },
  {
   "cell_type": "code",
   "execution_count": 13,
   "metadata": {
    "collapsed": true,
    "deletable": true,
    "editable": true
   },
   "outputs": [],
   "source": [
    "from pyspark.sql.functions import udf\n",
    "from pyspark.sql.types import IntegerType\n",
    "\n",
    "#Create the conversion function\n",
    "def convert_to_int(x):\n",
    "    return int(float(x))\n",
    "\n",
    "assert convert_to_int(\"1.0\") == 1\n",
    "\n",
    "#Wrap it as a sparkSQL udf\n",
    "convert_to_int_udf = udf(convert_to_int, IntegerType())\n",
    "\n",
    "df3 = df2 \\\n",
    "    .withColumn(\"score_int\", convert_to_int_udf(df2.score))"
   ]
  },
  {
   "cell_type": "markdown",
   "metadata": {
    "deletable": true,
    "editable": true
   },
   "source": [
    "Let's verify that it worked by calculating the average score."
   ]
  },
  {
   "cell_type": "code",
   "execution_count": 14,
   "metadata": {
    "collapsed": false,
    "deletable": true,
    "editable": true
   },
   "outputs": [
    {
     "data": {
      "text/plain": [
       "[Row(avg(score_int)=4.4041912188206105)]"
      ]
     },
     "execution_count": 14,
     "metadata": {},
     "output_type": "execute_result"
    }
   ],
   "source": [
    "df3.agg({\n",
    "    'score_int' : 'avg',\n",
    "}).collect()"
   ]
  },
  {
   "cell_type": "markdown",
   "metadata": {
    "deletable": true,
    "editable": true
   },
   "source": [
    "...and just for fun, let's get some other stats, too."
   ]
  },
  {
   "cell_type": "code",
   "execution_count": 15,
   "metadata": {
    "collapsed": false,
    "deletable": true,
    "editable": true
   },
   "outputs": [
    {
     "name": "stdout",
     "output_type": "stream",
     "text": [
      "[Row(stddev(score_int)=0.8420590917433144)]\n",
      "[Row(min(score_int)=1)]\n",
      "[Row(max(score_int)=5)]\n"
     ]
    }
   ],
   "source": [
    "print df3.agg({\n",
    "    'score_int' : 'stddev',\n",
    "}).collect()\n",
    "\n",
    "print df3.agg({\n",
    "    'score_int' : 'min',\n",
    "}).collect()\n",
    "\n",
    "print df3.agg({\n",
    "    'score_int' : 'max',\n",
    "}).collect()"
   ]
  },
  {
   "cell_type": "markdown",
   "metadata": {
    "deletable": true,
    "editable": true
   },
   "source": [
    "## Sentiment modeling ##\n",
    "\n",
    "Let's gear up now to build our first predictive model. To get there, we're going to need to extract some features from that text.\n",
    "\n",
    "We'll start by loading [wordlists](https://www.cs.uic.edu/~liub/FBS/sentiment-analysis.html#lexicon) for positive and negative sentiment. To speed up some later steps, we're going to load them as sets."
   ]
  },
  {
   "cell_type": "code",
   "execution_count": 16,
   "metadata": {
    "collapsed": false,
    "deletable": true,
    "editable": true
   },
   "outputs": [
    {
     "name": "stdout",
     "output_type": "stream",
     "text": [
      "['unencumbered', 'pardon', 'saver', 'desirable', 'encouragingly', 'sleek', 'pamperedly', 'worked', 'undisputed', 'sagely']\n",
      "['limited', 'subtract', 'suicidal', 'cussed', 'interference', 'dissolution', 'refutes', 'threatening', 'foul', 'obstruction']\n"
     ]
    }
   ],
   "source": [
    "pos_word_set = set(file(\"./data/positive_word_list.txt\").read().splitlines())\n",
    "neg_word_set = set(file(\"./data/negative_word_list.txt\").read().splitlines())\n",
    "\n",
    "print list(pos_word_set)[:10]\n",
    "print list(neg_word_set)[:10]"
   ]
  },
  {
   "cell_type": "markdown",
   "metadata": {
    "collapsed": false,
    "deletable": true,
    "editable": true
   },
   "source": [
    "Now we need to convert the raw text of the Martian reviews into positive and negative sentiment scores.\n",
    "\n",
    "First we define our UDFs."
   ]
  },
  {
   "cell_type": "code",
   "execution_count": 17,
   "metadata": {
    "collapsed": true,
    "deletable": true,
    "editable": true
   },
   "outputs": [],
   "source": [
    "import re\n",
    "\n",
    "get_len_udf = udf(len, IntegerType())\n",
    "\n",
    "def positive_sentiment_score(x):\n",
    "    token_set = set(re.findall('\\w+', x.lower()))\n",
    "    return len(pos_word_set.intersection(token_set))\n",
    "\n",
    "assert positive_sentiment_score(\"The saver is sleek and desirable and worked.\") == 4\n",
    "\n",
    "positive_sentiment_score_udf = udf(positive_sentiment_score, IntegerType())\n",
    "\n",
    "def negative_sentiment_score(x):\n",
    "    token_set = set(re.findall('\\w+', x.lower()))\n",
    "    return len(neg_word_set.intersection(token_set))\n",
    "\n",
    "negative_sentiment_score_udf = udf(negative_sentiment_score, IntegerType())\n",
    "\n",
    "assert negative_sentiment_score(\"It's a cussed limited intereference threatening to subtract.\") == 4"
   ]
  },
  {
   "cell_type": "markdown",
   "metadata": {
    "deletable": true,
    "editable": true
   },
   "source": [
    "Now let's apply all those functions. We're just going to re-create df3."
   ]
  },
  {
   "cell_type": "code",
   "execution_count": 1,
   "metadata": {
    "collapsed": false,
    "deletable": true,
    "editable": true
   },
   "outputs": [
    {
     "ename": "NameError",
     "evalue": "name 'df2' is not defined",
     "output_type": "error",
     "traceback": [
      "\u001b[0;31m---------------------------------------------------------------------------\u001b[0m",
      "\u001b[0;31mNameError\u001b[0m                                 Traceback (most recent call last)",
      "\u001b[0;32m<ipython-input-1-95dbdf8cd34f>\u001b[0m in \u001b[0;36m<module>\u001b[0;34m()\u001b[0m\n\u001b[0;32m----> 1\u001b[0;31m \u001b[0mdf3\u001b[0m \u001b[0;34m=\u001b[0m \u001b[0mdf2\u001b[0m     \u001b[0;34m.\u001b[0m\u001b[0mwithColumn\u001b[0m\u001b[0;34m(\u001b[0m\u001b[0;34m\"score_int\"\u001b[0m\u001b[0;34m,\u001b[0m \u001b[0mconvert_to_int_udf\u001b[0m\u001b[0;34m(\u001b[0m\u001b[0mdf2\u001b[0m\u001b[0;34m.\u001b[0m\u001b[0mscore\u001b[0m\u001b[0;34m)\u001b[0m\u001b[0;34m)\u001b[0m     \u001b[0;34m.\u001b[0m\u001b[0mwithColumn\u001b[0m\u001b[0;34m(\u001b[0m\u001b[0;34m\"review_len\"\u001b[0m\u001b[0;34m,\u001b[0m \u001b[0mget_len_udf\u001b[0m\u001b[0;34m(\u001b[0m\u001b[0mdf2\u001b[0m\u001b[0;34m.\u001b[0m\u001b[0mreview\u001b[0m\u001b[0;34m)\u001b[0m\u001b[0;34m)\u001b[0m     \u001b[0;34m.\u001b[0m\u001b[0mwithColumn\u001b[0m\u001b[0;34m(\u001b[0m\u001b[0;34m\"positive_sentiment\"\u001b[0m\u001b[0;34m,\u001b[0m \u001b[0mpositive_sentiment_score_udf\u001b[0m\u001b[0;34m(\u001b[0m\u001b[0mdf2\u001b[0m\u001b[0;34m.\u001b[0m\u001b[0mreview\u001b[0m\u001b[0;34m)\u001b[0m\u001b[0;34m)\u001b[0m     \u001b[0;34m.\u001b[0m\u001b[0mwithColumn\u001b[0m\u001b[0;34m(\u001b[0m\u001b[0;34m\"negative_sentiment\"\u001b[0m\u001b[0;34m,\u001b[0m \u001b[0mnegative_sentiment_score_udf\u001b[0m\u001b[0;34m(\u001b[0m\u001b[0mdf2\u001b[0m\u001b[0;34m.\u001b[0m\u001b[0mreview\u001b[0m\u001b[0;34m)\u001b[0m\u001b[0;34m)\u001b[0m\u001b[0;34m\u001b[0m\u001b[0m\n\u001b[0m",
      "\u001b[0;31mNameError\u001b[0m: name 'df2' is not defined"
     ]
    }
   ],
   "source": [
    "df3 = df2 \\\n",
    "    .withColumn(\"score_int\", convert_to_int_udf(df2.score)) \\\n",
    "    .withColumn(\"review_len\", get_len_udf(df2.review)) \\\n",
    "    .withColumn(\"positive_sentiment\", positive_sentiment_score_udf(df2.review)) \\\n",
    "    .withColumn(\"negative_sentiment\", negative_sentiment_score_udf(df2.review))"
   ]
  },
  {
   "cell_type": "markdown",
   "metadata": {
    "deletable": true,
    "editable": true
   },
   "source": [
    "Grab a sample of the data... (Do these look correlated to you?)"
   ]
  },
  {
   "cell_type": "code",
   "execution_count": 19,
   "metadata": {
    "collapsed": false,
    "deletable": true,
    "editable": true
   },
   "outputs": [
    {
     "name": "stdout",
     "output_type": "stream",
     "text": [
      "+---------+----------+------------------+------------------+\n",
      "|score_int|review_len|positive_sentiment|negative_sentiment|\n",
      "+---------+----------+------------------+------------------+\n",
      "|        4|      3298|                18|                19|\n",
      "|        3|      2066|                10|                12|\n",
      "|        4|      2246|                12|                13|\n",
      "|        5|       573|                 4|                 3|\n",
      "|        5|      1081|                12|                 6|\n",
      "|        5|      2407|                22|                17|\n",
      "|        3|       845|                 7|                 6|\n",
      "|        3|       316|                 3|                 1|\n",
      "|        5|       324|                 4|                 2|\n",
      "|        5|       582|                 3|                 0|\n",
      "|        4|      5087|                28|                30|\n",
      "|        3|      2337|                14|                13|\n",
      "|        2|      4662|                32|                20|\n",
      "|        5|      2564|                 8|                16|\n",
      "|        3|      3747|                13|                16|\n",
      "|        2|        68|                 1|                 0|\n",
      "|        3|      3047|                25|                23|\n",
      "|        5|      1954|                17|                 8|\n",
      "|        3|      1198|                 9|                 1|\n",
      "|        3|       423|                 6|                 1|\n",
      "+---------+----------+------------------+------------------+\n",
      "only showing top 20 rows\n",
      "\n"
     ]
    }
   ],
   "source": [
    "df3.select(['score_int', 'review_len', 'positive_sentiment', 'negative_sentiment']).show()"
   ]
  },
  {
   "cell_type": "code",
   "execution_count": 20,
   "metadata": {
    "collapsed": false,
    "deletable": true,
    "editable": true
   },
   "outputs": [
    {
     "data": {
      "text/plain": [
       "<matplotlib.collections.PathCollection at 0x117813a50>"
      ]
     },
     "execution_count": 20,
     "metadata": {},
     "output_type": "execute_result"
    },
    {
     "data": {
      "image/png": "[encoded data removed]",
      "text/plain": [
       "<matplotlib.figure.Figure at 0x118862f90>"
      ]
     },
     "metadata": {},
     "output_type": "display_data"
    }
   ],
   "source": [
    "df3_pandas = df3.toPandas()\n",
    "plt.scatter(df3_pandas.positive_sentiment, df3_pandas.negative_sentiment, alpha=.025)"
   ]
  },
  {
   "cell_type": "markdown",
   "metadata": {
    "deletable": true,
    "editable": true
   },
   "source": [
    "How are positive sentiment scores distributed?"
   ]
  },
  {
   "cell_type": "code",
   "execution_count": 21,
   "metadata": {
    "collapsed": false,
    "deletable": true,
    "editable": true
   },
   "outputs": [
    {
     "name": "stdout",
     "output_type": "stream",
     "text": [
      "+------------------+-----+\n",
      "|positive_sentiment|count|\n",
      "+------------------+-----+\n",
      "|                 0| 1202|\n",
      "|                 1| 5307|\n",
      "|                 2| 4535|\n",
      "|                 3| 3735|\n",
      "|                 4| 2607|\n",
      "|                 5| 1674|\n",
      "|                 6| 1021|\n",
      "|                 7|  694|\n",
      "|                 8|  473|\n",
      "|                 9|  341|\n",
      "|                10|  232|\n",
      "|                11|  168|\n",
      "|                12|  107|\n",
      "|                13|   90|\n",
      "|                14|   69|\n",
      "|                15|   60|\n",
      "|                16|   40|\n",
      "|                17|   42|\n",
      "|                18|   29|\n",
      "|                19|   22|\n",
      "+------------------+-----+\n",
      "only showing top 20 rows\n",
      "\n"
     ]
    }
   ],
   "source": [
    "(\n",
    "    df3\n",
    "        .groupby('positive_sentiment')\n",
    "        .count()\n",
    "        .sort('positive_sentiment')\n",
    "        .show()\n",
    ")"
   ]
  },
  {
   "cell_type": "markdown",
   "metadata": {
    "deletable": true,
    "editable": true
   },
   "source": [
    "And negative...?"
   ]
  },
  {
   "cell_type": "code",
   "execution_count": 22,
   "metadata": {
    "collapsed": false,
    "deletable": true,
    "editable": true
   },
   "outputs": [
    {
     "name": "stdout",
     "output_type": "stream",
     "text": [
      "+------------------+-----+\n",
      "|negative_sentiment|count|\n",
      "+------------------+-----+\n",
      "|                 0|10754|\n",
      "|                 1| 5598|\n",
      "|                 2| 2644|\n",
      "|                 3| 1304|\n",
      "|                 4|  730|\n",
      "|                 5|  414|\n",
      "|                 6|  259|\n",
      "|                 7|  199|\n",
      "|                 8|  138|\n",
      "|                 9|  104|\n",
      "|                10|   66|\n",
      "|                11|   65|\n",
      "|                12|   56|\n",
      "|                13|   43|\n",
      "|                14|   35|\n",
      "|                15|   17|\n",
      "|                16|   24|\n",
      "|                17|   26|\n",
      "|                18|   11|\n",
      "|                19|   19|\n",
      "+------------------+-----+\n",
      "only showing top 20 rows\n",
      "\n"
     ]
    }
   ],
   "source": [
    "(\n",
    "    df3\n",
    "        .groupby('negative_sentiment')\n",
    "        .count()\n",
    "        .sort('negative_sentiment')\n",
    "        .show()\n",
    ")"
   ]
  },
  {
   "cell_type": "markdown",
   "metadata": {
    "collapsed": true,
    "deletable": true,
    "editable": true
   },
   "source": [
    "Let's use SQL syntax to look for general patterns in sentiment.\n",
    "\n",
    "To do that, we first register `df3` as a table in spark.sql. Then we can use SQL syntax to inspect it.\n",
    "\n",
    "There are many ways we could slice the data. One good one is to look at net positivity per thousand words. This balances positive and negative sentiment, and also controls for the length of reviews."
   ]
  },
  {
   "cell_type": "code",
   "execution_count": 23,
   "metadata": {
    "collapsed": false,
    "deletable": true,
    "editable": true
   },
   "outputs": [
    {
     "name": "stdout",
     "output_type": "stream",
     "text": [
      "+-----+--------+----------------------------+-------------------+\n",
      "|score|count(1)|net_positivity_per_1000words|             stderr|\n",
      "+-----+--------+----------------------------+-------------------+\n",
      "|  1.0|     236|          1.4227200501472765| 0.6087601559657656|\n",
      "|  2.0|     286|           6.542463274800939| 0.4885662136721518|\n",
      "|  3.0|    3010|            8.81046970667028|0.15367325748251096|\n",
      "|  4.0|    5626|           8.985647815047667| 0.1127071877576759|\n",
      "|  5.0|   13413|           9.320046770446156|0.07299042337041249|\n",
      "+-----+--------+----------------------------+-------------------+\n",
      "\n"
     ]
    }
   ],
   "source": [
    "df3.createOrReplaceTempView(\"df3\")\n",
    "\n",
    "_result = spark.sql(\"\"\"\n",
    "SELECT\n",
    "    score,\n",
    "    COUNT(*),\n",
    "    AVG(1000*(positive_sentiment - negative_sentiment)/review_len) AS net_positivity_per_1000words,\n",
    "    STDDEV(1000*(positive_sentiment - negative_sentiment)/review_len) / SQRT(COUNT(*)) AS stderr\n",
    "FROM df3\n",
    "GROUP BY score\n",
    "ORDER BY score\n",
    "\"\"\")\n",
    "_result.show()"
   ]
  },
  {
   "cell_type": "code",
   "execution_count": 24,
   "metadata": {
    "collapsed": false,
    "deletable": true,
    "editable": true
   },
   "outputs": [
    {
     "data": {
      "text/plain": [
       "[<matplotlib.lines.Line2D at 0x117857cd0>]"
      ]
     },
     "execution_count": 24,
     "metadata": {},
     "output_type": "execute_result"
    },
    {
     "data": {
      "image/png": "[encoded data removed]",
      "text/plain": [
       "<matplotlib.figure.Figure at 0x117c19f50>"
      ]
     },
     "metadata": {},
     "output_type": "display_data"
    }
   ],
   "source": [
    "_result_df = _result.toPandas()\n",
    "plt.plot(_result_df.score, _result_df.net_positivity_per_1000words, c='blue')\n",
    "plt.plot(_result_df.score, _result_df.net_positivity_per_1000words+_result_df.stderr*1.96, c='lightblue', linestyle='--')\n",
    "plt.plot(_result_df.score, _result_df.net_positivity_per_1000words-_result_df.stderr*1.96, c='lightblue', linestyle='--')"
   ]
  },
  {
   "cell_type": "markdown",
   "metadata": {
    "deletable": true,
    "editable": true
   },
   "source": [
    "This looks pretty good. Net positivity increases strongly with improved ratings. At least some of these differences are statistically significant."
   ]
  },
  {
   "cell_type": "markdown",
   "metadata": {
    "collapsed": true,
    "deletable": true,
    "editable": true
   },
   "source": [
    "## Exercise 1 : DataFrame essentials ##\n",
    "\n",
    "Load the data for a different book review: `\"./data/amazon_book_reviews/Suzanne-Collins-The-Hunger-Games.csv\"`\n",
    "\n",
    "- How many rows does it have?\n",
    "- What are the data types?\n",
    "- What do the first 5 rows look like?\n",
    "\n",
    "Just like we did above, let's...\n",
    "- Add column names\n",
    "- Use a UDF to clean up the data type for score\n",
    "- Use a UDF and add columns for positive and negative sentiment\n",
    "\n",
    "Last, write new UDFs and add columns for\n",
    "- `review_char_length`: the number of characters in the review\n",
    "- `review_word_length`: the number of words in the review"
   ]
  },
  {
   "cell_type": "code",
   "execution_count": 25,
   "metadata": {
    "collapsed": false,
    "deletable": true,
    "editable": true
   },
   "outputs": [],
   "source": [
    "hunger_games_df = sqlContext.read.csv(\n",
    "    \"./data/amazon_book_reviews/Suzanne-Collins-The-Hunger-Games.csv\",\n",
    "    sep=\"\\t\"\n",
    ")"
   ]
  },
  {
   "cell_type": "markdown",
   "metadata": {
    "collapsed": true,
    "deletable": true,
    "editable": true
   },
   "source": [
    "## Exercise 2 : Convenient abstraction ##\n",
    "\n",
    "Create a function that accepts a filename as an argument, does everything we did in Exercise 1, and returns the resulting Spark DataFrame."
   ]
  },
  {
   "cell_type": "code",
   "execution_count": 34,
   "metadata": {
    "collapsed": true,
    "deletable": true,
    "editable": true
   },
   "outputs": [],
   "source": [
    "def load_and_clean_book_review_df(filename):\n",
    "    review_df = sqlContext.read.csv(filename, sep=\"\\t\")\n",
    "    \n",
    "    \n",
    "    return review_df"
   ]
  },
  {
   "cell_type": "markdown",
   "metadata": {
    "deletable": true,
    "editable": true
   },
   "source": [
    "## Exercise 3 : Aggregation queries ##\n",
    "\n",
    "There are 8 books in `data/amazon_book_reviews/`:\n",
    "```\n",
    "    Andy-Weir-The-Martian.csv\n",
    "    Donna-Tartt-The-Goldfinch.csv\n",
    "    Suzanne-Collins-The-Hunger-Games.csv\n",
    "    Laura-Hillenbrand-Unbroken.csv\n",
    "    EL-James-Fifty-Shades-of-Grey.csv\n",
    "    John-Green-The-Fault-in-our-Stars.csv\n",
    "    Paula_Hawkins-The-Girl-On-The-Train.csv\n",
    "    Fillian_Flynn-Gone_Girl.csv\n",
    "```\n",
    "Pick a new book review and load it using your function.\n",
    "\n",
    "- Use `select` to show the first five rows\n",
    "- Use `agg` to calculate the mean, stddev, min, and max scores for \n",
    "- What is the average positivity score?\n",
    "- ...Negativity score?\n",
    "- ...Net positivity per 1000 words?"
   ]
  },
  {
   "cell_type": "code",
   "execution_count": 35,
   "metadata": {
    "collapsed": false,
    "deletable": true,
    "editable": true
   },
   "outputs": [
    {
     "name": "stdout",
     "output_type": "stream",
     "text": [
      "[Row(stddev(score)=1.2884680069300456)]\n",
      "[Row(min(score)=u'1.0')]\n",
      "[Row(max(score)=u'5.0')]\n",
      "[('score', 'int'), ('url', 'string'), ('title', 'string'), ('review', 'string'), ('review_len', 'int'), ('positive_sentiment', 'int'), ('negative_sentiment', 'int')]\n",
      "+-----+----------------------------+\n",
      "|score|net_positivity_per_1000words|\n",
      "+-----+----------------------------+\n",
      "|    1|           2.565283513027294|\n",
      "|    2|           3.550833891956671|\n",
      "|    3|           4.299278057024462|\n",
      "|    4|           4.845162697865055|\n",
      "|    5|           4.903044411473793|\n",
      "+-----+----------------------------+\n",
      "\n",
      "[Row(avg(positive_sentiment)=2.8309785223743495)]\n",
      "[Row(avg(negative_sentiment)=1.8818074449936573)]\n"
     ]
    }
   ],
   "source": [
    "sql_sc = SQLContext(sc)\n",
    "\n",
    "df = sqlContext.read.csv(\n",
    "    \"./data/amazon_book_reviews/Donna-Tartt-The-Goldfinch.csv\",\n",
    "    sep=\"\\t\"\n",
    ")\n",
    "\n",
    "df.createOrReplaceTempView(\"dftemp\")\n",
    "\n",
    "_result = spark.sql(\"\"\"\n",
    "SELECT *\n",
    "FROM dftemp\n",
    "LIMIT 10\n",
    "\"\"\")\n",
    "\n",
    "'''\n",
    "df3 = df2 \\\n",
    "    .withColumn(\"score_temp\", df2.score)\n",
    "'''    \n",
    "df = df \\\n",
    "    .toDF(*[\"score\", \"url\", \"title\", \"review\"])    \n",
    "    \n",
    "df.agg({\n",
    "    'score' : 'avg',\n",
    "}).collect()\n",
    "\n",
    "\n",
    "print df.agg({\n",
    "    'score' : 'stddev',\n",
    "}).collect()\n",
    "\n",
    "print df.agg({\n",
    "    'score' : 'min',\n",
    "}).collect()\n",
    "\n",
    "print df.agg({\n",
    "    'score' : 'max',\n",
    "}).collect()\n",
    "\n",
    "\n",
    "df2 = df \\\n",
    ".withColumn(\"score\", convert_to_int_udf(df.score)) \\\n",
    "    .withColumn(\"review_len\", get_len_udf(df.review)) \\\n",
    " .withColumn(\"positive_sentiment\", positive_sentiment_score_udf(df.review)) \\\n",
    "    .withColumn(\"negative_sentiment\", negative_sentiment_score_udf(df.review))\n",
    "    \n",
    "    \n",
    "df2.createOrReplaceTempView(\"dftemp\")\n",
    "\n",
    "print df2.dtypes\n",
    "\n",
    "_result = spark.sql(\"\"\"\n",
    "SELECT\n",
    "    score,\n",
    "    AVG(1000*(positive_sentiment - negative_sentiment)/review_len) AS net_positivity_per_1000words\n",
    "   \n",
    "FROM dftemp\n",
    "GROUP BY score\n",
    "ORDER BY score\n",
    "\"\"\")\n",
    "_result.show()\n",
    "    \n",
    "print df2.agg({\n",
    "    'positive_sentiment' : 'avg',\n",
    "}).collect()\n",
    "\n",
    "\n",
    "print df2.agg({\n",
    "    'negative_sentiment' : 'avg',\n",
    "}).collect()\n",
    "\n",
    "\n"
   ]
  },
  {
   "cell_type": "markdown",
   "metadata": {
    "deletable": true,
    "editable": true
   },
   "source": [
    "## Exercise 5 : Lather, rinse, repeat ##\n",
    "\n",
    "Try some of the other books in the Amazon book reviews dataset.\n",
    "\n",
    "- Which book has the highest average score?\n",
    "- ...the highest proportion of negative reviews? (Score = 1 or 2)\n",
    "- ...the highest net positivity per 1000 words?\n",
    "- ...the highest net positivity per 1000 words among favorable reviews?\n",
    "- ...the highest net positivity per 1000 words among unfavorable reviews?\n",
    "\n",
    "Based on the answers to these questions, can you say anything about which books were the most polarizing?\n",
    "\n",
    "- Add additional analysis if you need to.\n",
    "- Last, generate the two or three graphs that will tell your polarization story most clearly."
   ]
  },
  {
   "cell_type": "code",
   "execution_count": null,
   "metadata": {
    "collapsed": false,
    "deletable": true,
    "editable": true
   },
   "outputs": [],
   "source": [
    "import re\n",
    "\n",
    "sql_sc = SQLContext(sc)\n",
    "\n",
    "books = ['Andy-Weir-The-Martian.csv',\n",
    "    'Donna-Tartt-The-Goldfinch.csv',\n",
    "    'Suzanne-Collins-The-Hunger-Games.csv',\n",
    "    'Laura-Hillenbrand-Unbroken.csv',\n",
    "    'EL-James-Fifty-Shades-of-Grey.csv',\n",
    "    'John-Green-The-Fault-in-our-Stars.csv',\n",
    "    'Paula_Hawkins-The-Girl-On-The-Train.csv',\n",
    "    'Fillian_Flynn-Gone_Girl.csv',\n",
    "]\n",
    "\n",
    "df2  = []\n",
    "avg_scores = []\n",
    "\n",
    "final_dict = {}\n",
    "negative_dict2 = {}\n",
    "\n",
    "highest_net_positivity  = {}\n",
    "\n",
    "highest_net_positivity_fav = {}\n",
    "\n",
    "\n",
    "highest_net_neg_fav = {}\n",
    "\n",
    "for i in range(len(books)):\n",
    "\n",
    "    df = load_and_clean_book_review_df(\"./data/amazon_book_reviews/\"+books[i])\n",
    "    df = df \\\n",
    "    .toDF(*[\"score\", \"url\", \"title\", \"review\"])\n",
    "    \n",
    "    df2 = df \\\n",
    "    .withColumn(\"score\", convert_to_int_udf(df.score)) \\\n",
    "    .withColumn(\"review_len\", get_len_udf(df.review)) \\\n",
    "    .withColumn(\"positive_sentiment\", positive_sentiment_score_udf(df.review)) \\\n",
    "    .withColumn(\"negative_sentiment\", negative_sentiment_score_udf(df.review))\n",
    "    \n",
    "    neg_reviews = df2.agg({\n",
    "    'negative_sentiment' : 'max',\n",
    "    }).head()\n",
    "    \n",
    "    avg_scores = df.agg({\n",
    "    'score' : 'avg',\n",
    "    }).head()\n",
    "    \n",
    "    \n",
    "    #print(avg_scores.count)\n",
    "    avg_scores_num = avg_scores[0]\n",
    "    \n",
    "    final_dict[books[i]] = avg_scores_num\n",
    "    \n",
    "    negative_dict2[books[i]] = neg_reviews[0]\n",
    "    \n",
    "    df2.createOrReplaceTempView(\"dftemp\")\n",
    "\n",
    "    #print df2.dtypes\n",
    "\n",
    "    _result = spark.sql(\"\"\"\n",
    "    SELECT       \n",
    "        AVG(1000*(positive_sentiment - negative_sentiment)/review_len) AS net_positivity_per_1000words\n",
    "    FROM dftemp\n",
    "   \n",
    "    \"\"\")\n",
    "    \n",
    "    highest_net_positivity[books[i]] =  _result.head()[0]\n",
    "    \n",
    "    df2.createOrReplaceTempView(\"dftemp2\")\n",
    "\n",
    "    _result = spark.sql(\"\"\"\n",
    "    SELECT max(net_positivity_per_1000words) FROM (\n",
    "    SELECT       \n",
    "        positive_sentiment,\n",
    "        AVG(1000*(positive_sentiment - negative_sentiment)/review_len) AS net_positivity_per_1000words       \n",
    "    FROM dftemp2\n",
    "    GROUP BY positive_sentiment)\n",
    "    \n",
    "    \"\"\")\n",
    "    \n",
    "    highest_net_positivity_fav[books[i]] =  _result.head()[0]\n",
    "    \n",
    "    df2.createOrReplaceTempView(\"dftemp2\")\n",
    "\n",
    "    _result = spark.sql(\"\"\"\n",
    "    SELECT max(net_positivity_per_1000words) FROM (\n",
    "    SELECT       \n",
    "        negative_sentiment,\n",
    "        AVG(1000*(positive_sentiment - negative_sentiment)/review_len) AS net_positivity_per_1000words       \n",
    "    FROM dftemp2\n",
    "    GROUP BY negative_sentiment)\n",
    "    \n",
    "    \"\"\")\n",
    "    \n",
    "    highest_net_neg_fav[books[i]] =  _result.head()[0]\n",
    "    \n",
    "    \n",
    "    \n",
    "    \n",
    "   \n",
    "    \n",
    "\n",
    "key, value = max(final_dict.iteritems(), key=lambda x:x[1])\n",
    "print(key,value)\n",
    "#print(final_dict)\n",
    "    \n",
    "    \n",
    "key, value = max(negative_dict2.iteritems(), key=lambda x:x[1])\n",
    "print(key,value)\n",
    "#print(negative_dict2)\n",
    "    \n",
    "    \n",
    "key, value = max(highest_net_positivity.iteritems(), key=lambda x:x[1])\n",
    "print(key,value)\n",
    "\n",
    "    \n",
    "\n",
    "key, value = max(highest_net_positivity_fav.iteritems(), key=lambda x:x[1])\n",
    "print(key,value)\n",
    "\n",
    "\n",
    "key, value = max(highest_net_neg_fav.iteritems(), key=lambda x:x[1])\n",
    "print(key,value)\n",
    "\n",
    "\n",
    "\n",
    "\n"
   ]
  },
  {
   "cell_type": "code",
   "execution_count": null,
   "metadata": {
    "collapsed": true,
    "deletable": true,
    "editable": true
   },
   "outputs": [],
   "source": []
  }
 ],
 "metadata": {
  "kernelspec": {
   "display_name": "Python 2",
   "language": "python",
   "name": "python2"
  },
  "language_info": {
   "codemirror_mode": {
    "name": "ipython",
    "version": 2
   },
   "file_extension": ".py",
   "mimetype": "text/x-python",
   "name": "python",
   "nbconvert_exporter": "python",
   "pygments_lexer": "ipython2",
   "version": "2.7.13"
  }
 },
 "nbformat": 4,
 "nbformat_minor": 2
}
